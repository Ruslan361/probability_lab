{
 "cells": [
  {
   "cell_type": "code",
   "execution_count": 25,
   "metadata": {},
   "outputs": [
    {
     "data": {
      "text/latex": [
       "$\\displaystyle \\sqrt{2} \\sqrt{\\frac{1}{k \\left(k^{2} + 1\\right)}}$"
      ],
      "text/plain": [
       "sqrt(2)*sqrt(1/(k*(k**2 + 1)))"
      ]
     },
     "execution_count": 25,
     "metadata": {},
     "output_type": "execute_result"
    }
   ],
   "source": [
    "import sympy as sp\n",
    "x, k, phi = sp.symbols(r'x k \\phi')\n",
    "\n",
    "# c = (-k**2 + sp.sqrt(k**4 + 8*k))/(2*k)\n",
    "c = sp.sqrt(2/(k*(1+k**2)))\n",
    "c"
   ]
  },
  {
   "cell_type": "code",
   "execution_count": 26,
   "metadata": {},
   "outputs": [
    {
     "data": {
      "text/latex": [
       "$\\displaystyle \\sqrt{2} \\sqrt{\\frac{1}{k \\left(k^{2} + 1\\right)}} - \\frac{- \\phi + x}{k}$"
      ],
      "text/plain": [
       "sqrt(2)*sqrt(1/(k*(k**2 + 1))) - (-\\phi + x)/k"
      ]
     },
     "execution_count": 26,
     "metadata": {},
     "output_type": "execute_result"
    }
   ],
   "source": [
    "subintegral_function_1 = c - 1/k*(x-phi)\n",
    "subintegral_function_1"
   ]
  },
  {
   "cell_type": "code",
   "execution_count": 27,
   "metadata": {},
   "outputs": [
    {
     "data": {
      "text/latex": [
       "$\\displaystyle - \\sqrt{2} \\sqrt{\\frac{1}{k \\left(k^{2} + 1\\right)}} + \\frac{- \\phi + x}{k}$"
      ],
      "text/plain": [
       "-sqrt(2)*sqrt(1/(k*(k**2 + 1))) + (-\\phi + x)/k"
      ]
     },
     "execution_count": 27,
     "metadata": {},
     "output_type": "execute_result"
    }
   ],
   "source": [
    "subintegral_function_2 = -c + 1/k*(x-phi)\n",
    "subintegral_function_2"
   ]
  },
  {
   "cell_type": "code",
   "execution_count": 28,
   "metadata": {},
   "outputs": [
    {
     "name": "stdout",
     "output_type": "stream",
     "text": [
      "\\phi**2/(2*k) - \\phi*(\\phi/k + sqrt(2)*sqrt(1/(k**3 + k))) + x*(\\phi/k + sqrt(2)*sqrt(1/(k**3 + k))) - x**2/(2*k)\n"
     ]
    },
    {
     "data": {
      "text/latex": [
       "$\\displaystyle \\frac{\\phi^{2}}{2 k} - \\phi \\left(\\frac{\\phi}{k} + \\sqrt{2} \\sqrt{\\frac{1}{k^{3} + k}}\\right) + x \\left(\\frac{\\phi}{k} + \\sqrt{2} \\sqrt{\\frac{1}{k^{3} + k}}\\right) - \\frac{x^{2}}{2 k}$"
      ],
      "text/plain": [
       "\\phi**2/(2*k) - \\phi*(\\phi/k + sqrt(2)*sqrt(1/(k**3 + k))) + x*(\\phi/k + sqrt(2)*sqrt(1/(k**3 + k))) - x**2/(2*k)"
      ]
     },
     "execution_count": 28,
     "metadata": {},
     "output_type": "execute_result"
    }
   ],
   "source": [
    "distribution_function_1 = sp.integrate(subintegral_function_1, (x, phi, x))\n",
    "print(distribution_function_1)\n",
    "distribution_function_1"
   ]
  },
  {
   "cell_type": "code",
   "execution_count": 29,
   "metadata": {},
   "outputs": [
    {
     "data": {
      "text/latex": [
       "$\\displaystyle x \\left(- \\frac{\\phi}{k} - \\sqrt{2} \\sqrt{\\frac{1}{k^{3} + k}}\\right) - \\left(\\phi + \\sqrt{2} k \\sqrt{\\frac{1}{k \\left(k^{2} + 1\\right)}}\\right) \\left(- \\frac{\\phi}{k} - \\sqrt{2} \\sqrt{\\frac{1}{k^{3} + k}}\\right) + \\frac{x^{2}}{2 k} - \\frac{\\left(\\phi + \\sqrt{2} k \\sqrt{\\frac{1}{k \\left(k^{2} + 1\\right)}}\\right)^{2}}{2 k}$"
      ],
      "text/plain": [
       "x*(-\\phi/k - sqrt(2)*sqrt(1/(k**3 + k))) - (\\phi + sqrt(2)*k*sqrt(1/(k*(k**2 + 1))))*(-\\phi/k - sqrt(2)*sqrt(1/(k**3 + k))) + x**2/(2*k) - (\\phi + sqrt(2)*k*sqrt(1/(k*(k**2 + 1))))**2/(2*k)"
      ]
     },
     "execution_count": 29,
     "metadata": {},
     "output_type": "execute_result"
    }
   ],
   "source": [
    "distribution_function_2 = sp.integrate(subintegral_function_2, (x, phi + k*c, x))\n",
    "distribution_function_2"
   ]
  },
  {
   "cell_type": "code",
   "execution_count": 30,
   "metadata": {},
   "outputs": [
    {
     "ename": "TypeError",
     "evalue": "cannot determine truth value of Relational",
     "output_type": "error",
     "traceback": [
      "\u001b[1;31m---------------------------------------------------------------------------\u001b[0m",
      "\u001b[1;31mTypeError\u001b[0m                                 Traceback (most recent call last)",
      "Cell \u001b[1;32mIn[30], line 42\u001b[0m, in \u001b[0;36mfind_extrema_on_interval\u001b[1;34m(f, var, interval)\u001b[0m\n\u001b[0;32m     41\u001b[0m numeric_value \u001b[38;5;241m=\u001b[39m sp\u001b[38;5;241m.\u001b[39mN(value)\n\u001b[1;32m---> 42\u001b[0m \u001b[38;5;28;01mif\u001b[39;00m numeric_value \u001b[38;5;241m<\u001b[39m min_value:\n\u001b[0;32m     43\u001b[0m     min_value, min_point \u001b[38;5;241m=\u001b[39m numeric_value, point\n",
      "File \u001b[1;32m~\\AppData\\Roaming\\Python\\Python312\\site-packages\\sympy\\core\\relational.py:510\u001b[0m, in \u001b[0;36mRelational.__bool__\u001b[1;34m(self)\u001b[0m\n\u001b[0;32m    509\u001b[0m \u001b[38;5;28;01mdef\u001b[39;00m \u001b[38;5;21m__bool__\u001b[39m(\u001b[38;5;28mself\u001b[39m):\n\u001b[1;32m--> 510\u001b[0m     \u001b[38;5;28;01mraise\u001b[39;00m \u001b[38;5;167;01mTypeError\u001b[39;00m(\u001b[38;5;124m\"\u001b[39m\u001b[38;5;124mcannot determine truth value of Relational\u001b[39m\u001b[38;5;124m\"\u001b[39m)\n",
      "\u001b[1;31mTypeError\u001b[0m: cannot determine truth value of Relational",
      "\nDuring handling of the above exception, another exception occurred:\n",
      "\u001b[1;31mTypeError\u001b[0m                                 Traceback (most recent call last)",
      "Cell \u001b[1;32mIn[30], line 64\u001b[0m\n\u001b[0;32m     61\u001b[0m phi, k, c \u001b[38;5;241m=\u001b[39m sp\u001b[38;5;241m.\u001b[39msymbols(\u001b[38;5;124m'\u001b[39m\u001b[38;5;124mphi k c\u001b[39m\u001b[38;5;124m'\u001b[39m)\n\u001b[0;32m     62\u001b[0m interval \u001b[38;5;241m=\u001b[39m (phi, k\u001b[38;5;241m*\u001b[39mc \u001b[38;5;241m+\u001b[39m phi)      \u001b[38;5;66;03m# Задаем отрезок [phi, k*c + phi]\u001b[39;00m\n\u001b[1;32m---> 64\u001b[0m extrema \u001b[38;5;241m=\u001b[39m find_extrema_on_interval(f, x, interval)\n\u001b[0;32m     65\u001b[0m \u001b[38;5;28mprint\u001b[39m(\u001b[38;5;124m\"\u001b[39m\u001b[38;5;124mМинимум:\u001b[39m\u001b[38;5;124m\"\u001b[39m, extrema[\u001b[38;5;124m\"\u001b[39m\u001b[38;5;124mmin\u001b[39m\u001b[38;5;124m\"\u001b[39m])\n\u001b[0;32m     66\u001b[0m \u001b[38;5;28mprint\u001b[39m(\u001b[38;5;124m\"\u001b[39m\u001b[38;5;124mМаксимум:\u001b[39m\u001b[38;5;124m\"\u001b[39m, extrema[\u001b[38;5;124m\"\u001b[39m\u001b[38;5;124mmax\u001b[39m\u001b[38;5;124m\"\u001b[39m])\n",
      "Cell \u001b[1;32mIn[30], line 48\u001b[0m, in \u001b[0;36mfind_extrema_on_interval\u001b[1;34m(f, var, interval)\u001b[0m\n\u001b[0;32m     45\u001b[0m         max_value, max_point \u001b[38;5;241m=\u001b[39m numeric_value, point\n\u001b[0;32m     46\u001b[0m \u001b[38;5;28;01mexcept\u001b[39;00m \u001b[38;5;167;01mTypeError\u001b[39;00m:\n\u001b[0;32m     47\u001b[0m     \u001b[38;5;66;03m# Если не удается, работаем с символьными значениями\u001b[39;00m\n\u001b[1;32m---> 48\u001b[0m     \u001b[38;5;28;01mif\u001b[39;00m value \u001b[38;5;241m<\u001b[39m min_value:\n\u001b[0;32m     49\u001b[0m         min_value, min_point \u001b[38;5;241m=\u001b[39m value, point\n\u001b[0;32m     50\u001b[0m     \u001b[38;5;28;01mif\u001b[39;00m value \u001b[38;5;241m>\u001b[39m max_value:\n",
      "File \u001b[1;32m~\\AppData\\Roaming\\Python\\Python312\\site-packages\\sympy\\core\\relational.py:510\u001b[0m, in \u001b[0;36mRelational.__bool__\u001b[1;34m(self)\u001b[0m\n\u001b[0;32m    509\u001b[0m \u001b[38;5;28;01mdef\u001b[39;00m \u001b[38;5;21m__bool__\u001b[39m(\u001b[38;5;28mself\u001b[39m):\n\u001b[1;32m--> 510\u001b[0m     \u001b[38;5;28;01mraise\u001b[39;00m \u001b[38;5;167;01mTypeError\u001b[39;00m(\u001b[38;5;124m\"\u001b[39m\u001b[38;5;124mcannot determine truth value of Relational\u001b[39m\u001b[38;5;124m\"\u001b[39m)\n",
      "\u001b[1;31mTypeError\u001b[0m: cannot determine truth value of Relational"
     ]
    }
   ],
   "source": [
    "import sympy as sp\n",
    "\n",
    "def find_extrema_on_interval(f, var, interval):\n",
    "    \"\"\"\n",
    "    Находит максимум и минимум функции f на заданном отрезке.\n",
    "\n",
    "    :param f: Символьное выражение функции.\n",
    "    :param var: Переменная функции.\n",
    "    :param interval: Кортеж (a, b), определяющий отрезок [a, b].\n",
    "    :return: Словарь с минимумом и максимумом на отрезке.\n",
    "    \"\"\"\n",
    "    a, b = interval\n",
    "    interval_set = sp.Interval(a, b)\n",
    "    \n",
    "    # Находим первую производную\n",
    "    f_prime = sp.diff(f, var)\n",
    "    \n",
    "    # Находим критические точки на интервале, решая f'(x) = 0\n",
    "    critical_points = sp.solve(f_prime, var)\n",
    "    \n",
    "    # Отбираем только те критические точки, которые лежат на интервале [a, b]\n",
    "    critical_points = [p for p in critical_points if interval_set.contains(p)]\n",
    "    \n",
    "    # Составляем список точек для проверки (концы отрезка и критические точки)\n",
    "    points_to_check = [a, b] + critical_points\n",
    "    \n",
    "    # Вычисляем значения функции в каждой из этих точек\n",
    "    values = []\n",
    "    for point in points_to_check:\n",
    "        value = f.subs(var, point)\n",
    "        values.append((point, value))\n",
    "    \n",
    "    # Определяем максимум и минимум символически, если не удалось вычислить численно\n",
    "    min_value = sp.oo\n",
    "    max_value = -sp.oo\n",
    "    min_point = max_point = None\n",
    "\n",
    "    for point, value in values:\n",
    "        # Пытаемся определить значение численно\n",
    "        try:\n",
    "            numeric_value = sp.N(value)\n",
    "            if numeric_value < min_value:\n",
    "                min_value, min_point = numeric_value, point\n",
    "            if numeric_value > max_value:\n",
    "                max_value, max_point = numeric_value, point\n",
    "        except TypeError:\n",
    "            # Если не удается, работаем с символьными значениями\n",
    "            if value < min_value:\n",
    "                min_value, min_point = value, point\n",
    "            if value > max_value:\n",
    "                max_value, max_point = value, point\n",
    "\n",
    "    return {\n",
    "        \"min\": (min_point, min_value),\n",
    "        \"max\": (max_point, max_value)\n",
    "    }\n",
    "\n",
    "# Пример использования\n",
    "x = sp.symbols('x')\n",
    "f = x**3 - 3*x**2 + 4  # Пример функции\n",
    "phi, k, c = sp.symbols('phi k c')\n",
    "interval = (phi, k*c + phi)      # Задаем отрезок [phi, k*c + phi]\n",
    "\n",
    "extrema = find_extrema_on_interval(f, x, interval)\n",
    "print(\"Минимум:\", extrema[\"min\"])\n",
    "print(\"Максимум:\", extrema[\"max\"])\n"
   ]
  },
  {
   "cell_type": "markdown",
   "metadata": {},
   "source": [
    "## Исследование на максимум и минимум функции"
   ]
  },
  {
   "cell_type": "code",
   "execution_count": null,
   "metadata": {},
   "outputs": [
    {
     "ename": "TypeError",
     "evalue": "cannot determine truth value of Relational",
     "output_type": "error",
     "traceback": [
      "\u001b[1;31m---------------------------------------------------------------------------\u001b[0m",
      "\u001b[1;31mTypeError\u001b[0m                                 Traceback (most recent call last)",
      "Cell \u001b[1;32mIn[19], line 42\u001b[0m, in \u001b[0;36mfind_extrema_on_interval\u001b[1;34m(f, var, interval)\u001b[0m\n\u001b[0;32m     41\u001b[0m numeric_value \u001b[38;5;241m=\u001b[39m sp\u001b[38;5;241m.\u001b[39mN(value)\n\u001b[1;32m---> 42\u001b[0m \u001b[38;5;28;01mif\u001b[39;00m numeric_value \u001b[38;5;241m<\u001b[39m min_value:\n\u001b[0;32m     43\u001b[0m     min_value, min_point \u001b[38;5;241m=\u001b[39m numeric_value, point\n",
      "File \u001b[1;32m~\\AppData\\Roaming\\Python\\Python312\\site-packages\\sympy\\core\\relational.py:510\u001b[0m, in \u001b[0;36mRelational.__bool__\u001b[1;34m(self)\u001b[0m\n\u001b[0;32m    509\u001b[0m \u001b[38;5;28;01mdef\u001b[39;00m \u001b[38;5;21m__bool__\u001b[39m(\u001b[38;5;28mself\u001b[39m):\n\u001b[1;32m--> 510\u001b[0m     \u001b[38;5;28;01mraise\u001b[39;00m \u001b[38;5;167;01mTypeError\u001b[39;00m(\u001b[38;5;124m\"\u001b[39m\u001b[38;5;124mcannot determine truth value of Relational\u001b[39m\u001b[38;5;124m\"\u001b[39m)\n",
      "\u001b[1;31mTypeError\u001b[0m: cannot determine truth value of Relational",
      "\nDuring handling of the above exception, another exception occurred:\n",
      "\u001b[1;31mTypeError\u001b[0m                                 Traceback (most recent call last)",
      "Cell \u001b[1;32mIn[20], line 1\u001b[0m\n\u001b[1;32m----> 1\u001b[0m result \u001b[38;5;241m=\u001b[39m find_extrema_on_interval(distribution_function_1, x, (phi, k\u001b[38;5;241m*\u001b[39mc\u001b[38;5;241m+\u001b[39mphi))\n\u001b[0;32m      2\u001b[0m \u001b[38;5;28mprint\u001b[39m(result)\n",
      "Cell \u001b[1;32mIn[19], line 48\u001b[0m, in \u001b[0;36mfind_extrema_on_interval\u001b[1;34m(f, var, interval)\u001b[0m\n\u001b[0;32m     45\u001b[0m         max_value, max_point \u001b[38;5;241m=\u001b[39m numeric_value, point\n\u001b[0;32m     46\u001b[0m \u001b[38;5;28;01mexcept\u001b[39;00m \u001b[38;5;167;01mTypeError\u001b[39;00m:\n\u001b[0;32m     47\u001b[0m     \u001b[38;5;66;03m# Если не удается, работаем с символьными значениями\u001b[39;00m\n\u001b[1;32m---> 48\u001b[0m     \u001b[38;5;28;01mif\u001b[39;00m value \u001b[38;5;241m<\u001b[39m min_value:\n\u001b[0;32m     49\u001b[0m         min_value, min_point \u001b[38;5;241m=\u001b[39m value, point\n\u001b[0;32m     50\u001b[0m     \u001b[38;5;28;01mif\u001b[39;00m value \u001b[38;5;241m>\u001b[39m max_value:\n",
      "File \u001b[1;32m~\\AppData\\Roaming\\Python\\Python312\\site-packages\\sympy\\core\\relational.py:510\u001b[0m, in \u001b[0;36mRelational.__bool__\u001b[1;34m(self)\u001b[0m\n\u001b[0;32m    509\u001b[0m \u001b[38;5;28;01mdef\u001b[39;00m \u001b[38;5;21m__bool__\u001b[39m(\u001b[38;5;28mself\u001b[39m):\n\u001b[1;32m--> 510\u001b[0m     \u001b[38;5;28;01mraise\u001b[39;00m \u001b[38;5;167;01mTypeError\u001b[39;00m(\u001b[38;5;124m\"\u001b[39m\u001b[38;5;124mcannot determine truth value of Relational\u001b[39m\u001b[38;5;124m\"\u001b[39m)\n",
      "\u001b[1;31mTypeError\u001b[0m: cannot determine truth value of Relational"
     ]
    }
   ],
   "source": [
    "result = find_extrema_on_interval(distribution_function_1, x, (phi, k*c+phi))\n",
    "print(result)"
   ]
  },
  {
   "cell_type": "code",
   "execution_count": null,
   "metadata": {},
   "outputs": [
    {
     "data": {
      "text/plain": [
       "[\\phi - k**2/2 + sqrt(k*(k**3 + 8))/2 - sqrt(4*\\phi**2 - 4*\\phi*k**2 - 8*\\phi*phi + 4*\\phi*sqrt(k*(k**3 + 8)) + 2*k**4 + 4*k**2*phi - 2*k**2*sqrt(k*(k**3 + 8)) - 8*k*y + 8*k + 4*phi**2 - 4*phi*sqrt(k*(k**3 + 8)))/2,\n",
       " \\phi - k**2/2 + sqrt(k*(k**3 + 8))/2 + sqrt(4*\\phi**2 - 4*\\phi*k**2 - 8*\\phi*phi + 4*\\phi*sqrt(k*(k**3 + 8)) + 2*k**4 + 4*k**2*phi - 2*k**2*sqrt(k*(k**3 + 8)) - 8*k*y + 8*k + 4*phi**2 - 4*phi*sqrt(k*(k**3 + 8)))/2]"
      ]
     },
     "execution_count": 22,
     "metadata": {},
     "output_type": "execute_result"
    }
   ],
   "source": [
    "y =  sp.symbols('y')\n",
    "inverse_function_1 = sp.solve( distribution_function_1 - y, x)\n",
    "inverse_function_2 = sp.solve( distribution_function_2 - y, x)\n",
    "inverse_function_1"
   ]
  },
  {
   "cell_type": "code",
   "execution_count": null,
   "metadata": {},
   "outputs": [
    {
     "data": {
      "text/plain": [
       "[\\phi - k**2/2 - sqrt(2)*sqrt(k*y) + sqrt(k*(k**3 + 8))/2,\n",
       " \\phi - k**2/2 + sqrt(2)*sqrt(k*y) + sqrt(k*(k**3 + 8))/2]"
      ]
     },
     "execution_count": 23,
     "metadata": {},
     "output_type": "execute_result"
    }
   ],
   "source": [
    "inverse_function_2"
   ]
  }
 ],
 "metadata": {
  "kernelspec": {
   "display_name": "symmath",
   "language": "python",
   "name": "python3"
  },
  "language_info": {
   "codemirror_mode": {
    "name": "ipython",
    "version": 3
   },
   "file_extension": ".py",
   "mimetype": "text/x-python",
   "name": "python",
   "nbconvert_exporter": "python",
   "pygments_lexer": "ipython3",
   "version": "3.12.7"
  }
 },
 "nbformat": 4,
 "nbformat_minor": 2
}
