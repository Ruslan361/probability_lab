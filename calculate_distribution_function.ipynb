{
 "cells": [
  {
   "cell_type": "code",
   "execution_count": 49,
   "metadata": {},
   "outputs": [
    {
     "data": {
      "text/latex": [
       "$\\displaystyle \\sqrt{2} \\sqrt{\\frac{1}{k \\left(k^{2} + 1\\right)}}$"
      ],
      "text/plain": [
       "sqrt(2)*sqrt(1/(k*(k**2 + 1)))"
      ]
     },
     "execution_count": 49,
     "metadata": {},
     "output_type": "execute_result"
    }
   ],
   "source": [
    "import sympy as sp\n",
    "x, k, phi = sp.symbols(r'x k \\phi')\n",
    "\n",
    "# c = (-k**2 + sp.sqrt(k**4 + 8*k))/(2*k)\n",
    "c = sp.sqrt(2/(k*(1+k**2)))\n",
    "c"
   ]
  },
  {
   "cell_type": "code",
   "execution_count": 50,
   "metadata": {},
   "outputs": [
    {
     "data": {
      "text/latex": [
       "$\\displaystyle \\sqrt{2} \\sqrt{\\frac{1}{k \\left(k^{2} + 1\\right)}} - \\frac{- \\phi + x}{k}$"
      ],
      "text/plain": [
       "sqrt(2)*sqrt(1/(k*(k**2 + 1))) - (-\\phi + x)/k"
      ]
     },
     "execution_count": 50,
     "metadata": {},
     "output_type": "execute_result"
    }
   ],
   "source": [
    "subintegral_function_1 = c - 1/k*(x-phi)\n",
    "subintegral_function_1"
   ]
  },
  {
   "cell_type": "code",
   "execution_count": 51,
   "metadata": {},
   "outputs": [
    {
     "data": {
      "text/latex": [
       "$\\displaystyle - \\sqrt{2} \\sqrt{\\frac{1}{k \\left(k^{2} + 1\\right)}} + \\frac{- \\phi + x}{k}$"
      ],
      "text/plain": [
       "-sqrt(2)*sqrt(1/(k*(k**2 + 1))) + (-\\phi + x)/k"
      ]
     },
     "execution_count": 51,
     "metadata": {},
     "output_type": "execute_result"
    }
   ],
   "source": [
    "subintegral_function_2 = -c + 1/k*(x-phi)\n",
    "subintegral_function_2"
   ]
  },
  {
   "cell_type": "code",
   "execution_count": 52,
   "metadata": {},
   "outputs": [
    {
     "name": "stdout",
     "output_type": "stream",
     "text": [
      "\\phi**2/(2*k) - \\phi*(\\phi/k + sqrt(2)*sqrt(1/(k**3 + k))) + x*(\\phi/k + sqrt(2)*sqrt(1/(k**3 + k))) - x**2/(2*k)\n"
     ]
    },
    {
     "data": {
      "text/latex": [
       "$\\displaystyle \\frac{\\phi^{2}}{2 k} - \\phi \\left(\\frac{\\phi}{k} + \\sqrt{2} \\sqrt{\\frac{1}{k^{3} + k}}\\right) + x \\left(\\frac{\\phi}{k} + \\sqrt{2} \\sqrt{\\frac{1}{k^{3} + k}}\\right) - \\frac{x^{2}}{2 k}$"
      ],
      "text/plain": [
       "\\phi**2/(2*k) - \\phi*(\\phi/k + sqrt(2)*sqrt(1/(k**3 + k))) + x*(\\phi/k + sqrt(2)*sqrt(1/(k**3 + k))) - x**2/(2*k)"
      ]
     },
     "execution_count": 52,
     "metadata": {},
     "output_type": "execute_result"
    }
   ],
   "source": [
    "distribution_function_1 = sp.integrate(subintegral_function_1, (x, phi, x))\n",
    "print(distribution_function_1)\n",
    "distribution_function_1"
   ]
  },
  {
   "cell_type": "code",
   "execution_count": 53,
   "metadata": {},
   "outputs": [
    {
     "data": {
      "text/latex": [
       "$\\displaystyle \\frac{\\phi^{2}}{2 k} - \\phi \\left(\\frac{\\phi}{k} + \\sqrt{2} \\sqrt{\\frac{1}{k^{3} + k}}\\right) + x \\left(- \\frac{\\phi}{k} - \\sqrt{2} \\sqrt{\\frac{1}{k^{3} + k}}\\right) + x \\left(\\frac{\\phi}{k} + \\sqrt{2} \\sqrt{\\frac{1}{k^{3} + k}}\\right) - \\left(\\phi + \\sqrt{2} k \\sqrt{\\frac{1}{k \\left(k^{2} + 1\\right)}}\\right) \\left(- \\frac{\\phi}{k} - \\sqrt{2} \\sqrt{\\frac{1}{k^{3} + k}}\\right) - \\frac{\\left(\\phi + \\sqrt{2} k \\sqrt{\\frac{1}{k \\left(k^{2} + 1\\right)}}\\right)^{2}}{2 k}$"
      ],
      "text/plain": [
       "\\phi**2/(2*k) - \\phi*(\\phi/k + sqrt(2)*sqrt(1/(k**3 + k))) + x*(-\\phi/k - sqrt(2)*sqrt(1/(k**3 + k))) + x*(\\phi/k + sqrt(2)*sqrt(1/(k**3 + k))) - (\\phi + sqrt(2)*k*sqrt(1/(k*(k**2 + 1))))*(-\\phi/k - sqrt(2)*sqrt(1/(k**3 + k))) - (\\phi + sqrt(2)*k*sqrt(1/(k*(k**2 + 1))))**2/(2*k)"
      ]
     },
     "execution_count": 53,
     "metadata": {},
     "output_type": "execute_result"
    }
   ],
   "source": [
    "distribution_function_2 = sp.integrate(subintegral_function_2, (x, phi + k*c, x)) + distribution_function_1\n",
    "distribution_function_2"
   ]
  },
  {
   "cell_type": "code",
   "execution_count": 54,
   "metadata": {},
   "outputs": [],
   "source": [
    "import sympy as sp\n",
    "\n",
    "def find_extrema_on_interval(f, var, interval):\n",
    "    \"\"\"\n",
    "    Находит максимум и минимум функции f на заданном отрезке.\n",
    "\n",
    "    :param f: Символьное выражение функции.\n",
    "    :param var: Переменная функции.\n",
    "    :param interval: Кортеж (a, b), определяющий отрезок [a, b].\n",
    "    :return: Словарь с минимумом и максимумом на отрезке.\n",
    "    \"\"\"\n",
    "    a, b = interval\n",
    "    interval_set = sp.Interval(a, b)\n",
    "    \n",
    "    # Находим первую производную\n",
    "    f_prime = sp.diff(f, var)\n",
    "    \n",
    "    # Находим критические точки на интервале, решая f'(x) = 0\n",
    "    critical_points = sp.solve(f_prime, var)\n",
    "    \n",
    "    # Отбираем только те критические точки, которые лежат на интервале [a, b]\n",
    "    critical_points = [p for p in critical_points if interval_set.contains(p)]\n",
    "    \n",
    "    # Составляем список точек для проверки (концы отрезка и критические точки)\n",
    "    points_to_check = [a, b] + critical_points\n",
    "    \n",
    "    # Вычисляем значения функции в каждой из этих точек\n",
    "    values = []\n",
    "    for point in points_to_check:\n",
    "        value = f.subs(var, point)\n",
    "        values.append((point, value))\n",
    "    \n",
    "    # Определяем максимум и минимум символически, если не удалось вычислить численно\n",
    "    min_value = sp.oo\n",
    "    max_value = -sp.oo\n",
    "    min_point = max_point = None\n",
    "\n",
    "    for point, value in values:\n",
    "        # Пытаемся определить значение численно\n",
    "        try:\n",
    "            numeric_value = sp.N(value)\n",
    "            if numeric_value < min_value:\n",
    "                min_value, min_point = numeric_value, point\n",
    "            if numeric_value > max_value:\n",
    "                max_value, max_point = numeric_value, point\n",
    "        except TypeError:\n",
    "            # Если не удается, работаем с символьными значениями\n",
    "            if value < min_value:\n",
    "                min_value, min_point = value, point\n",
    "            if value > max_value:\n",
    "                max_value, max_point = value, point\n",
    "\n",
    "    return {\n",
    "        \"min\": (min_point, min_value),\n",
    "        \"max\": (max_point, max_value)\n",
    "    }\n",
    "\n",
    "# # Пример использования\n",
    "# x = sp.symbols('x')\n",
    "# f = x**3 - 3*x**2 + 4  # Пример функции\n",
    "# phi, k, c = sp.symbols('phi k c')\n",
    "# interval = (phi, k*c + phi)      # Задаем отрезок [phi, k*c + phi]\n",
    "\n",
    "# extrema = find_extrema_on_interval(f, x, interval)\n",
    "# print(\"Минимум:\", extrema[\"min\"])\n",
    "# print(\"Максимум:\", extrema[\"max\"])\n"
   ]
  },
  {
   "cell_type": "markdown",
   "metadata": {},
   "source": [
    "## Исследование на максимум и минимум функции"
   ]
  },
  {
   "cell_type": "code",
   "execution_count": 55,
   "metadata": {},
   "outputs": [],
   "source": [
    "# result = find_extrema_on_interval(distribution_function_1, x, (phi, k*c+phi))\n",
    "# print(result)"
   ]
  },
  {
   "cell_type": "code",
   "execution_count": 67,
   "metadata": {},
   "outputs": [
    {
     "data": {
      "text/plain": [
       "[sqrt(2)*k*sqrt(1/(k**3 + k)) - sqrt(2)*sqrt(-k*y + k/(k**2 + 1)) + 1,\n",
       " sqrt(2)*k*sqrt(1/(k**3 + k)) + sqrt(2)*sqrt(-k*y + k/(k**2 + 1)) + 1]"
      ]
     },
     "execution_count": 67,
     "metadata": {},
     "output_type": "execute_result"
    }
   ],
   "source": [
    "y =  sp.symbols('y')\n",
    "phi_val = 1\n",
    "k_val = 1\n",
    "distribution_function_1 = distribution_function_1.subs(phi, phi_val)\n",
    "distribution_function_2 = distribution_function_1.subs(k, k_val)\n",
    "inverse_function_1 = sp.solve( distribution_function_1 - y, x)\n",
    "inverse_function_2 = sp.solve( distribution_function_2 - y, x)\n",
    "inverse_function_1"
   ]
  },
  {
   "cell_type": "code",
   "execution_count": 57,
   "metadata": {},
   "outputs": [
    {
     "data": {
      "text/plain": [
       "[\\phi + sqrt(2)*k*sqrt(1/(k**3 + k)) - sqrt(2)*sqrt(-k*y + k/(k**2 + 1)),\n",
       " \\phi + sqrt(2)*k*sqrt(1/(k**3 + k)) + sqrt(2)*sqrt(-k*y + k/(k**2 + 1))]"
      ]
     },
     "execution_count": 57,
     "metadata": {},
     "output_type": "execute_result"
    }
   ],
   "source": [
    "inverse_function_2"
   ]
  },
  {
   "cell_type": "code",
   "execution_count": 60,
   "metadata": {},
   "outputs": [
    {
     "data": {
      "text/plain": [
       "(0, 1/(k**2 + 1))"
      ]
     },
     "execution_count": 60,
     "metadata": {},
     "output_type": "execute_result"
    }
   ],
   "source": [
    "interval_1 = (0,  distribution_function_1.subs(x, k*c + phi).simplify())\n",
    "interval_2 = ( interval_1[1],  distribution_function_2.subs(x, phi + k*c*(1+k).simplify()))\n",
    "interval_1"
   ]
  },
  {
   "cell_type": "code",
   "execution_count": 61,
   "metadata": {},
   "outputs": [
    {
     "data": {
      "text/plain": [
       "(1/(k**2 + 1),\n",
       " \\phi**2/(2*k) - \\phi*(\\phi/k + sqrt(2)*sqrt(1/(k**3 + k))) + (\\phi + sqrt(2)*k*sqrt(1/(k*(k**2 + 1)))*(k + 1))*(\\phi/k + sqrt(2)*sqrt(1/(k**3 + k))) - (\\phi + sqrt(2)*k*sqrt(1/(k*(k**2 + 1)))*(k + 1))**2/(2*k))"
      ]
     },
     "execution_count": 61,
     "metadata": {},
     "output_type": "execute_result"
    }
   ],
   "source": [
    "interval_2"
   ]
  },
  {
   "cell_type": "code",
   "execution_count": 62,
   "metadata": {},
   "outputs": [
    {
     "data": {
      "text/plain": [
       "((\\phi + sqrt(2)*k*sqrt(1/(k**3 + k)) - sqrt(2)*sqrt(-k*y + k/(k**2 + 1)) >= 0) & (\\phi + sqrt(2)*k*sqrt(1/(k**3 + k)) - sqrt(2)*sqrt(-k*y + k/(k**2 + 1)) <= 1/(k**2 + 1)),\n",
       " (\\phi + sqrt(2)*k*sqrt(1/(k**3 + k)) + sqrt(2)*sqrt(-k*y + k/(k**2 + 1)) >= 0) & (\\phi + sqrt(2)*k*sqrt(1/(k**3 + k)) + sqrt(2)*sqrt(-k*y + k/(k**2 + 1)) <= 1/(k**2 + 1)))"
      ]
     },
     "execution_count": 62,
     "metadata": {},
     "output_type": "execute_result"
    }
   ],
   "source": [
    "from sympy import symbols, sqrt, simplify, And, GreaterThan, LessThan\n",
    "\n",
    "\n",
    "# Определим границы\n",
    "left_bound = phi + sqrt(2) * k * sqrt(1 / (k**3 + k)) - sqrt(2) * sqrt(-k * y + k / (k**2 + 1))\n",
    "right_bound = phi + sqrt(2) * k * sqrt(1 / (k**3 + k)) + sqrt(2) * sqrt(-k * y + k / (k**2 + 1))\n",
    "\n",
    "# Интервал для сравнения\n",
    "target_interval_start = 0\n",
    "target_interval_end = 1 / (k**2 + 1)\n",
    "\n",
    "# Проверка принадлежности каждой границы интервалу (0, 1/(k**2 + 1))\n",
    "is_left_in_interval = And(GreaterThan(left_bound, target_interval_start), LessThan(left_bound, target_interval_end))\n",
    "is_right_in_interval = And(GreaterThan(right_bound, target_interval_start), LessThan(right_bound, target_interval_end))\n",
    "\n",
    "is_left_in_interval, is_right_in_interval\n"
   ]
  },
  {
   "cell_type": "code",
   "execution_count": null,
   "metadata": {},
   "outputs": [
    {
     "data": {
      "text/plain": [
       "(True, k*(-y*(k**2 + 1) + 1)/(k**2 + 1) >= 0)"
      ]
     },
     "execution_count": 65,
     "metadata": {},
     "output_type": "execute_result"
    }
   ],
   "source": [
    "from sympy import symbols, sqrt, simplify, And, GreaterThan\n",
    "\n",
    "# Определим переменные\n",
    "k, y, c = symbols('k y c', positive=True, real=True)\n",
    "\n",
    "# Проверим неотрицательность выражений под корнями\n",
    "expr1 = sqrt(2) * k * sqrt(1 / (k**3 + k))\n",
    "expr2 = sqrt(2) * sqrt(-k * y + k / (k**2 + 1))\n",
    "\n",
    "# Проверка условий для существования решений\n",
    "condition1 = GreaterThan(1 / (k**3 + k), 0)  # Для expr1, так как k > 0, это условие всегда выполняется\n",
    "condition2 = GreaterThan(-k * y + k / (k**2 + 1), 0)  # Для expr2, необходимо проверить на промежутке y ∈ [0, 1]\n",
    "\n",
    "condition1, condition2.simplify()\n",
    "# Условие 2 выполняется только при y принадлежащим от 0 до min(1, 1/(k**2+1))"
   ]
  },
  {
   "cell_type": "code",
   "execution_count": 66,
   "metadata": {},
   "outputs": [
    {
     "data": {
      "text/plain": [
       "((sqrt(2)*k/sqrt(k**3 + k) + phi - sqrt(2)*sqrt(-k*y + k/(k**2 + 1)) >= 1/(k**2 + 1)) & (sqrt(2)*k/sqrt(k**3 + k) + phi - sqrt(2)*sqrt(-k*y + k/(k**2 + 1)) <= -phi*(sqrt(2)/sqrt(k**3 + k) + phi/k) + (sqrt(2)/sqrt(k**3 + k) + phi/k)*(sqrt(2)*sqrt(k)*(k + 1)/sqrt(k**2 + 1) + phi) + phi**2/(2*k) - (sqrt(2)*sqrt(k)*(k + 1)/sqrt(k**2 + 1) + phi)**2/(2*k)),\n",
       " (sqrt(2)*k/sqrt(k**3 + k) + phi + sqrt(2)*sqrt(-k*y + k/(k**2 + 1)) >= 1/(k**2 + 1)) & (sqrt(2)*k/sqrt(k**3 + k) + phi + sqrt(2)*sqrt(-k*y + k/(k**2 + 1)) <= -phi*(sqrt(2)/sqrt(k**3 + k) + phi/k) + (sqrt(2)/sqrt(k**3 + k) + phi/k)*(sqrt(2)*sqrt(k)*(k + 1)/sqrt(k**2 + 1) + phi) + phi**2/(2*k) - (sqrt(2)*sqrt(k)*(k + 1)/sqrt(k**2 + 1) + phi)**2/(2*k)))"
      ]
     },
     "execution_count": 66,
     "metadata": {},
     "output_type": "execute_result"
    }
   ],
   "source": [
    "from sympy import symbols, sqrt, simplify, And, GreaterThan, LessThan\n",
    "\n",
    "# Определим переменные\n",
    "k, y, phi = symbols('k y phi', positive=True, real=True)\n",
    "\n",
    "# Границы первого интервала\n",
    "left_bound = phi + sqrt(2) * k * sqrt(1 / (k**3 + k)) - sqrt(2) * sqrt(-k * y + k / (k**2 + 1))\n",
    "right_bound = phi + sqrt(2) * k * sqrt(1 / (k**3 + k)) + sqrt(2) * sqrt(-k * y + k / (k**2 + 1))\n",
    "\n",
    "# Границы второго интервала\n",
    "interval_start = 1 / (k**2 + 1)\n",
    "interval_end = (phi**2 / (2 * k) - phi * (phi / k + sqrt(2) * sqrt(1 / (k**3 + k))) + \n",
    "               (phi + sqrt(2) * k * sqrt(1 / (k * (k**2 + 1))) * (k + 1)) * \n",
    "               (phi / k + sqrt(2) * sqrt(1 / (k**3 + k))) - \n",
    "               (phi + sqrt(2) * k * sqrt(1 / (k * (k**2 + 1))) * (k + 1))**2 / (2 * k))\n",
    "\n",
    "# Проверка принадлежности интервала\n",
    "is_left_in_interval = And(GreaterThan(left_bound, interval_start), LessThan(left_bound, interval_end))\n",
    "is_right_in_interval = And(GreaterThan(right_bound, interval_start), LessThan(right_bound, interval_end))\n",
    "\n",
    "is_left_in_interval, is_right_in_interval"
   ]
  }
 ],
 "metadata": {
  "kernelspec": {
   "display_name": "learning_env",
   "language": "python",
   "name": "python3"
  },
  "language_info": {
   "codemirror_mode": {
    "name": "ipython",
    "version": 3
   },
   "file_extension": ".py",
   "mimetype": "text/x-python",
   "name": "python",
   "nbconvert_exporter": "python",
   "pygments_lexer": "ipython3",
   "version": "3.11.9"
  }
 },
 "nbformat": 4,
 "nbformat_minor": 2
}
