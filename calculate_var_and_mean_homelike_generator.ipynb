{
 "cells": [
  {
   "cell_type": "code",
   "execution_count": 9,
   "metadata": {},
   "outputs": [],
   "source": [
    "import sympy as sp"
   ]
  },
  {
   "cell_type": "code",
   "execution_count": 10,
   "metadata": {},
   "outputs": [
    {
     "data": {
      "text/latex": [
       "$\\displaystyle \\left[\\phi - \\frac{b}{k}, \\phi\\right]$"
      ],
      "text/plain": [
       "Interval(\\phi - b/k, \\phi)"
      ]
     },
     "execution_count": 10,
     "metadata": {},
     "output_type": "execute_result"
    }
   ],
   "source": [
    "x, phi = sp.symbols(r'x \\phi')\n",
    "k, b, y = sp.symbols(r'k b y', positive=True)\n",
    "\n",
    "f_1 = k*(x-phi) + b\n",
    "f_2 = -k*(x-phi) + b\n",
    "\n",
    "\n",
    "def calculate_intervals(density_functions: list):\n",
    "    start = sp.solve(density_functions[0], x)[0]\n",
    "    end = sp.solve(density_functions[1], x)[0]\n",
    "    middle = (end - start)/2 + start\n",
    "    middle = middle.simplify()\n",
    "    return [sp.Interval(start, middle), sp.Interval(middle, end)]\n",
    "\n",
    "intervals = calculate_intervals([f_1, f_2])\n",
    "intervals[0]"
   ]
  },
  {
   "cell_type": "code",
   "execution_count": 11,
   "metadata": {},
   "outputs": [
    {
     "data": {
      "text/latex": [
       "$\\displaystyle \\left[\\phi, \\phi + \\frac{b}{k}\\right]$"
      ],
      "text/plain": [
       "Interval(\\phi, \\phi + b/k)"
      ]
     },
     "execution_count": 11,
     "metadata": {},
     "output_type": "execute_result"
    }
   ],
   "source": [
    "intervals[1]"
   ]
  },
  {
   "cell_type": "code",
   "execution_count": 12,
   "metadata": {},
   "outputs": [
    {
     "data": {
      "text/latex": [
       "$\\displaystyle \\frac{b^{2}}{2 k}$"
      ],
      "text/plain": [
       "b**2/(2*k)"
      ]
     },
     "execution_count": 12,
     "metadata": {},
     "output_type": "execute_result"
    }
   ],
   "source": [
    "def integrate_functions_on_intervals(functions, intervals:list[sp.Interval]):\n",
    "    integrals = []\n",
    "    for fun, interval in zip(functions, intervals):\n",
    "        I = sp.integrate(fun, (x, interval.start, interval.end)).simplify()\n",
    "        for i in integrals:\n",
    "            I = I + i\n",
    "        integrals.append(I)\n",
    "    return integrals\n",
    "\n",
    "Is = integrate_functions_on_intervals([f_1, f_2], intervals)\n",
    "Is[0].simplify()"
   ]
  },
  {
   "cell_type": "code",
   "execution_count": 13,
   "metadata": {},
   "outputs": [
    {
     "data": {
      "text/latex": [
       "$\\displaystyle \\frac{b^{2}}{k}$"
      ],
      "text/plain": [
       "b**2/k"
      ]
     },
     "execution_count": 13,
     "metadata": {},
     "output_type": "execute_result"
    }
   ],
   "source": [
    "Is[1].simplify()"
   ]
  },
  {
   "cell_type": "code",
   "execution_count": 14,
   "metadata": {},
   "outputs": [
    {
     "data": {
      "text/latex": [
       "$\\displaystyle \\sqrt{k}$"
      ],
      "text/plain": [
       "sqrt(k)"
      ]
     },
     "execution_count": 14,
     "metadata": {},
     "output_type": "execute_result"
    }
   ],
   "source": [
    "def check_normalization_condition_b(integrals):\n",
    "    # condition = 0\n",
    "    # for i in integrals:\n",
    "    #     condition += i\n",
    "    \n",
    "    condition = integrals[-1]\n",
    "    solution = sp.solve(condition - 1, b)\n",
    "    # K> 0 возьмём положительное значение\n",
    "    for sol in solution:\n",
    "        \n",
    "        if sp.solveset(sol > 0, k, domain=sp.Interval(0, sp.oo)):\n",
    "            return sol\n",
    "\n",
    "b_val = check_normalization_condition_b(Is)\n",
    "b_val"
   ]
  },
  {
   "cell_type": "markdown",
   "metadata": {},
   "source": [
    "## Упрощённый вид"
   ]
  },
  {
   "cell_type": "code",
   "execution_count": 15,
   "metadata": {},
   "outputs": [
    {
     "data": {
      "text/latex": [
       "$\\displaystyle \\sqrt{k} + k \\left(- \\phi + x\\right)$"
      ],
      "text/plain": [
       "sqrt(k) + k*(-\\phi + x)"
      ]
     },
     "execution_count": 15,
     "metadata": {},
     "output_type": "execute_result"
    }
   ],
   "source": [
    "f_1 = f_1.subs(b, b_val)\n",
    "f_1"
   ]
  },
  {
   "cell_type": "code",
   "execution_count": 16,
   "metadata": {},
   "outputs": [
    {
     "data": {
      "text/latex": [
       "$\\displaystyle \\sqrt{k} - k \\left(- \\phi + x\\right)$"
      ],
      "text/plain": [
       "sqrt(k) - k*(-\\phi + x)"
      ]
     },
     "execution_count": 16,
     "metadata": {},
     "output_type": "execute_result"
    }
   ],
   "source": [
    "f_2 = f_2.subs(b, b_val)\n",
    "f_2"
   ]
  },
  {
   "cell_type": "code",
   "execution_count": 17,
   "metadata": {},
   "outputs": [
    {
     "data": {
      "text/latex": [
       "$\\displaystyle \\left[\\phi - \\frac{1}{\\sqrt{k}}, \\phi\\right]$"
      ],
      "text/plain": [
       "Interval(\\phi - 1/sqrt(k), \\phi)"
      ]
     },
     "execution_count": 17,
     "metadata": {},
     "output_type": "execute_result"
    }
   ],
   "source": [
    "intervals = calculate_intervals([f_1, f_2])\n",
    "intervals[0]"
   ]
  },
  {
   "cell_type": "code",
   "execution_count": 18,
   "metadata": {},
   "outputs": [
    {
     "data": {
      "text/latex": [
       "$\\displaystyle \\left[\\phi, \\phi + \\frac{1}{\\sqrt{k}}\\right]$"
      ],
      "text/plain": [
       "Interval(\\phi, \\phi + 1/sqrt(k))"
      ]
     },
     "execution_count": 18,
     "metadata": {},
     "output_type": "execute_result"
    }
   ],
   "source": [
    "intervals[1]"
   ]
  },
  {
   "cell_type": "code",
   "execution_count": null,
   "metadata": {},
   "outputs": [],
   "source": []
  },
  {
   "cell_type": "code",
   "execution_count": 19,
   "metadata": {},
   "outputs": [
    {
     "name": "stdout",
     "output_type": "stream",
     "text": [
      "[k*x**2/2 - k*(\\phi - 1/sqrt(k))**2/2 + x*(-\\phi*k + sqrt(k)) - (\\phi - 1/sqrt(k))*(-\\phi*k + sqrt(k)), \\phi**2*k/2 - \\phi*(\\phi*k + sqrt(k)) - k*x**2/2 + x*(\\phi*k + sqrt(k)) + 1/2]\n"
     ]
    },
    {
     "data": {
      "text/latex": [
       "$\\displaystyle \\frac{\\phi^{2} k}{2} - \\phi \\sqrt{k} - \\phi k x + \\sqrt{k} x + \\frac{k x^{2}}{2} + \\frac{1}{2}$"
      ],
      "text/plain": [
       "\\phi**2*k/2 - \\phi*sqrt(k) - \\phi*k*x + sqrt(k)*x + k*x**2/2 + 1/2"
      ]
     },
     "execution_count": 19,
     "metadata": {},
     "output_type": "execute_result"
    }
   ],
   "source": [
    "def calculate_distribution_function(functions, intervals):\n",
    "    integrals = []\n",
    "    calculated_integrals = integrate_functions_on_intervals(functions, intervals)\n",
    "    tail = 0\n",
    "    for fun, interval, calculated in zip(functions, intervals, calculated_integrals):\n",
    "        I = sp.integrate(fun, (x, interval.start, x)) + tail\n",
    "        tail = calculated\n",
    "        integrals.append(I)\n",
    "    return integrals\n",
    "distribution_functions = calculate_distribution_function([f_1, f_2], intervals)\n",
    "print(distribution_functions)\n",
    "distribution_functions[0].simplify()"
   ]
  },
  {
   "cell_type": "code",
   "execution_count": 20,
   "metadata": {},
   "outputs": [
    {
     "data": {
      "text/latex": [
       "$\\displaystyle - \\frac{\\phi^{2} k}{2} - \\phi \\sqrt{k} + \\phi k x + \\sqrt{k} x - \\frac{k x^{2}}{2} + \\frac{1}{2}$"
      ],
      "text/plain": [
       "-\\phi**2*k/2 - \\phi*sqrt(k) + \\phi*k*x + sqrt(k)*x - k*x**2/2 + 1/2"
      ]
     },
     "execution_count": 20,
     "metadata": {},
     "output_type": "execute_result"
    }
   ],
   "source": [
    "distribution_functions[1].simplify()"
   ]
  },
  {
   "cell_type": "code",
   "execution_count": 21,
   "metadata": {},
   "outputs": [
    {
     "data": {
      "text/latex": [
       "$\\displaystyle \\frac{1}{2}$"
      ],
      "text/plain": [
       "1/2"
      ]
     },
     "execution_count": 21,
     "metadata": {},
     "output_type": "execute_result"
    }
   ],
   "source": [
    "distribution_functions[0].simplify().subs(x, intervals[0].end).simplify()"
   ]
  },
  {
   "cell_type": "code",
   "execution_count": 22,
   "metadata": {},
   "outputs": [
    {
     "data": {
      "image/png": "[encoded data removed]",
      "text/plain": [
       "<Figure size 640x480 with 1 Axes>"
      ]
     },
     "metadata": {},
     "output_type": "display_data"
    },
    {
     "data": {
      "text/plain": [
       "<sympy.plotting.plot.Plot at 0x1fcecd306e0>"
      ]
     },
     "execution_count": 22,
     "metadata": {},
     "output_type": "execute_result"
    }
   ],
   "source": [
    "phi_val = 0\n",
    "k_val = 1\n",
    "sp.plot(distribution_functions[0].subs(k, k_val).subs(phi, phi_val), distribution_functions[1].subs(k, k_val).subs(phi, phi_val), (x, -10, 10))"
   ]
  },
  {
   "cell_type": "code",
   "execution_count": 23,
   "metadata": {},
   "outputs": [
    {
     "data": {
      "text/latex": [
       "$\\displaystyle 1$"
      ],
      "text/plain": [
       "1"
      ]
     },
     "execution_count": 23,
     "metadata": {},
     "output_type": "execute_result"
    }
   ],
   "source": [
    "distribution_functions[1].simplify().subs(x, intervals[1].end).simplify()"
   ]
  },
  {
   "cell_type": "code",
   "execution_count": 24,
   "metadata": {},
   "outputs": [
    {
     "name": "stdout",
     "output_type": "stream",
     "text": [
      "[(\\phi*sqrt(k) - sqrt(2)*sqrt(y) - 1)/sqrt(k), (\\phi*sqrt(k) + sqrt(2)*sqrt(y) - 1)/sqrt(k)]\n",
      "[(\\phi*sqrt(k) - sqrt(2 - 2*y) + 1)/sqrt(k), (\\phi*sqrt(k) + sqrt(2 - 2*y) + 1)/sqrt(k)]\n"
     ]
    }
   ],
   "source": [
    "def calculate_inverse_functions(distribution_functions):\n",
    "    inverse_functions = []\n",
    "    for func in distribution_functions:\n",
    "        solution = sp.solve(func - y, x)\n",
    "        # print(solution[1].subs(y, 1/2).simplify())\n",
    "        print(solution)\n",
    "        # print(sp.solveset(solution[0]> 0, y, domain=sp.Interval(0, 1)))\n",
    "        inverse_functions.append(solution)\n",
    "        #просто вычислить оба и взять то которое принадлежит интервалу надеюсь прокатит\n",
    "calculate_inverse_functions(distribution_functions)\n"
   ]
  },
  {
   "cell_type": "code",
   "execution_count": null,
   "metadata": {},
   "outputs": [],
   "source": []
  },
  {
   "cell_type": "markdown",
   "metadata": {},
   "source": [
    "## Матожидание"
   ]
  },
  {
   "cell_type": "code",
   "execution_count": 25,
   "metadata": {},
   "outputs": [
    {
     "data": {
      "text/latex": [
       "$\\displaystyle \\phi$"
      ],
      "text/plain": [
       "\\phi"
      ]
     },
     "execution_count": 25,
     "metadata": {},
     "output_type": "execute_result"
    }
   ],
   "source": [
    "Is = integrate_functions_on_intervals([f_1*x, f_2*x], intervals)\n",
    "M = Is[-1]\n",
    "M"
   ]
  },
  {
   "cell_type": "markdown",
   "metadata": {},
   "source": [
    "## Дисперсия "
   ]
  },
  {
   "cell_type": "code",
   "execution_count": null,
   "metadata": {},
   "outputs": [
    {
     "data": {
      "text/latex": [
       "$\\displaystyle \\frac{1}{6 k}$"
      ],
      "text/plain": [
       "1/(6*k)"
      ]
     },
     "execution_count": 26,
     "metadata": {},
     "output_type": "execute_result"
    },
    {
     "ename": "",
     "evalue": "",
     "output_type": "error",
     "traceback": [
      "\u001b[1;31mThe Kernel crashed while executing code in the current cell or a previous cell. \n",
      "\u001b[1;31mPlease review the code in the cell(s) to identify a possible cause of the failure. \n",
      "\u001b[1;31mClick <a href='https://aka.ms/vscodeJupyterKernelCrash'>here</a> for more info. \n",
      "\u001b[1;31mView Jupyter <a href='command:jupyter.viewOutput'>log</a> for further details."
     ]
    }
   ],
   "source": [
    "Is = integrate_functions_on_intervals([f_1*(x-M)**2, f_2*(x-M)**2], intervals)\n",
    "D = Is[-1]\n",
    "D"
   ]
  }
 ],
 "metadata": {
  "kernelspec": {
   "display_name": "flask",
   "language": "python",
   "name": "python3"
  },
  "language_info": {
   "codemirror_mode": {
    "name": "ipython",
    "version": 3
   },
   "file_extension": ".py",
   "mimetype": "text/x-python",
   "name": "python",
   "nbconvert_exporter": "python",
   "pygments_lexer": "ipython3",
   "version": "3.12.3"
  }
 },
 "nbformat": 4,
 "nbformat_minor": 2
}
