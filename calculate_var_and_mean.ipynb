{
 "cells": [
  {
   "cell_type": "markdown",
   "metadata": {},
   "source": [
    "## Матожидание"
   ]
  },
  {
   "cell_type": "code",
   "execution_count": 1,
   "metadata": {},
   "outputs": [
    {
     "data": {
      "text/latex": [
       "$\\displaystyle \\frac{\\phi^{3}}{3 k} - \\frac{\\phi^{2} \\left(\\phi + c k\\right)}{2 k} + \\frac{\\left(\\phi + c k\\right)^{3}}{6 k}$"
      ],
      "text/plain": [
       "\\phi**3/(3*k) - \\phi**2*(\\phi + c*k)/(2*k) + (\\phi + c*k)**3/(6*k)"
      ]
     },
     "execution_count": 1,
     "metadata": {},
     "output_type": "execute_result"
    }
   ],
   "source": [
    "import sympy as sp\n",
    "\n",
    "x, c, k, f = sp.symbols(r\"x c k \\phi\")\n",
    "\n",
    "# c_val = sp.sqrt(-k**2 + (k**4 + 8*k))/(2*k)\n",
    "c_val = sp.sqrt(2/(k*(1+k**2)))\n",
    "\n",
    "sub_integral_function_1 = x*(c - 1/k * (x-f))\n",
    "#sub_integral_function_1 = sub_integral_function_1.subs(c, c_val)\n",
    "i_1 = sp.integrate(sub_integral_function_1, (x, f, k*c+f))\n",
    "i_1"
   ]
  },
  {
   "cell_type": "code",
   "execution_count": 2,
   "metadata": {},
   "outputs": [
    {
     "data": {
      "text/latex": [
       "$\\displaystyle - \\frac{\\left(\\phi + c k\\right)^{3}}{6 k} + \\frac{\\left(\\phi + c k\\right) \\left(\\phi + c k \\left(k + 1\\right)\\right)^{2}}{2 k} - \\frac{\\left(\\phi + c k \\left(k + 1\\right)\\right)^{3}}{3 k}$"
      ],
      "text/plain": [
       "-(\\phi + c*k)**3/(6*k) + (\\phi + c*k)*(\\phi + c*k*(k + 1))**2/(2*k) - (\\phi + c*k*(k + 1))**3/(3*k)"
      ]
     },
     "execution_count": 2,
     "metadata": {},
     "output_type": "execute_result"
    }
   ],
   "source": [
    "sub_integral_function_2 = x*(-c+1/k*(x-f))\n",
    "#sub_integral_function_1 = sub_integral_function_1.subs(c, c_val)\n",
    "i_2 = sp.integrate(sub_integral_function_1, (x, k*c+f, f + k*c*(1+k)))\n",
    "i_2"
   ]
  },
  {
   "cell_type": "code",
   "execution_count": 3,
   "metadata": {},
   "outputs": [
    {
     "data": {
      "text/latex": [
       "$\\displaystyle \\frac{\\phi^{3}}{3 k} - \\frac{\\phi^{2} \\left(\\phi + \\sqrt{2} k \\sqrt{\\frac{1}{k \\left(k^{2} + 1\\right)}}\\right)}{2 k} + \\frac{\\left(\\phi + \\sqrt{2} k \\sqrt{\\frac{1}{k \\left(k^{2} + 1\\right)}}\\right)^{3}}{6 k}$"
      ],
      "text/plain": [
       "\\phi**3/(3*k) - \\phi**2*(\\phi + sqrt(2)*k*sqrt(1/(k*(k**2 + 1))))/(2*k) + (\\phi + sqrt(2)*k*sqrt(1/(k*(k**2 + 1))))**3/(6*k)"
      ]
     },
     "execution_count": 3,
     "metadata": {},
     "output_type": "execute_result"
    }
   ],
   "source": [
    "i_1_sub = i_1.subs(c, c_val)\n",
    "i_1_sub"
   ]
  },
  {
   "cell_type": "code",
   "execution_count": 4,
   "metadata": {},
   "outputs": [
    {
     "data": {
      "text/latex": [
       "$\\displaystyle - \\frac{\\left(\\phi + \\sqrt{2} k \\sqrt{\\frac{1}{k \\left(k^{2} + 1\\right)}}\\right)^{3}}{6 k} + \\frac{\\left(\\phi + \\sqrt{2} k \\sqrt{\\frac{1}{k \\left(k^{2} + 1\\right)}}\\right) \\left(\\phi + \\sqrt{2} k \\sqrt{\\frac{1}{k \\left(k^{2} + 1\\right)}} \\left(k + 1\\right)\\right)^{2}}{2 k} - \\frac{\\left(\\phi + \\sqrt{2} k \\sqrt{\\frac{1}{k \\left(k^{2} + 1\\right)}} \\left(k + 1\\right)\\right)^{3}}{3 k}$"
      ],
      "text/plain": [
       "-(\\phi + sqrt(2)*k*sqrt(1/(k*(k**2 + 1))))**3/(6*k) + (\\phi + sqrt(2)*k*sqrt(1/(k*(k**2 + 1))))*(\\phi + sqrt(2)*k*sqrt(1/(k*(k**2 + 1)))*(k + 1))**2/(2*k) - (\\phi + sqrt(2)*k*sqrt(1/(k*(k**2 + 1)))*(k + 1))**3/(3*k)"
      ]
     },
     "execution_count": 4,
     "metadata": {},
     "output_type": "execute_result"
    }
   ],
   "source": [
    "i_2_sub = i_2.subs(c, c_val)\n",
    "i_2_sub"
   ]
  },
  {
   "cell_type": "code",
   "execution_count": 5,
   "metadata": {},
   "outputs": [
    {
     "data": {
      "text/latex": [
       "$\\displaystyle \\frac{2 \\phi^{3} - 3 \\phi^{2} \\left(\\phi + \\sqrt{2} k \\sqrt{\\frac{1}{k \\left(k^{2} + 1\\right)}}\\right) + 3 \\left(\\phi + \\sqrt{2} k \\sqrt{\\frac{1}{k \\left(k^{2} + 1\\right)}}\\right) \\left(\\phi + \\sqrt{2} k \\sqrt{\\frac{1}{k \\left(k^{2} + 1\\right)}} \\left(k + 1\\right)\\right)^{2} - 2 \\left(\\phi + \\sqrt{2} k \\sqrt{\\frac{1}{k \\left(k^{2} + 1\\right)}} \\left(k + 1\\right)\\right)^{3}}{6 k}$"
      ],
      "text/plain": [
       "(2*\\phi**3 - 3*\\phi**2*(\\phi + sqrt(2)*k*sqrt(1/(k*(k**2 + 1)))) + 3*(\\phi + sqrt(2)*k*sqrt(1/(k*(k**2 + 1))))*(\\phi + sqrt(2)*k*sqrt(1/(k*(k**2 + 1)))*(k + 1))**2 - 2*(\\phi + sqrt(2)*k*sqrt(1/(k*(k**2 + 1)))*(k + 1))**3)/(6*k)"
      ]
     },
     "execution_count": 5,
     "metadata": {},
     "output_type": "execute_result"
    }
   ],
   "source": [
    "M = i_1_sub + i_2_sub\n",
    "M = M.simplify()\n",
    "M"
   ]
  },
  {
   "cell_type": "code",
   "execution_count": 6,
   "metadata": {},
   "outputs": [
    {
     "data": {
      "text/plain": [
       "[{\\phi: sqrt(2)*k*sqrt(1/(k*(k**2 + 1)))*(-2*k**2 - k + 1)/(3*(k - 1))},\n",
       " {k: -1}]"
      ]
     },
     "execution_count": 6,
     "metadata": {},
     "output_type": "execute_result"
    }
   ],
   "source": [
    "\n",
    "sp.solve(M)"
   ]
  },
  {
   "cell_type": "markdown",
   "metadata": {},
   "source": [
    "## Дисперсия"
   ]
  },
  {
   "cell_type": "code",
   "execution_count": 7,
   "metadata": {},
   "outputs": [
    {
     "data": {
      "text/latex": [
       "$\\displaystyle \\left(c - \\frac{- \\phi + x}{k}\\right) \\left(x - \\frac{2 \\phi^{3} - 3 \\phi^{2} \\left(\\phi + \\sqrt{2} k \\sqrt{\\frac{1}{k \\left(k^{2} + 1\\right)}}\\right) + 3 \\left(\\phi + \\sqrt{2} k \\sqrt{\\frac{1}{k \\left(k^{2} + 1\\right)}}\\right) \\left(\\phi + \\sqrt{2} k \\sqrt{\\frac{1}{k \\left(k^{2} + 1\\right)}} \\left(k + 1\\right)\\right)^{2} - 2 \\left(\\phi + \\sqrt{2} k \\sqrt{\\frac{1}{k \\left(k^{2} + 1\\right)}} \\left(k + 1\\right)\\right)^{3}}{6 k}\\right)^{2}$"
      ],
      "text/plain": [
       "(c - (-\\phi + x)/k)*(x - (2*\\phi**3 - 3*\\phi**2*(\\phi + sqrt(2)*k*sqrt(1/(k*(k**2 + 1)))) + 3*(\\phi + sqrt(2)*k*sqrt(1/(k*(k**2 + 1))))*(\\phi + sqrt(2)*k*sqrt(1/(k*(k**2 + 1)))*(k + 1))**2 - 2*(\\phi + sqrt(2)*k*sqrt(1/(k*(k**2 + 1)))*(k + 1))**3)/(6*k))**2"
      ]
     },
     "execution_count": 7,
     "metadata": {},
     "output_type": "execute_result"
    }
   ],
   "source": [
    "var_sub_integral_function_1 = ((x - M)**2)*(c - 1/k * (x-f))\n",
    "var_sub_integral_function_1"
   ]
  },
  {
   "cell_type": "code",
   "execution_count": 8,
   "metadata": {},
   "outputs": [
    {
     "data": {
      "text/latex": [
       "$\\displaystyle \\left(- c + \\frac{- \\phi + x}{k}\\right) \\left(x - \\frac{2 \\phi^{3} - 3 \\phi^{2} \\left(\\phi + \\sqrt{2} k \\sqrt{\\frac{1}{k \\left(k^{2} + 1\\right)}}\\right) + 3 \\left(\\phi + \\sqrt{2} k \\sqrt{\\frac{1}{k \\left(k^{2} + 1\\right)}}\\right) \\left(\\phi + \\sqrt{2} k \\sqrt{\\frac{1}{k \\left(k^{2} + 1\\right)}} \\left(k + 1\\right)\\right)^{2} - 2 \\left(\\phi + \\sqrt{2} k \\sqrt{\\frac{1}{k \\left(k^{2} + 1\\right)}} \\left(k + 1\\right)\\right)^{3}}{6 k}\\right)^{2}$"
      ],
      "text/plain": [
       "(-c + (-\\phi + x)/k)*(x - (2*\\phi**3 - 3*\\phi**2*(\\phi + sqrt(2)*k*sqrt(1/(k*(k**2 + 1)))) + 3*(\\phi + sqrt(2)*k*sqrt(1/(k*(k**2 + 1))))*(\\phi + sqrt(2)*k*sqrt(1/(k*(k**2 + 1)))*(k + 1))**2 - 2*(\\phi + sqrt(2)*k*sqrt(1/(k*(k**2 + 1)))*(k + 1))**3)/(6*k))**2"
      ]
     },
     "execution_count": 8,
     "metadata": {},
     "output_type": "execute_result"
    }
   ],
   "source": [
    "var_sub_integral_function_2 = ((x-M)**2)*(-c+1/k*(x-f))\n",
    "var_sub_integral_function_2"
   ]
  },
  {
   "cell_type": "code",
   "execution_count": 9,
   "metadata": {},
   "outputs": [
    {
     "data": {
      "text/latex": [
       "$\\displaystyle \\frac{36 \\phi^{2} k^{8} + 36 \\phi^{2} k^{6} + 48 \\sqrt{2} \\phi k^{13} \\left(\\frac{1}{k^{3} + k}\\right)^{\\frac{3}{2}} + 192 \\sqrt{2} \\phi k^{12} \\left(\\frac{1}{k^{3} + k}\\right)^{\\frac{3}{2}} + 408 \\sqrt{2} \\phi k^{11} \\left(\\frac{1}{k^{3} + k}\\right)^{\\frac{3}{2}} + 624 \\sqrt{2} \\phi k^{10} \\left(\\frac{1}{k^{3} + k}\\right)^{\\frac{3}{2}} + 792 \\sqrt{2} \\phi k^{9} \\left(\\frac{1}{k^{3} + k}\\right)^{\\frac{3}{2}} - 120 \\sqrt{2} \\phi k^{9} \\sqrt{\\frac{1}{k^{3} + k}} + 672 \\sqrt{2} \\phi k^{8} \\left(\\frac{1}{k^{3} + k}\\right)^{\\frac{3}{2}} - 288 \\sqrt{2} \\phi k^{8} \\sqrt{\\frac{1}{k^{3} + k}} + 552 \\sqrt{2} \\phi k^{7} \\left(\\frac{1}{k^{3} + k}\\right)^{\\frac{3}{2}} - 336 \\sqrt{2} \\phi k^{7} \\sqrt{\\frac{1}{k^{3} + k}} + 240 \\sqrt{2} \\phi k^{6} \\left(\\frac{1}{k^{3} + k}\\right)^{\\frac{3}{2}} - 408 \\sqrt{2} \\phi k^{6} \\sqrt{\\frac{1}{k^{3} + k}} + 120 \\sqrt{2} \\phi k^{5} \\left(\\frac{1}{k^{3} + k}\\right)^{\\frac{3}{2}} - 216 \\sqrt{2} \\phi k^{5} \\sqrt{\\frac{1}{k^{3} + k}} - 120 \\sqrt{2} \\phi k^{4} \\sqrt{\\frac{1}{k^{3} + k}} + 33 k^{9} + 96 k^{8} + 106 k^{7} + 80 k^{6} + 57 k^{5} + 16 k^{4} + 8 k^{3}}{9 k^{8} + 36 k^{6} + 54 k^{4} + 36 k^{2} + 9}$"
      ],
      "text/plain": [
       "(36*\\phi**2*k**8 + 36*\\phi**2*k**6 + 48*sqrt(2)*\\phi*k**13*(1/(k**3 + k))**(3/2) + 192*sqrt(2)*\\phi*k**12*(1/(k**3 + k))**(3/2) + 408*sqrt(2)*\\phi*k**11*(1/(k**3 + k))**(3/2) + 624*sqrt(2)*\\phi*k**10*(1/(k**3 + k))**(3/2) + 792*sqrt(2)*\\phi*k**9*(1/(k**3 + k))**(3/2) - 120*sqrt(2)*\\phi*k**9*sqrt(1/(k**3 + k)) + 672*sqrt(2)*\\phi*k**8*(1/(k**3 + k))**(3/2) - 288*sqrt(2)*\\phi*k**8*sqrt(1/(k**3 + k)) + 552*sqrt(2)*\\phi*k**7*(1/(k**3 + k))**(3/2) - 336*sqrt(2)*\\phi*k**7*sqrt(1/(k**3 + k)) + 240*sqrt(2)*\\phi*k**6*(1/(k**3 + k))**(3/2) - 408*sqrt(2)*\\phi*k**6*sqrt(1/(k**3 + k)) + 120*sqrt(2)*\\phi*k**5*(1/(k**3 + k))**(3/2) - 216*sqrt(2)*\\phi*k**5*sqrt(1/(k**3 + k)) - 120*sqrt(2)*\\phi*k**4*sqrt(1/(k**3 + k)) + 33*k**9 + 96*k**8 + 106*k**7 + 80*k**6 + 57*k**5 + 16*k**4 + 8*k**3)/(9*k**8 + 36*k**6 + 54*k**4 + 36*k**2 + 9)"
      ]
     },
     "execution_count": 9,
     "metadata": {},
     "output_type": "execute_result"
    }
   ],
   "source": [
    "var_i_2 = sp.integrate(var_sub_integral_function_2, (x, k*c+f, f + k*c*(1+k)))\n",
    "var_i_2 = var_i_2.subs(c, c_val)\n",
    "var_i_2 = var_i_2.simplify()\n",
    "var_i_2"
   ]
  },
  {
   "cell_type": "code",
   "execution_count": 10,
   "metadata": {},
   "outputs": [
    {
     "data": {
      "text/latex": [
       "$\\displaystyle \\frac{36 \\phi^{2} k^{6} + 36 \\phi^{2} k^{4} - 24 \\sqrt{2} \\phi k^{11} \\left(\\frac{1}{k^{3} + k}\\right)^{\\frac{3}{2}} - 96 \\sqrt{2} \\phi k^{10} \\left(\\frac{1}{k^{3} + k}\\right)^{\\frac{3}{2}} - 120 \\sqrt{2} \\phi k^{9} \\left(\\frac{1}{k^{3} + k}\\right)^{\\frac{3}{2}} - 240 \\sqrt{2} \\phi k^{8} \\left(\\frac{1}{k^{3} + k}\\right)^{\\frac{3}{2}} + 48 \\sqrt{2} \\phi k^{8} \\sqrt{\\frac{1}{k^{3} + k}} - 168 \\sqrt{2} \\phi k^{7} \\left(\\frac{1}{k^{3} + k}\\right)^{\\frac{3}{2}} + 144 \\sqrt{2} \\phi k^{7} \\sqrt{\\frac{1}{k^{3} + k}} - 192 \\sqrt{2} \\phi k^{6} \\left(\\frac{1}{k^{3} + k}\\right)^{\\frac{3}{2}} + 120 \\sqrt{2} \\phi k^{6} \\sqrt{\\frac{1}{k^{3} + k}} - 72 \\sqrt{2} \\phi k^{5} \\left(\\frac{1}{k^{3} + k}\\right)^{\\frac{3}{2}} + 192 \\sqrt{2} \\phi k^{5} \\sqrt{\\frac{1}{k^{3} + k}} - 48 \\sqrt{2} \\phi k^{4} \\left(\\frac{1}{k^{3} + k}\\right)^{\\frac{3}{2}} + 72 \\sqrt{2} \\phi k^{4} \\sqrt{\\frac{1}{k^{3} + k}} + 48 \\sqrt{2} \\phi k^{3} \\sqrt{\\frac{1}{k^{3} + k}} + 8 k^{7} + 32 k^{6} + 33 k^{5} + 2 k^{3} + k}{9 k^{8} + 36 k^{6} + 54 k^{4} + 36 k^{2} + 9}$"
      ],
      "text/plain": [
       "(36*\\phi**2*k**6 + 36*\\phi**2*k**4 - 24*sqrt(2)*\\phi*k**11*(1/(k**3 + k))**(3/2) - 96*sqrt(2)*\\phi*k**10*(1/(k**3 + k))**(3/2) - 120*sqrt(2)*\\phi*k**9*(1/(k**3 + k))**(3/2) - 240*sqrt(2)*\\phi*k**8*(1/(k**3 + k))**(3/2) + 48*sqrt(2)*\\phi*k**8*sqrt(1/(k**3 + k)) - 168*sqrt(2)*\\phi*k**7*(1/(k**3 + k))**(3/2) + 144*sqrt(2)*\\phi*k**7*sqrt(1/(k**3 + k)) - 192*sqrt(2)*\\phi*k**6*(1/(k**3 + k))**(3/2) + 120*sqrt(2)*\\phi*k**6*sqrt(1/(k**3 + k)) - 72*sqrt(2)*\\phi*k**5*(1/(k**3 + k))**(3/2) + 192*sqrt(2)*\\phi*k**5*sqrt(1/(k**3 + k)) - 48*sqrt(2)*\\phi*k**4*(1/(k**3 + k))**(3/2) + 72*sqrt(2)*\\phi*k**4*sqrt(1/(k**3 + k)) + 48*sqrt(2)*\\phi*k**3*sqrt(1/(k**3 + k)) + 8*k**7 + 32*k**6 + 33*k**5 + 2*k**3 + k)/(9*k**8 + 36*k**6 + 54*k**4 + 36*k**2 + 9)"
      ]
     },
     "execution_count": 10,
     "metadata": {},
     "output_type": "execute_result"
    }
   ],
   "source": [
    "var_i_1 = sp.integrate(var_sub_integral_function_1, (x, f, k*c+f))\n",
    "var_i_1 = var_i_1.subs(c, c_val)\n",
    "var_i_1 = var_i_1.simplify()\n",
    "var_i_1"
   ]
  },
  {
   "cell_type": "code",
   "execution_count": 11,
   "metadata": {},
   "outputs": [
    {
     "data": {
      "text/latex": [
       "$\\displaystyle \\frac{36 \\phi^{2} k^{6} + 36 \\phi^{2} k^{4} + 48 \\sqrt{2} \\phi k^{11} \\left(\\frac{1}{k^{3} + k}\\right)^{\\frac{3}{2}} + 192 \\sqrt{2} \\phi k^{10} \\left(\\frac{1}{k^{3} + k}\\right)^{\\frac{3}{2}} + 336 \\sqrt{2} \\phi k^{9} \\left(\\frac{1}{k^{3} + k}\\right)^{\\frac{3}{2}} + 336 \\sqrt{2} \\phi k^{8} \\left(\\frac{1}{k^{3} + k}\\right)^{\\frac{3}{2}} + 336 \\sqrt{2} \\phi k^{7} \\left(\\frac{1}{k^{3} + k}\\right)^{\\frac{3}{2}} - 120 \\sqrt{2} \\phi k^{7} \\sqrt{\\frac{1}{k^{3} + k}} + 96 \\sqrt{2} \\phi k^{6} \\left(\\frac{1}{k^{3} + k}\\right)^{\\frac{3}{2}} - 240 \\sqrt{2} \\phi k^{6} \\sqrt{\\frac{1}{k^{3} + k}} + 48 \\sqrt{2} \\phi k^{5} \\left(\\frac{1}{k^{3} + k}\\right)^{\\frac{3}{2}} - 72 \\sqrt{2} \\phi k^{5} \\sqrt{\\frac{1}{k^{3} + k}} - 48 \\sqrt{2} \\phi k^{4} \\left(\\frac{1}{k^{3} + k}\\right)^{\\frac{3}{2}} - 48 \\sqrt{2} \\phi k^{4} \\sqrt{\\frac{1}{k^{3} + k}} + 48 \\sqrt{2} \\phi k^{3} \\sqrt{\\frac{1}{k^{3} + k}} + 33 k^{7} + 96 k^{6} + 81 k^{5} + 16 k^{4} + 9 k^{3} + k}{9 k^{6} + 27 k^{4} + 27 k^{2} + 9}$"
      ],
      "text/plain": [
       "(36*\\phi**2*k**6 + 36*\\phi**2*k**4 + 48*sqrt(2)*\\phi*k**11*(1/(k**3 + k))**(3/2) + 192*sqrt(2)*\\phi*k**10*(1/(k**3 + k))**(3/2) + 336*sqrt(2)*\\phi*k**9*(1/(k**3 + k))**(3/2) + 336*sqrt(2)*\\phi*k**8*(1/(k**3 + k))**(3/2) + 336*sqrt(2)*\\phi*k**7*(1/(k**3 + k))**(3/2) - 120*sqrt(2)*\\phi*k**7*sqrt(1/(k**3 + k)) + 96*sqrt(2)*\\phi*k**6*(1/(k**3 + k))**(3/2) - 240*sqrt(2)*\\phi*k**6*sqrt(1/(k**3 + k)) + 48*sqrt(2)*\\phi*k**5*(1/(k**3 + k))**(3/2) - 72*sqrt(2)*\\phi*k**5*sqrt(1/(k**3 + k)) - 48*sqrt(2)*\\phi*k**4*(1/(k**3 + k))**(3/2) - 48*sqrt(2)*\\phi*k**4*sqrt(1/(k**3 + k)) + 48*sqrt(2)*\\phi*k**3*sqrt(1/(k**3 + k)) + 33*k**7 + 96*k**6 + 81*k**5 + 16*k**4 + 9*k**3 + k)/(9*k**6 + 27*k**4 + 27*k**2 + 9)"
      ]
     },
     "execution_count": 11,
     "metadata": {},
     "output_type": "execute_result"
    }
   ],
   "source": [
    "var = var_i_2 + var_i_1\n",
    "var = var.simplify()\n",
    "var"
   ]
  },
  {
   "cell_type": "code",
   "execution_count": null,
   "metadata": {},
   "outputs": [
    {
     "ename": "ValueError",
     "evalue": "[k, \\phi] is not a valid SymPy symbol",
     "output_type": "error",
     "traceback": [
      "\u001b[1;31m---------------------------------------------------------------------------\u001b[0m",
      "\u001b[1;31mValueError\u001b[0m                                Traceback (most recent call last)",
      "Cell \u001b[1;32mIn[37], line 1\u001b[0m\n\u001b[1;32m----> 1\u001b[0m var_domain \u001b[38;5;241m=\u001b[39m sp\u001b[38;5;241m.\u001b[39msolveset(var \u001b[38;5;241m>\u001b[39m\u001b[38;5;241m=\u001b[39m \u001b[38;5;241m0\u001b[39m, [k, f])\n",
      "File \u001b[1;32m~\\AppData\\Roaming\\Python\\Python312\\site-packages\\sympy\\solvers\\solveset.py:2217\u001b[0m, in \u001b[0;36msolveset\u001b[1;34m(f, symbol, domain)\u001b[0m\n\u001b[0;32m   2214\u001b[0m     \u001b[38;5;28;01mraise\u001b[39;00m \u001b[38;5;167;01mValueError\u001b[39;00m(\u001b[38;5;124m\"\u001b[39m\u001b[38;5;132;01m%s\u001b[39;00m\u001b[38;5;124m is not a valid SymPy expression\u001b[39m\u001b[38;5;124m\"\u001b[39m \u001b[38;5;241m%\u001b[39m f)\n\u001b[0;32m   2216\u001b[0m \u001b[38;5;28;01mif\u001b[39;00m \u001b[38;5;129;01mnot\u001b[39;00m \u001b[38;5;28misinstance\u001b[39m(symbol, (Expr, Relational)) \u001b[38;5;129;01mand\u001b[39;00m  symbol \u001b[38;5;129;01mis\u001b[39;00m \u001b[38;5;129;01mnot\u001b[39;00m \u001b[38;5;28;01mNone\u001b[39;00m:\n\u001b[1;32m-> 2217\u001b[0m     \u001b[38;5;28;01mraise\u001b[39;00m \u001b[38;5;167;01mValueError\u001b[39;00m(\u001b[38;5;124m\"\u001b[39m\u001b[38;5;132;01m%s\u001b[39;00m\u001b[38;5;124m is not a valid SymPy symbol\u001b[39m\u001b[38;5;124m\"\u001b[39m \u001b[38;5;241m%\u001b[39m (symbol,))\n\u001b[0;32m   2219\u001b[0m \u001b[38;5;28;01mif\u001b[39;00m \u001b[38;5;129;01mnot\u001b[39;00m \u001b[38;5;28misinstance\u001b[39m(domain, Set):\n\u001b[0;32m   2220\u001b[0m     \u001b[38;5;28;01mraise\u001b[39;00m \u001b[38;5;167;01mValueError\u001b[39;00m(\u001b[38;5;124m\"\u001b[39m\u001b[38;5;132;01m%s\u001b[39;00m\u001b[38;5;124m is not a valid domain\u001b[39m\u001b[38;5;124m\"\u001b[39m \u001b[38;5;241m%\u001b[39m(domain))\n",
      "\u001b[1;31mValueError\u001b[0m: [k, \\phi] is not a valid SymPy symbol"
     ]
    }
   ],
   "source": []
  },
  {
   "cell_type": "markdown",
   "metadata": {},
   "source": [
    "## Не запускать"
   ]
  },
  {
   "cell_type": "code",
   "execution_count": 14,
   "metadata": {},
   "outputs": [
    {
     "ename": "KeyboardInterrupt",
     "evalue": "",
     "output_type": "error",
     "traceback": [
      "\u001b[1;31m---------------------------------------------------------------------------\u001b[0m",
      "\u001b[1;31mKeyError\u001b[0m                                  Traceback (most recent call last)",
      "File \u001b[1;32m~\\AppData\\Roaming\\Python\\Python312\\site-packages\\sympy\\core\\evalf.py:1481\u001b[0m, in \u001b[0;36mevalf\u001b[1;34m(x, prec, options)\u001b[0m\n\u001b[0;32m   1480\u001b[0m \u001b[38;5;28;01mtry\u001b[39;00m:\n\u001b[1;32m-> 1481\u001b[0m     rf \u001b[38;5;241m=\u001b[39m evalf_table[\u001b[38;5;28mtype\u001b[39m(x)]\n\u001b[0;32m   1482\u001b[0m     r \u001b[38;5;241m=\u001b[39m rf(x, prec, options)\n",
      "\u001b[1;31mKeyError\u001b[0m: <class 'sympy.polys.rootoftools.ComplexRootOf'>",
      "\nDuring handling of the above exception, another exception occurred:\n",
      "\u001b[1;31mKeyboardInterrupt\u001b[0m                         Traceback (most recent call last)",
      "Cell \u001b[1;32mIn[14], line 1\u001b[0m\n\u001b[1;32m----> 1\u001b[0m solve \u001b[38;5;241m=\u001b[39m sp\u001b[38;5;241m.\u001b[39msolve([M, var], (k, f), domain\u001b[38;5;241m=\u001b[39msp\u001b[38;5;241m.\u001b[39mS\u001b[38;5;241m.\u001b[39mReals)\n\u001b[0;32m      2\u001b[0m solve\n",
      "File \u001b[1;32m~\\AppData\\Roaming\\Python\\Python312\\site-packages\\sympy\\solvers\\solvers.py:1147\u001b[0m, in \u001b[0;36msolve\u001b[1;34m(f, *symbols, **flags)\u001b[0m\n\u001b[0;32m   1145\u001b[0m         solution \u001b[38;5;241m=\u001b[39m _solve(f[\u001b[38;5;241m0\u001b[39m], \u001b[38;5;241m*\u001b[39msymbols, \u001b[38;5;241m*\u001b[39m\u001b[38;5;241m*\u001b[39mflags)\n\u001b[0;32m   1146\u001b[0m \u001b[38;5;28;01melse\u001b[39;00m:\n\u001b[1;32m-> 1147\u001b[0m     linear, solution \u001b[38;5;241m=\u001b[39m _solve_system(f, symbols, \u001b[38;5;241m*\u001b[39m\u001b[38;5;241m*\u001b[39mflags)\n\u001b[0;32m   1148\u001b[0m \u001b[38;5;28;01massert\u001b[39;00m \u001b[38;5;28mtype\u001b[39m(solution) \u001b[38;5;129;01mis\u001b[39;00m \u001b[38;5;28mlist\u001b[39m\n\u001b[0;32m   1149\u001b[0m \u001b[38;5;28;01massert\u001b[39;00m \u001b[38;5;129;01mnot\u001b[39;00m solution \u001b[38;5;129;01mor\u001b[39;00m \u001b[38;5;28mtype\u001b[39m(solution[\u001b[38;5;241m0\u001b[39m]) \u001b[38;5;129;01mis\u001b[39;00m \u001b[38;5;28mdict\u001b[39m, solution\n",
      "File \u001b[1;32m~\\AppData\\Roaming\\Python\\Python312\\site-packages\\sympy\\solvers\\solvers.py:1934\u001b[0m, in \u001b[0;36m_solve_system\u001b[1;34m(exprs, symbols, **flags)\u001b[0m\n\u001b[0;32m   1932\u001b[0m \u001b[38;5;28;01mfor\u001b[39;00m s \u001b[38;5;129;01min\u001b[39;00m ok_syms:\n\u001b[0;32m   1933\u001b[0m     \u001b[38;5;28;01mtry\u001b[39;00m:\n\u001b[1;32m-> 1934\u001b[0m         soln \u001b[38;5;241m=\u001b[39m _vsolve(eq2, s, \u001b[38;5;241m*\u001b[39m\u001b[38;5;241m*\u001b[39mflags)\n\u001b[0;32m   1935\u001b[0m     \u001b[38;5;28;01mexcept\u001b[39;00m \u001b[38;5;167;01mNotImplementedError\u001b[39;00m:\n\u001b[0;32m   1936\u001b[0m         \u001b[38;5;28;01mcontinue\u001b[39;00m\n",
      "File \u001b[1;32m~\\AppData\\Roaming\\Python\\Python312\\site-packages\\sympy\\solvers\\solvers.py:2606\u001b[0m, in \u001b[0;36m_vsolve\u001b[1;34m(e, s, **flags)\u001b[0m\n\u001b[0;32m   2604\u001b[0m \u001b[38;5;28;01mdef\u001b[39;00m \u001b[38;5;21m_vsolve\u001b[39m(e, s, \u001b[38;5;241m*\u001b[39m\u001b[38;5;241m*\u001b[39mflags):\n\u001b[0;32m   2605\u001b[0m \u001b[38;5;250m    \u001b[39m\u001b[38;5;124;03m\"\"\"return list of scalar values for the solution of e for symbol s\"\"\"\u001b[39;00m\n\u001b[1;32m-> 2606\u001b[0m     \u001b[38;5;28;01mreturn\u001b[39;00m [i[s] \u001b[38;5;28;01mfor\u001b[39;00m i \u001b[38;5;129;01min\u001b[39;00m _solve(e, s, \u001b[38;5;241m*\u001b[39m\u001b[38;5;241m*\u001b[39mflags)]\n",
      "File \u001b[1;32m~\\AppData\\Roaming\\Python\\Python312\\site-packages\\sympy\\solvers\\solvers.py:1715\u001b[0m, in \u001b[0;36m_solve\u001b[1;34m(f, *symbols, **flags)\u001b[0m\n\u001b[0;32m   1709\u001b[0m     result \u001b[38;5;241m=\u001b[39m [r \u001b[38;5;28;01mfor\u001b[39;00m r \u001b[38;5;129;01min\u001b[39;00m result \u001b[38;5;28;01mif\u001b[39;00m\n\u001b[0;32m   1710\u001b[0m               \u001b[38;5;129;01mnot\u001b[39;00m \u001b[38;5;28many\u001b[39m(checksol(d, r, \u001b[38;5;241m*\u001b[39m\u001b[38;5;241m*\u001b[39mflags)\n\u001b[0;32m   1711\u001b[0m                       \u001b[38;5;28;01mfor\u001b[39;00m d \u001b[38;5;129;01min\u001b[39;00m dens)]\n\u001b[0;32m   1712\u001b[0m \u001b[38;5;28;01mif\u001b[39;00m check:\n\u001b[0;32m   1713\u001b[0m     \u001b[38;5;66;03m# keep only results if the check is not False\u001b[39;00m\n\u001b[0;32m   1714\u001b[0m     result \u001b[38;5;241m=\u001b[39m [r \u001b[38;5;28;01mfor\u001b[39;00m r \u001b[38;5;129;01min\u001b[39;00m result \u001b[38;5;28;01mif\u001b[39;00m\n\u001b[1;32m-> 1715\u001b[0m               checksol(f_num, r, \u001b[38;5;241m*\u001b[39m\u001b[38;5;241m*\u001b[39mflags) \u001b[38;5;129;01mis\u001b[39;00m \u001b[38;5;129;01mnot\u001b[39;00m \u001b[38;5;28;01mFalse\u001b[39;00m]\n\u001b[0;32m   1716\u001b[0m \u001b[38;5;28;01mreturn\u001b[39;00m result\n",
      "File \u001b[1;32m~\\AppData\\Roaming\\Python\\Python312\\site-packages\\sympy\\solvers\\solvers.py:360\u001b[0m, in \u001b[0;36mchecksol\u001b[1;34m(f, symbol, sol, **flags)\u001b[0m\n\u001b[0;32m    358\u001b[0m         \u001b[38;5;28;01mreturn\u001b[39;00m val \u001b[38;5;241m==\u001b[39m \u001b[38;5;241m0\u001b[39m\n\u001b[0;32m    359\u001b[0m     \u001b[38;5;28;01mif\u001b[39;00m numerical \u001b[38;5;129;01mand\u001b[39;00m val\u001b[38;5;241m.\u001b[39mis_number:\n\u001b[1;32m--> 360\u001b[0m         \u001b[38;5;28;01mreturn\u001b[39;00m (\u001b[38;5;28mabs\u001b[39m(val\u001b[38;5;241m.\u001b[39mn(\u001b[38;5;241m18\u001b[39m)\u001b[38;5;241m.\u001b[39mn(\u001b[38;5;241m12\u001b[39m, chop\u001b[38;5;241m=\u001b[39m\u001b[38;5;28;01mTrue\u001b[39;00m)) \u001b[38;5;241m<\u001b[39m \u001b[38;5;241m1e-9\u001b[39m) \u001b[38;5;129;01mis\u001b[39;00m S\u001b[38;5;241m.\u001b[39mtrue\n\u001b[0;32m    362\u001b[0m \u001b[38;5;28;01mif\u001b[39;00m flags\u001b[38;5;241m.\u001b[39mget(\u001b[38;5;124m'\u001b[39m\u001b[38;5;124mwarn\u001b[39m\u001b[38;5;124m'\u001b[39m, \u001b[38;5;28;01mFalse\u001b[39;00m):\n\u001b[0;32m    363\u001b[0m     warnings\u001b[38;5;241m.\u001b[39mwarn(\u001b[38;5;124m\"\u001b[39m\u001b[38;5;130;01m\\n\u001b[39;00m\u001b[38;5;130;01m\\t\u001b[39;00m\u001b[38;5;124mWarning: could not verify solution \u001b[39m\u001b[38;5;132;01m%s\u001b[39;00m\u001b[38;5;124m.\u001b[39m\u001b[38;5;124m\"\u001b[39m \u001b[38;5;241m%\u001b[39m sol)\n",
      "File \u001b[1;32m~\\AppData\\Roaming\\Python\\Python312\\site-packages\\sympy\\core\\evalf.py:1647\u001b[0m, in \u001b[0;36mEvalfMixin.evalf\u001b[1;34m(self, n, subs, maxn, chop, strict, quad, verbose)\u001b[0m\n\u001b[0;32m   1645\u001b[0m     options[\u001b[38;5;124m'\u001b[39m\u001b[38;5;124mquad\u001b[39m\u001b[38;5;124m'\u001b[39m] \u001b[38;5;241m=\u001b[39m quad\n\u001b[0;32m   1646\u001b[0m \u001b[38;5;28;01mtry\u001b[39;00m:\n\u001b[1;32m-> 1647\u001b[0m     result \u001b[38;5;241m=\u001b[39m evalf(\u001b[38;5;28mself\u001b[39m, prec \u001b[38;5;241m+\u001b[39m \u001b[38;5;241m4\u001b[39m, options)\n\u001b[0;32m   1648\u001b[0m \u001b[38;5;28;01mexcept\u001b[39;00m \u001b[38;5;167;01mNotImplementedError\u001b[39;00m:\n\u001b[0;32m   1649\u001b[0m     \u001b[38;5;66;03m# Fall back to the ordinary evalf\u001b[39;00m\n\u001b[0;32m   1650\u001b[0m     \u001b[38;5;28;01mif\u001b[39;00m \u001b[38;5;28mhasattr\u001b[39m(\u001b[38;5;28mself\u001b[39m, \u001b[38;5;124m'\u001b[39m\u001b[38;5;124msubs\u001b[39m\u001b[38;5;124m'\u001b[39m) \u001b[38;5;129;01mand\u001b[39;00m subs \u001b[38;5;129;01mis\u001b[39;00m \u001b[38;5;129;01mnot\u001b[39;00m \u001b[38;5;28;01mNone\u001b[39;00m:  \u001b[38;5;66;03m# issue 20291\u001b[39;00m\n",
      "File \u001b[1;32m~\\AppData\\Roaming\\Python\\Python312\\site-packages\\sympy\\core\\evalf.py:1482\u001b[0m, in \u001b[0;36mevalf\u001b[1;34m(x, prec, options)\u001b[0m\n\u001b[0;32m   1480\u001b[0m \u001b[38;5;28;01mtry\u001b[39;00m:\n\u001b[0;32m   1481\u001b[0m     rf \u001b[38;5;241m=\u001b[39m evalf_table[\u001b[38;5;28mtype\u001b[39m(x)]\n\u001b[1;32m-> 1482\u001b[0m     r \u001b[38;5;241m=\u001b[39m rf(x, prec, options)\n\u001b[0;32m   1483\u001b[0m \u001b[38;5;28;01mexcept\u001b[39;00m \u001b[38;5;167;01mKeyError\u001b[39;00m:\n\u001b[0;32m   1484\u001b[0m     \u001b[38;5;66;03m# Fall back to ordinary evalf if possible\u001b[39;00m\n\u001b[0;32m   1485\u001b[0m     \u001b[38;5;28;01mif\u001b[39;00m \u001b[38;5;124m'\u001b[39m\u001b[38;5;124msubs\u001b[39m\u001b[38;5;124m'\u001b[39m \u001b[38;5;129;01min\u001b[39;00m options:\n",
      "File \u001b[1;32m~\\AppData\\Roaming\\Python\\Python312\\site-packages\\sympy\\core\\evalf.py:600\u001b[0m, in \u001b[0;36mevalf_add\u001b[1;34m(v, prec, options)\u001b[0m\n\u001b[0;32m    597\u001b[0m \u001b[38;5;28;01mwhile\u001b[39;00m \u001b[38;5;241m1\u001b[39m:\n\u001b[0;32m    598\u001b[0m     options[\u001b[38;5;124m'\u001b[39m\u001b[38;5;124mmaxprec\u001b[39m\u001b[38;5;124m'\u001b[39m] \u001b[38;5;241m=\u001b[39m \u001b[38;5;28mmin\u001b[39m(oldmaxprec, \u001b[38;5;241m2\u001b[39m\u001b[38;5;241m*\u001b[39mprec)\n\u001b[1;32m--> 600\u001b[0m     terms \u001b[38;5;241m=\u001b[39m [evalf(arg, prec \u001b[38;5;241m+\u001b[39m \u001b[38;5;241m10\u001b[39m, options) \u001b[38;5;28;01mfor\u001b[39;00m arg \u001b[38;5;129;01min\u001b[39;00m v\u001b[38;5;241m.\u001b[39margs]\n\u001b[0;32m    601\u001b[0m     n \u001b[38;5;241m=\u001b[39m terms\u001b[38;5;241m.\u001b[39mcount(S\u001b[38;5;241m.\u001b[39mComplexInfinity)\n\u001b[0;32m    602\u001b[0m     \u001b[38;5;28;01mif\u001b[39;00m n \u001b[38;5;241m>\u001b[39m\u001b[38;5;241m=\u001b[39m \u001b[38;5;241m2\u001b[39m:\n",
      "File \u001b[1;32m~\\AppData\\Roaming\\Python\\Python312\\site-packages\\sympy\\core\\evalf.py:1482\u001b[0m, in \u001b[0;36mevalf\u001b[1;34m(x, prec, options)\u001b[0m\n\u001b[0;32m   1480\u001b[0m \u001b[38;5;28;01mtry\u001b[39;00m:\n\u001b[0;32m   1481\u001b[0m     rf \u001b[38;5;241m=\u001b[39m evalf_table[\u001b[38;5;28mtype\u001b[39m(x)]\n\u001b[1;32m-> 1482\u001b[0m     r \u001b[38;5;241m=\u001b[39m rf(x, prec, options)\n\u001b[0;32m   1483\u001b[0m \u001b[38;5;28;01mexcept\u001b[39;00m \u001b[38;5;167;01mKeyError\u001b[39;00m:\n\u001b[0;32m   1484\u001b[0m     \u001b[38;5;66;03m# Fall back to ordinary evalf if possible\u001b[39;00m\n\u001b[0;32m   1485\u001b[0m     \u001b[38;5;28;01mif\u001b[39;00m \u001b[38;5;124m'\u001b[39m\u001b[38;5;124msubs\u001b[39m\u001b[38;5;124m'\u001b[39m \u001b[38;5;129;01min\u001b[39;00m options:\n",
      "File \u001b[1;32m~\\AppData\\Roaming\\Python\\Python312\\site-packages\\sympy\\core\\evalf.py:648\u001b[0m, in \u001b[0;36mevalf_mul\u001b[1;34m(v, prec, options)\u001b[0m\n\u001b[0;32m    646\u001b[0m \u001b[38;5;28;01mfrom\u001b[39;00m \u001b[38;5;21;01m.\u001b[39;00m\u001b[38;5;21;01mnumbers\u001b[39;00m \u001b[38;5;28;01mimport\u001b[39;00m Float\n\u001b[0;32m    647\u001b[0m \u001b[38;5;28;01mfor\u001b[39;00m arg \u001b[38;5;129;01min\u001b[39;00m args:\n\u001b[1;32m--> 648\u001b[0m     result \u001b[38;5;241m=\u001b[39m evalf(arg, prec, options)\n\u001b[0;32m    649\u001b[0m     \u001b[38;5;28;01mif\u001b[39;00m result \u001b[38;5;129;01mis\u001b[39;00m S\u001b[38;5;241m.\u001b[39mComplexInfinity:\n\u001b[0;32m    650\u001b[0m         special\u001b[38;5;241m.\u001b[39mappend(result)\n",
      "File \u001b[1;32m~\\AppData\\Roaming\\Python\\Python312\\site-packages\\sympy\\core\\evalf.py:1482\u001b[0m, in \u001b[0;36mevalf\u001b[1;34m(x, prec, options)\u001b[0m\n\u001b[0;32m   1480\u001b[0m \u001b[38;5;28;01mtry\u001b[39;00m:\n\u001b[0;32m   1481\u001b[0m     rf \u001b[38;5;241m=\u001b[39m evalf_table[\u001b[38;5;28mtype\u001b[39m(x)]\n\u001b[1;32m-> 1482\u001b[0m     r \u001b[38;5;241m=\u001b[39m rf(x, prec, options)\n\u001b[0;32m   1483\u001b[0m \u001b[38;5;28;01mexcept\u001b[39;00m \u001b[38;5;167;01mKeyError\u001b[39;00m:\n\u001b[0;32m   1484\u001b[0m     \u001b[38;5;66;03m# Fall back to ordinary evalf if possible\u001b[39;00m\n\u001b[0;32m   1485\u001b[0m     \u001b[38;5;28;01mif\u001b[39;00m \u001b[38;5;124m'\u001b[39m\u001b[38;5;124msubs\u001b[39m\u001b[38;5;124m'\u001b[39m \u001b[38;5;129;01min\u001b[39;00m options:\n",
      "File \u001b[1;32m~\\AppData\\Roaming\\Python\\Python312\\site-packages\\sympy\\core\\evalf.py:600\u001b[0m, in \u001b[0;36mevalf_add\u001b[1;34m(v, prec, options)\u001b[0m\n\u001b[0;32m    597\u001b[0m \u001b[38;5;28;01mwhile\u001b[39;00m \u001b[38;5;241m1\u001b[39m:\n\u001b[0;32m    598\u001b[0m     options[\u001b[38;5;124m'\u001b[39m\u001b[38;5;124mmaxprec\u001b[39m\u001b[38;5;124m'\u001b[39m] \u001b[38;5;241m=\u001b[39m \u001b[38;5;28mmin\u001b[39m(oldmaxprec, \u001b[38;5;241m2\u001b[39m\u001b[38;5;241m*\u001b[39mprec)\n\u001b[1;32m--> 600\u001b[0m     terms \u001b[38;5;241m=\u001b[39m [evalf(arg, prec \u001b[38;5;241m+\u001b[39m \u001b[38;5;241m10\u001b[39m, options) \u001b[38;5;28;01mfor\u001b[39;00m arg \u001b[38;5;129;01min\u001b[39;00m v\u001b[38;5;241m.\u001b[39margs]\n\u001b[0;32m    601\u001b[0m     n \u001b[38;5;241m=\u001b[39m terms\u001b[38;5;241m.\u001b[39mcount(S\u001b[38;5;241m.\u001b[39mComplexInfinity)\n\u001b[0;32m    602\u001b[0m     \u001b[38;5;28;01mif\u001b[39;00m n \u001b[38;5;241m>\u001b[39m\u001b[38;5;241m=\u001b[39m \u001b[38;5;241m2\u001b[39m:\n",
      "File \u001b[1;32m~\\AppData\\Roaming\\Python\\Python312\\site-packages\\sympy\\core\\evalf.py:1482\u001b[0m, in \u001b[0;36mevalf\u001b[1;34m(x, prec, options)\u001b[0m\n\u001b[0;32m   1480\u001b[0m \u001b[38;5;28;01mtry\u001b[39;00m:\n\u001b[0;32m   1481\u001b[0m     rf \u001b[38;5;241m=\u001b[39m evalf_table[\u001b[38;5;28mtype\u001b[39m(x)]\n\u001b[1;32m-> 1482\u001b[0m     r \u001b[38;5;241m=\u001b[39m rf(x, prec, options)\n\u001b[0;32m   1483\u001b[0m \u001b[38;5;28;01mexcept\u001b[39;00m \u001b[38;5;167;01mKeyError\u001b[39;00m:\n\u001b[0;32m   1484\u001b[0m     \u001b[38;5;66;03m# Fall back to ordinary evalf if possible\u001b[39;00m\n\u001b[0;32m   1485\u001b[0m     \u001b[38;5;28;01mif\u001b[39;00m \u001b[38;5;124m'\u001b[39m\u001b[38;5;124msubs\u001b[39m\u001b[38;5;124m'\u001b[39m \u001b[38;5;129;01min\u001b[39;00m options:\n",
      "File \u001b[1;32m~\\AppData\\Roaming\\Python\\Python312\\site-packages\\sympy\\core\\evalf.py:696\u001b[0m, in \u001b[0;36mevalf_mul\u001b[1;34m(v, prec, options)\u001b[0m\n\u001b[0;32m    694\u001b[0m \u001b[38;5;28;01melif\u001b[39;00m i \u001b[38;5;241m==\u001b[39m last \u001b[38;5;129;01mand\u001b[39;00m arg \u001b[38;5;129;01mis\u001b[39;00m S\u001b[38;5;241m.\u001b[39mOne:\n\u001b[0;32m    695\u001b[0m     \u001b[38;5;28;01mcontinue\u001b[39;00m\n\u001b[1;32m--> 696\u001b[0m re, im, re_acc, im_acc \u001b[38;5;241m=\u001b[39m evalf(arg, working_prec, options)\n\u001b[0;32m    697\u001b[0m \u001b[38;5;28;01mif\u001b[39;00m re \u001b[38;5;129;01mand\u001b[39;00m im:\n\u001b[0;32m    698\u001b[0m     complex_factors\u001b[38;5;241m.\u001b[39mappend((re, im, re_acc, im_acc))\n",
      "File \u001b[1;32m~\\AppData\\Roaming\\Python\\Python312\\site-packages\\sympy\\core\\evalf.py:1482\u001b[0m, in \u001b[0;36mevalf\u001b[1;34m(x, prec, options)\u001b[0m\n\u001b[0;32m   1480\u001b[0m \u001b[38;5;28;01mtry\u001b[39;00m:\n\u001b[0;32m   1481\u001b[0m     rf \u001b[38;5;241m=\u001b[39m evalf_table[\u001b[38;5;28mtype\u001b[39m(x)]\n\u001b[1;32m-> 1482\u001b[0m     r \u001b[38;5;241m=\u001b[39m rf(x, prec, options)\n\u001b[0;32m   1483\u001b[0m \u001b[38;5;28;01mexcept\u001b[39;00m \u001b[38;5;167;01mKeyError\u001b[39;00m:\n\u001b[0;32m   1484\u001b[0m     \u001b[38;5;66;03m# Fall back to ordinary evalf if possible\u001b[39;00m\n\u001b[0;32m   1485\u001b[0m     \u001b[38;5;28;01mif\u001b[39;00m \u001b[38;5;124m'\u001b[39m\u001b[38;5;124msubs\u001b[39m\u001b[38;5;124m'\u001b[39m \u001b[38;5;129;01min\u001b[39;00m options:\n",
      "File \u001b[1;32m~\\AppData\\Roaming\\Python\\Python312\\site-packages\\sympy\\core\\evalf.py:776\u001b[0m, in \u001b[0;36mevalf_pow\u001b[1;34m(v, prec, options)\u001b[0m\n\u001b[0;32m    773\u001b[0m \u001b[38;5;66;03m# Exponentiation by p magnifies relative error by |p|, so the\u001b[39;00m\n\u001b[0;32m    774\u001b[0m \u001b[38;5;66;03m# base must be evaluated with increased precision if p is large\u001b[39;00m\n\u001b[0;32m    775\u001b[0m prec \u001b[38;5;241m+\u001b[39m\u001b[38;5;241m=\u001b[39m \u001b[38;5;28mint\u001b[39m(math\u001b[38;5;241m.\u001b[39mlog(\u001b[38;5;28mabs\u001b[39m(p), \u001b[38;5;241m2\u001b[39m))\n\u001b[1;32m--> 776\u001b[0m result \u001b[38;5;241m=\u001b[39m evalf(base, prec \u001b[38;5;241m+\u001b[39m \u001b[38;5;241m5\u001b[39m, options)\n\u001b[0;32m    777\u001b[0m \u001b[38;5;28;01mif\u001b[39;00m result \u001b[38;5;129;01mis\u001b[39;00m S\u001b[38;5;241m.\u001b[39mComplexInfinity:\n\u001b[0;32m    778\u001b[0m     \u001b[38;5;28;01mif\u001b[39;00m p \u001b[38;5;241m<\u001b[39m \u001b[38;5;241m0\u001b[39m:\n",
      "File \u001b[1;32m~\\AppData\\Roaming\\Python\\Python312\\site-packages\\sympy\\core\\evalf.py:1482\u001b[0m, in \u001b[0;36mevalf\u001b[1;34m(x, prec, options)\u001b[0m\n\u001b[0;32m   1480\u001b[0m \u001b[38;5;28;01mtry\u001b[39;00m:\n\u001b[0;32m   1481\u001b[0m     rf \u001b[38;5;241m=\u001b[39m evalf_table[\u001b[38;5;28mtype\u001b[39m(x)]\n\u001b[1;32m-> 1482\u001b[0m     r \u001b[38;5;241m=\u001b[39m rf(x, prec, options)\n\u001b[0;32m   1483\u001b[0m \u001b[38;5;28;01mexcept\u001b[39;00m \u001b[38;5;167;01mKeyError\u001b[39;00m:\n\u001b[0;32m   1484\u001b[0m     \u001b[38;5;66;03m# Fall back to ordinary evalf if possible\u001b[39;00m\n\u001b[0;32m   1485\u001b[0m     \u001b[38;5;28;01mif\u001b[39;00m \u001b[38;5;124m'\u001b[39m\u001b[38;5;124msubs\u001b[39m\u001b[38;5;124m'\u001b[39m \u001b[38;5;129;01min\u001b[39;00m options:\n",
      "File \u001b[1;32m~\\AppData\\Roaming\\Python\\Python312\\site-packages\\sympy\\core\\evalf.py:600\u001b[0m, in \u001b[0;36mevalf_add\u001b[1;34m(v, prec, options)\u001b[0m\n\u001b[0;32m    597\u001b[0m \u001b[38;5;28;01mwhile\u001b[39;00m \u001b[38;5;241m1\u001b[39m:\n\u001b[0;32m    598\u001b[0m     options[\u001b[38;5;124m'\u001b[39m\u001b[38;5;124mmaxprec\u001b[39m\u001b[38;5;124m'\u001b[39m] \u001b[38;5;241m=\u001b[39m \u001b[38;5;28mmin\u001b[39m(oldmaxprec, \u001b[38;5;241m2\u001b[39m\u001b[38;5;241m*\u001b[39mprec)\n\u001b[1;32m--> 600\u001b[0m     terms \u001b[38;5;241m=\u001b[39m [evalf(arg, prec \u001b[38;5;241m+\u001b[39m \u001b[38;5;241m10\u001b[39m, options) \u001b[38;5;28;01mfor\u001b[39;00m arg \u001b[38;5;129;01min\u001b[39;00m v\u001b[38;5;241m.\u001b[39margs]\n\u001b[0;32m    601\u001b[0m     n \u001b[38;5;241m=\u001b[39m terms\u001b[38;5;241m.\u001b[39mcount(S\u001b[38;5;241m.\u001b[39mComplexInfinity)\n\u001b[0;32m    602\u001b[0m     \u001b[38;5;28;01mif\u001b[39;00m n \u001b[38;5;241m>\u001b[39m\u001b[38;5;241m=\u001b[39m \u001b[38;5;241m2\u001b[39m:\n",
      "File \u001b[1;32m~\\AppData\\Roaming\\Python\\Python312\\site-packages\\sympy\\core\\evalf.py:1482\u001b[0m, in \u001b[0;36mevalf\u001b[1;34m(x, prec, options)\u001b[0m\n\u001b[0;32m   1480\u001b[0m \u001b[38;5;28;01mtry\u001b[39;00m:\n\u001b[0;32m   1481\u001b[0m     rf \u001b[38;5;241m=\u001b[39m evalf_table[\u001b[38;5;28mtype\u001b[39m(x)]\n\u001b[1;32m-> 1482\u001b[0m     r \u001b[38;5;241m=\u001b[39m rf(x, prec, options)\n\u001b[0;32m   1483\u001b[0m \u001b[38;5;28;01mexcept\u001b[39;00m \u001b[38;5;167;01mKeyError\u001b[39;00m:\n\u001b[0;32m   1484\u001b[0m     \u001b[38;5;66;03m# Fall back to ordinary evalf if possible\u001b[39;00m\n\u001b[0;32m   1485\u001b[0m     \u001b[38;5;28;01mif\u001b[39;00m \u001b[38;5;124m'\u001b[39m\u001b[38;5;124msubs\u001b[39m\u001b[38;5;124m'\u001b[39m \u001b[38;5;129;01min\u001b[39;00m options:\n",
      "File \u001b[1;32m~\\AppData\\Roaming\\Python\\Python312\\site-packages\\sympy\\core\\evalf.py:696\u001b[0m, in \u001b[0;36mevalf_mul\u001b[1;34m(v, prec, options)\u001b[0m\n\u001b[0;32m    694\u001b[0m \u001b[38;5;28;01melif\u001b[39;00m i \u001b[38;5;241m==\u001b[39m last \u001b[38;5;129;01mand\u001b[39;00m arg \u001b[38;5;129;01mis\u001b[39;00m S\u001b[38;5;241m.\u001b[39mOne:\n\u001b[0;32m    695\u001b[0m     \u001b[38;5;28;01mcontinue\u001b[39;00m\n\u001b[1;32m--> 696\u001b[0m re, im, re_acc, im_acc \u001b[38;5;241m=\u001b[39m evalf(arg, working_prec, options)\n\u001b[0;32m    697\u001b[0m \u001b[38;5;28;01mif\u001b[39;00m re \u001b[38;5;129;01mand\u001b[39;00m im:\n\u001b[0;32m    698\u001b[0m     complex_factors\u001b[38;5;241m.\u001b[39mappend((re, im, re_acc, im_acc))\n",
      "File \u001b[1;32m~\\AppData\\Roaming\\Python\\Python312\\site-packages\\sympy\\core\\evalf.py:1487\u001b[0m, in \u001b[0;36mevalf\u001b[1;34m(x, prec, options)\u001b[0m\n\u001b[0;32m   1485\u001b[0m \u001b[38;5;28;01mif\u001b[39;00m \u001b[38;5;124m'\u001b[39m\u001b[38;5;124msubs\u001b[39m\u001b[38;5;124m'\u001b[39m \u001b[38;5;129;01min\u001b[39;00m options:\n\u001b[0;32m   1486\u001b[0m     x \u001b[38;5;241m=\u001b[39m x\u001b[38;5;241m.\u001b[39msubs(evalf_subs(prec, options[\u001b[38;5;124m'\u001b[39m\u001b[38;5;124msubs\u001b[39m\u001b[38;5;124m'\u001b[39m]))\n\u001b[1;32m-> 1487\u001b[0m xe \u001b[38;5;241m=\u001b[39m x\u001b[38;5;241m.\u001b[39m_eval_evalf(prec)\n\u001b[0;32m   1488\u001b[0m \u001b[38;5;28;01mif\u001b[39;00m xe \u001b[38;5;129;01mis\u001b[39;00m \u001b[38;5;28;01mNone\u001b[39;00m:\n\u001b[0;32m   1489\u001b[0m     \u001b[38;5;28;01mraise\u001b[39;00m \u001b[38;5;167;01mNotImplementedError\u001b[39;00m\n",
      "File \u001b[1;32m~\\AppData\\Roaming\\Python\\Python312\\site-packages\\sympy\\polys\\rootoftools.py:919\u001b[0m, in \u001b[0;36mComplexRootOf._eval_evalf\u001b[1;34m(self, prec, **kwargs)\u001b[0m\n\u001b[0;32m    917\u001b[0m \u001b[38;5;250m\u001b[39m\u001b[38;5;124;03m\"\"\"Evaluate this complex root to the given precision.\"\"\"\u001b[39;00m\n\u001b[0;32m    918\u001b[0m \u001b[38;5;66;03m# all kwargs are ignored\u001b[39;00m\n\u001b[1;32m--> 919\u001b[0m \u001b[38;5;28;01mreturn\u001b[39;00m \u001b[38;5;28mself\u001b[39m\u001b[38;5;241m.\u001b[39meval_rational(n\u001b[38;5;241m=\u001b[39mprec_to_dps(prec))\u001b[38;5;241m.\u001b[39m_evalf(prec)\n",
      "File \u001b[1;32m~\\AppData\\Roaming\\Python\\Python312\\site-packages\\sympy\\polys\\rootoftools.py:990\u001b[0m, in \u001b[0;36mComplexRootOf.eval_rational\u001b[1;34m(self, dx, dy, n)\u001b[0m\n\u001b[0;32m    988\u001b[0m     dx \u001b[38;5;241m=\u001b[39m \u001b[38;5;28mabs\u001b[39m(interval\u001b[38;5;241m.\u001b[39mcenter[\u001b[38;5;241m0\u001b[39m]\u001b[38;5;241m*\u001b[39mrtol)\n\u001b[0;32m    989\u001b[0m     dy \u001b[38;5;241m=\u001b[39m \u001b[38;5;28mabs\u001b[39m(interval\u001b[38;5;241m.\u001b[39mcenter[\u001b[38;5;241m1\u001b[39m]\u001b[38;5;241m*\u001b[39mrtol)\n\u001b[1;32m--> 990\u001b[0m interval \u001b[38;5;241m=\u001b[39m interval\u001b[38;5;241m.\u001b[39mrefine_size(dx, dy)\n\u001b[0;32m    991\u001b[0m c \u001b[38;5;241m=\u001b[39m interval\u001b[38;5;241m.\u001b[39mcenter\n\u001b[0;32m    992\u001b[0m real, imag \u001b[38;5;241m=\u001b[39m \u001b[38;5;28mmap\u001b[39m(Rational, c)\n",
      "File \u001b[1;32m~\\AppData\\Roaming\\Python\\Python312\\site-packages\\sympy\\polys\\rootisolation.py:2183\u001b[0m, in \u001b[0;36mComplexInterval.refine_size\u001b[1;34m(self, dx, dy)\u001b[0m\n\u001b[0;32m   2181\u001b[0m expr \u001b[38;5;241m=\u001b[39m \u001b[38;5;28mself\u001b[39m\n\u001b[0;32m   2182\u001b[0m \u001b[38;5;28;01mwhile\u001b[39;00m \u001b[38;5;129;01mnot\u001b[39;00m (expr\u001b[38;5;241m.\u001b[39mdx \u001b[38;5;241m<\u001b[39m dx \u001b[38;5;129;01mand\u001b[39;00m expr\u001b[38;5;241m.\u001b[39mdy \u001b[38;5;241m<\u001b[39m dy):\n\u001b[1;32m-> 2183\u001b[0m     expr \u001b[38;5;241m=\u001b[39m expr\u001b[38;5;241m.\u001b[39m_inner_refine()\n\u001b[0;32m   2185\u001b[0m \u001b[38;5;28;01mreturn\u001b[39;00m expr\n",
      "File \u001b[1;32m~\\AppData\\Roaming\\Python\\Python312\\site-packages\\sympy\\polys\\rootisolation.py:2153\u001b[0m, in \u001b[0;36mComplexInterval._inner_refine\u001b[1;34m(self)\u001b[0m\n\u001b[0;32m   2150\u001b[0m dom \u001b[38;5;241m=\u001b[39m \u001b[38;5;28mself\u001b[39m\u001b[38;5;241m.\u001b[39mdom\n\u001b[0;32m   2152\u001b[0m \u001b[38;5;28;01mif\u001b[39;00m s \u001b[38;5;241m-\u001b[39m u \u001b[38;5;241m>\u001b[39m t \u001b[38;5;241m-\u001b[39m v:\n\u001b[1;32m-> 2153\u001b[0m     D_L, D_R \u001b[38;5;241m=\u001b[39m _vertical_bisection(\u001b[38;5;241m1\u001b[39m, (u, v), (s, t), I, Q, F1, F2, f1, f2, dom)\n\u001b[0;32m   2155\u001b[0m     \u001b[38;5;28;01mif\u001b[39;00m D_L[\u001b[38;5;241m0\u001b[39m] \u001b[38;5;241m==\u001b[39m \u001b[38;5;241m1\u001b[39m:\n\u001b[0;32m   2156\u001b[0m         _, a, b, I, Q, F1, F2 \u001b[38;5;241m=\u001b[39m D_L\n",
      "File \u001b[1;32m~\\AppData\\Roaming\\Python\\Python312\\site-packages\\sympy\\polys\\rootisolation.py:1366\u001b[0m, in \u001b[0;36m_vertical_bisection\u001b[1;34m(N, a, b, I, Q, F1, F2, f1, f2, F)\u001b[0m\n\u001b[0;32m   1363\u001b[0m f1V \u001b[38;5;241m=\u001b[39m dmp_eval_in(f1, x, \u001b[38;5;241m0\u001b[39m, \u001b[38;5;241m1\u001b[39m, F)\n\u001b[0;32m   1364\u001b[0m f2V \u001b[38;5;241m=\u001b[39m dmp_eval_in(f2, x, \u001b[38;5;241m0\u001b[39m, \u001b[38;5;241m1\u001b[39m, F)\n\u001b[1;32m-> 1366\u001b[0m I_V \u001b[38;5;241m=\u001b[39m dup_isolate_real_roots_list([f1V, f2V], F, inf\u001b[38;5;241m=\u001b[39mv, sup\u001b[38;5;241m=\u001b[39mt, fast\u001b[38;5;241m=\u001b[39m\u001b[38;5;28;01mTrue\u001b[39;00m, strict\u001b[38;5;241m=\u001b[39m\u001b[38;5;28;01mTrue\u001b[39;00m, basis\u001b[38;5;241m=\u001b[39m\u001b[38;5;28;01mTrue\u001b[39;00m)\n\u001b[0;32m   1368\u001b[0m I_L1_L, I_L1_R \u001b[38;5;241m=\u001b[39m [], []\n\u001b[0;32m   1369\u001b[0m I_L2_L, I_L2_R \u001b[38;5;241m=\u001b[39m I_V, I_L2\n",
      "File \u001b[1;32m~\\AppData\\Roaming\\Python\\Python312\\site-packages\\sympy\\polys\\rootisolation.py:667\u001b[0m, in \u001b[0;36mdup_isolate_real_roots_list\u001b[1;34m(polys, K, eps, inf, sup, strict, basis, fast)\u001b[0m\n\u001b[0;32m    664\u001b[0m \u001b[38;5;28;01mif\u001b[39;00m zeros \u001b[38;5;129;01mand\u001b[39;00m j \u001b[38;5;241m>\u001b[39m \u001b[38;5;241m0\u001b[39m:\n\u001b[0;32m    665\u001b[0m     zero_indices[i] \u001b[38;5;241m=\u001b[39m j\n\u001b[1;32m--> 667\u001b[0m \u001b[38;5;28;01mfor\u001b[39;00m f, k \u001b[38;5;129;01min\u001b[39;00m dup_factor_list(p, K)[\u001b[38;5;241m1\u001b[39m]:\n\u001b[0;32m    668\u001b[0m     f \u001b[38;5;241m=\u001b[39m \u001b[38;5;28mtuple\u001b[39m(f)\n\u001b[0;32m    670\u001b[0m     \u001b[38;5;28;01mif\u001b[39;00m f \u001b[38;5;129;01mnot\u001b[39;00m \u001b[38;5;129;01min\u001b[39;00m factors_dict:\n",
      "File \u001b[1;32m~\\AppData\\Roaming\\Python\\Python312\\site-packages\\sympy\\polys\\factortools.py:1342\u001b[0m, in \u001b[0;36mdup_factor_list\u001b[1;34m(f, K0)\u001b[0m\n\u001b[0;32m   1339\u001b[0m     K \u001b[38;5;241m=\u001b[39m K0\n\u001b[0;32m   1341\u001b[0m \u001b[38;5;28;01mif\u001b[39;00m K\u001b[38;5;241m.\u001b[39mis_ZZ:\n\u001b[1;32m-> 1342\u001b[0m     coeff, factors \u001b[38;5;241m=\u001b[39m dup_zz_factor(f, K)\n\u001b[0;32m   1343\u001b[0m \u001b[38;5;28;01melif\u001b[39;00m K\u001b[38;5;241m.\u001b[39mis_Poly:\n\u001b[0;32m   1344\u001b[0m     f, u \u001b[38;5;241m=\u001b[39m dmp_inject(f, \u001b[38;5;241m0\u001b[39m, K)\n",
      "File \u001b[1;32m~\\AppData\\Roaming\\Python\\Python312\\site-packages\\sympy\\polys\\factortools.py:688\u001b[0m, in \u001b[0;36mdup_zz_factor\u001b[1;34m(f, K)\u001b[0m\n\u001b[0;32m    685\u001b[0m     H \u001b[38;5;241m=\u001b[39m dup_zz_cyclotomic_factor(g, K)\n\u001b[0;32m    687\u001b[0m \u001b[38;5;28;01mif\u001b[39;00m H \u001b[38;5;129;01mis\u001b[39;00m \u001b[38;5;28;01mNone\u001b[39;00m:\n\u001b[1;32m--> 688\u001b[0m     H \u001b[38;5;241m=\u001b[39m dup_zz_zassenhaus(g, K)\n\u001b[0;32m    690\u001b[0m factors \u001b[38;5;241m=\u001b[39m dup_trial_division(f, H, K)\n\u001b[0;32m    691\u001b[0m \u001b[38;5;28;01mreturn\u001b[39;00m cont, factors\n",
      "File \u001b[1;32m~\\AppData\\Roaming\\Python\\Python312\\site-packages\\sympy\\polys\\factortools.py:354\u001b[0m, in \u001b[0;36mdup_zz_zassenhaus\u001b[1;34m(f, K)\u001b[0m\n\u001b[0;32m    350\u001b[0m l \u001b[38;5;241m=\u001b[39m \u001b[38;5;28mint\u001b[39m(_ceil(_log(\u001b[38;5;241m2\u001b[39m\u001b[38;5;241m*\u001b[39mB \u001b[38;5;241m+\u001b[39m \u001b[38;5;241m1\u001b[39m, p)))\n\u001b[0;32m    352\u001b[0m modular \u001b[38;5;241m=\u001b[39m [gf_to_int_poly(ff, p) \u001b[38;5;28;01mfor\u001b[39;00m ff \u001b[38;5;129;01min\u001b[39;00m fsqf]\n\u001b[1;32m--> 354\u001b[0m g \u001b[38;5;241m=\u001b[39m dup_zz_hensel_lift(p, f, modular, l, K)\n\u001b[0;32m    356\u001b[0m sorted_T \u001b[38;5;241m=\u001b[39m \u001b[38;5;28mrange\u001b[39m(\u001b[38;5;28mlen\u001b[39m(g))\n\u001b[0;32m    357\u001b[0m T \u001b[38;5;241m=\u001b[39m \u001b[38;5;28mset\u001b[39m(sorted_T)\n",
      "File \u001b[1;32m~\\AppData\\Roaming\\Python\\Python312\\site-packages\\sympy\\polys\\factortools.py:302\u001b[0m, in \u001b[0;36mdup_zz_hensel_lift\u001b[1;34m(p, f, f_list, l, K)\u001b[0m\n\u001b[0;32m    299\u001b[0m t \u001b[38;5;241m=\u001b[39m gf_to_int_poly(t, p)\n\u001b[0;32m    301\u001b[0m \u001b[38;5;28;01mfor\u001b[39;00m _ \u001b[38;5;129;01min\u001b[39;00m \u001b[38;5;28mrange\u001b[39m(\u001b[38;5;241m1\u001b[39m, d \u001b[38;5;241m+\u001b[39m \u001b[38;5;241m1\u001b[39m):\n\u001b[1;32m--> 302\u001b[0m     (g, h, s, t), m \u001b[38;5;241m=\u001b[39m dup_zz_hensel_step(m, f, g, h, s, t, K), m\u001b[38;5;241m*\u001b[39m\u001b[38;5;241m*\u001b[39m\u001b[38;5;241m2\u001b[39m\n\u001b[0;32m    304\u001b[0m \u001b[38;5;28;01mreturn\u001b[39;00m dup_zz_hensel_lift(p, g, f_list[:k], l, K) \\\n\u001b[0;32m    305\u001b[0m     \u001b[38;5;241m+\u001b[39m dup_zz_hensel_lift(p, h, f_list[k:], l, K)\n",
      "File \u001b[1;32m~\\AppData\\Roaming\\Python\\Python312\\site-packages\\sympy\\polys\\factortools.py:226\u001b[0m, in \u001b[0;36mdup_zz_hensel_step\u001b[1;34m(m, f, g, h, s, t, K)\u001b[0m\n\u001b[0;32m    223\u001b[0m e \u001b[38;5;241m=\u001b[39m dup_sub_mul(f, g, h, K)\n\u001b[0;32m    224\u001b[0m e \u001b[38;5;241m=\u001b[39m dup_trunc(e, M, K)\n\u001b[1;32m--> 226\u001b[0m q, r \u001b[38;5;241m=\u001b[39m dup_div(dup_mul(s, e, K), h, K)\n\u001b[0;32m    228\u001b[0m q \u001b[38;5;241m=\u001b[39m dup_trunc(q, M, K)\n\u001b[0;32m    229\u001b[0m r \u001b[38;5;241m=\u001b[39m dup_trunc(r, M, K)\n",
      "File \u001b[1;32m~\\AppData\\Roaming\\Python\\Python312\\site-packages\\sympy\\polys\\densearith.py:1536\u001b[0m, in \u001b[0;36mdup_div\u001b[1;34m(f, g, K)\u001b[0m\n\u001b[0;32m   1534\u001b[0m     \u001b[38;5;28;01mreturn\u001b[39;00m dup_ff_div(f, g, K)\n\u001b[0;32m   1535\u001b[0m \u001b[38;5;28;01melse\u001b[39;00m:\n\u001b[1;32m-> 1536\u001b[0m     \u001b[38;5;28;01mreturn\u001b[39;00m dup_rr_div(f, g, K)\n",
      "File \u001b[1;32m~\\AppData\\Roaming\\Python\\Python312\\site-packages\\sympy\\polys\\densearith.py:1343\u001b[0m, in \u001b[0;36mdup_rr_div\u001b[1;34m(f, g, K)\u001b[0m\n\u001b[0;32m   1340\u001b[0m c \u001b[38;5;241m=\u001b[39m K\u001b[38;5;241m.\u001b[39mexquo(lc_r, lc_g)\n\u001b[0;32m   1341\u001b[0m j \u001b[38;5;241m=\u001b[39m dr \u001b[38;5;241m-\u001b[39m dg\n\u001b[1;32m-> 1343\u001b[0m q \u001b[38;5;241m=\u001b[39m dup_add_term(q, c, j, K)\n\u001b[0;32m   1344\u001b[0m h \u001b[38;5;241m=\u001b[39m dup_mul_term(g, c, j, K)\n\u001b[0;32m   1345\u001b[0m r \u001b[38;5;241m=\u001b[39m dup_sub(r, h, K)\n",
      "File \u001b[1;32m~\\AppData\\Roaming\\Python\\Python312\\site-packages\\sympy\\polys\\densearith.py:14\u001b[0m, in \u001b[0;36mdup_add_term\u001b[1;34m(f, c, i, K)\u001b[0m\n\u001b[0;32m      4\u001b[0m \u001b[38;5;28;01mfrom\u001b[39;00m \u001b[38;5;21;01msympy\u001b[39;00m\u001b[38;5;21;01m.\u001b[39;00m\u001b[38;5;21;01mpolys\u001b[39;00m\u001b[38;5;21;01m.\u001b[39;00m\u001b[38;5;21;01mdensebasic\u001b[39;00m \u001b[38;5;28;01mimport\u001b[39;00m (\n\u001b[0;32m      5\u001b[0m     dup_slice,\n\u001b[0;32m      6\u001b[0m     dup_LC, dmp_LC,\n\u001b[1;32m   (...)\u001b[0m\n\u001b[0;32m     10\u001b[0m     dmp_one_p, dmp_one,\n\u001b[0;32m     11\u001b[0m     dmp_ground, dmp_zeros)\n\u001b[0;32m     12\u001b[0m \u001b[38;5;28;01mfrom\u001b[39;00m \u001b[38;5;21;01msympy\u001b[39;00m\u001b[38;5;21;01m.\u001b[39;00m\u001b[38;5;21;01mpolys\u001b[39;00m\u001b[38;5;21;01m.\u001b[39;00m\u001b[38;5;21;01mpolyerrors\u001b[39;00m \u001b[38;5;28;01mimport\u001b[39;00m (ExactQuotientFailed, PolynomialDivisionFailed)\n\u001b[1;32m---> 14\u001b[0m \u001b[38;5;28;01mdef\u001b[39;00m \u001b[38;5;21mdup_add_term\u001b[39m(f, c, i, K):\n\u001b[0;32m     15\u001b[0m \u001b[38;5;250m    \u001b[39m\u001b[38;5;124;03m\"\"\"\u001b[39;00m\n\u001b[0;32m     16\u001b[0m \u001b[38;5;124;03m    Add ``c*x**i`` to ``f`` in ``K[x]``.\u001b[39;00m\n\u001b[0;32m     17\u001b[0m \n\u001b[1;32m   (...)\u001b[0m\n\u001b[0;32m     26\u001b[0m \n\u001b[0;32m     27\u001b[0m \u001b[38;5;124;03m    \"\"\"\u001b[39;00m\n\u001b[0;32m     28\u001b[0m     \u001b[38;5;28;01mif\u001b[39;00m \u001b[38;5;129;01mnot\u001b[39;00m c:\n",
      "\u001b[1;31mKeyboardInterrupt\u001b[0m: "
     ]
    }
   ],
   "source": [
    "solve = sp.solve([M, var], (k, f), domain=sp.S.Reals)\n",
    "solve"
   ]
  },
  {
   "cell_type": "markdown",
   "metadata": {},
   "source": [
    "## Пусть $\\phi = 0$"
   ]
  },
  {
   "cell_type": "code",
   "execution_count": 8,
   "metadata": {},
   "outputs": [
    {
     "data": {
      "text/latex": [
       "$\\displaystyle \\frac{3 k \\sqrt{k \\left(k^{3} - k + 8\\right)} \\left(k + 1\\right)^{2} \\left(k^{3} - k + 8\\right) - 2 \\left(k \\left(k^{3} - k + 8\\right)\\right)^{\\frac{3}{2}} \\left(k + 1\\right)^{3}}{48 k}$"
      ],
      "text/plain": [
       "(3*k*sqrt(k*(k**3 - k + 8))*(k + 1)**2*(k**3 - k + 8) - 2*(k*(k**3 - k + 8))**(3/2)*(k + 1)**3)/(48*k)"
      ]
     },
     "execution_count": 8,
     "metadata": {},
     "output_type": "execute_result"
    }
   ],
   "source": [
    "M_0 = M.subs(f, 0)\n",
    "M_0"
   ]
  },
  {
   "cell_type": "code",
   "execution_count": null,
   "metadata": {},
   "outputs": [],
   "source": [
    "sp.solve(M_0 - sp.sqrt(1), k)"
   ]
  },
  {
   "cell_type": "code",
   "execution_count": null,
   "metadata": {},
   "outputs": [
    {
     "data": {
      "text/latex": [
       "$\\displaystyle \\frac{k \\left(4 k^{20} + 12 k^{19} - 3 k^{18} + 88 k^{17} + 359 k^{16} + 132 k^{15} + 877 k^{14} + 3808 k^{13} + 3127 k^{12} + 7044 k^{11} + 19263 k^{10} + 19960 k^{9} + 39645 k^{8} + 57084 k^{7} + 44663 k^{6} + 91088 k^{5} + 98817 k^{4} + 34288 k^{3} + 16480 k^{2} - 512 k + 2048\\right)}{18432}$"
      ],
      "text/plain": [
       "k*(4*k**20 + 12*k**19 - 3*k**18 + 88*k**17 + 359*k**16 + 132*k**15 + 877*k**14 + 3808*k**13 + 3127*k**12 + 7044*k**11 + 19263*k**10 + 19960*k**9 + 39645*k**8 + 57084*k**7 + 44663*k**6 + 91088*k**5 + 98817*k**4 + 34288*k**3 + 16480*k**2 - 512*k + 2048)/18432"
      ]
     },
     "execution_count": 16,
     "metadata": {},
     "output_type": "execute_result"
    }
   ],
   "source": [
    "var_0 = var.subs(f, 0)\n",
    "var_0"
   ]
  },
  {
   "cell_type": "code",
   "execution_count": null,
   "metadata": {},
   "outputs": [
    {
     "data": {
      "text/latex": [
       "$\\displaystyle \\emptyset$"
      ],
      "text/plain": [
       "EmptySet"
      ]
     },
     "execution_count": 35,
     "metadata": {},
     "output_type": "execute_result"
    }
   ],
   "source": [
    "solve = sp.nonlinsolve([M_0, var_0 - 0.125], k)\n",
    "solve"
   ]
  },
  {
   "cell_type": "code",
   "execution_count": 19,
   "metadata": {},
   "outputs": [
    {
     "data": {
      "text/latex": [
       "$\\displaystyle \\frac{\\sqrt[3]{3} \\left(- \\left(\\sqrt{1293} + 36\\right)^{\\frac{2}{3}} - \\sqrt[3]{3}\\right)}{3 \\sqrt[3]{\\sqrt{1293} + 36}}$"
      ],
      "text/plain": [
       "3**(1/3)*(-(sqrt(1293) + 36)**(2/3) - 3**(1/3))/(3*(sqrt(1293) + 36)**(1/3))"
      ]
     },
     "execution_count": 19,
     "metadata": {},
     "output_type": "execute_result"
    }
   ],
   "source": [
    "solve[0][0]"
   ]
  },
  {
   "cell_type": "code",
   "execution_count": 20,
   "metadata": {},
   "outputs": [
    {
     "data": {
      "text/latex": [
       "$\\displaystyle \\frac{3^{\\frac{2}{3}} \\cdot \\left(\\frac{2}{3} + \\frac{\\left(1 - \\sqrt{3} i\\right)^{2} \\left(3 \\sqrt{1293} + 108\\right)^{\\frac{2}{3}}}{18}\\right)}{\\left(1 - \\sqrt{3} i\\right) \\sqrt[3]{\\sqrt{1293} + 36}}$"
      ],
      "text/plain": [
       "3**(2/3)*(2/3 + (1 - sqrt(3)*I)**2*(3*sqrt(1293) + 108)**(2/3)/18)/((1 - sqrt(3)*I)*(sqrt(1293) + 36)**(1/3))"
      ]
     },
     "execution_count": 20,
     "metadata": {},
     "output_type": "execute_result"
    }
   ],
   "source": [
    "solve[1][0]"
   ]
  },
  {
   "cell_type": "code",
   "execution_count": 21,
   "metadata": {},
   "outputs": [
    {
     "data": {
      "text/latex": [
       "$\\displaystyle \\frac{3^{\\frac{2}{3}} \\cdot \\left(\\frac{2}{3} + \\frac{\\left(1 + \\sqrt{3} i\\right)^{2} \\left(3 \\sqrt{1293} + 108\\right)^{\\frac{2}{3}}}{18}\\right)}{\\left(1 + \\sqrt{3} i\\right) \\sqrt[3]{\\sqrt{1293} + 36}}$"
      ],
      "text/plain": [
       "3**(2/3)*(2/3 + (1 + sqrt(3)*I)**2*(3*sqrt(1293) + 108)**(2/3)/18)/((1 + sqrt(3)*I)*(sqrt(1293) + 36)**(1/3))"
      ]
     },
     "execution_count": 21,
     "metadata": {},
     "output_type": "execute_result"
    }
   ],
   "source": [
    "solve[2][0]"
   ]
  },
  {
   "cell_type": "code",
   "execution_count": null,
   "metadata": {},
   "outputs": [
    {
     "name": "stdout",
     "output_type": "stream",
     "text": [
      "Interval.open(0, oo)\n"
     ]
    },
    {
     "data": {
      "text/latex": [
       "$\\displaystyle \\left(0, \\infty\\right)$"
      ],
      "text/plain": [
       "Interval.open(0, oo)"
      ]
     },
     "execution_count": 54,
     "metadata": {},
     "output_type": "execute_result"
    }
   ],
   "source": [
    "var_0_domain = sp.solveset(var_0>0, k, domain=sp.S.Reals)\n",
    "print(var_0_domain)\n",
    "var_0_domain"
   ]
  },
  {
   "cell_type": "code",
   "execution_count": 71,
   "metadata": {},
   "outputs": [
    {
     "name": "stdout",
     "output_type": "stream",
     "text": [
      "[(-1,), (1/2,), (3**(1/3)*(-(sqrt(1293) + 36)**(2/3) - 3**(1/3))/(3*(sqrt(1293) + 36)**(1/3)),), (3**(2/3)*(2/3 + (1 - sqrt(3)*I)**2*(3*sqrt(1293) + 108)**(2/3)/18)/((1 - sqrt(3)*I)*(sqrt(1293) + 36)**(1/3)),), (3**(2/3)*(2/3 + (1 + sqrt(3)*I)**2*(3*sqrt(1293) + 108)**(2/3)/18)/((1 + sqrt(3)*I)*(sqrt(1293) + 36)**(1/3)),)]\n"
     ]
    },
    {
     "data": {
      "text/plain": [
       "[(-1,),\n",
       " (1/2,),\n",
       " (3**(1/3)*(-(sqrt(1293) + 36)**(2/3) - 3**(1/3))/(3*(sqrt(1293) + 36)**(1/3)),),\n",
       " (3**(2/3)*(2/3 + (1 - sqrt(3)*I)**2*(3*sqrt(1293) + 108)**(2/3)/18)/((1 - sqrt(3)*I)*(sqrt(1293) + 36)**(1/3)),),\n",
       " (3**(2/3)*(2/3 + (1 + sqrt(3)*I)**2*(3*sqrt(1293) + 108)**(2/3)/18)/((1 + sqrt(3)*I)*(sqrt(1293) + 36)**(1/3)),)]"
      ]
     },
     "execution_count": 71,
     "metadata": {},
     "output_type": "execute_result"
    }
   ],
   "source": [
    "M_0_domain = sp.solve([M_0], [k], domain=sp.S.Reals)\n",
    "print(M_0_domain)\n",
    "M_0_domain"
   ]
  },
  {
   "cell_type": "code",
   "execution_count": 82,
   "metadata": {},
   "outputs": [
    {
     "name": "stdout",
     "output_type": "stream",
     "text": [
      "[-1, 1/2, 3**(1/3)*(-(sqrt(1293) + 36)**(2/3) - 3**(1/3))/(3*(sqrt(1293) + 36)**(1/3))]\n"
     ]
    }
   ],
   "source": [
    "reals = []\n",
    "for m_is_eq_0 in M_0_domain:\n",
    "    if (m_is_eq_0[0].is_real):\n",
    "        reals.append(m_is_eq_0[0])\n",
    "print(reals)"
   ]
  },
  {
   "cell_type": "code",
   "execution_count": 85,
   "metadata": {},
   "outputs": [
    {
     "name": "stdout",
     "output_type": "stream",
     "text": [
      "Решения неравенства M_0 > 0: Interval(3**(1/3)*(-(sqrt(1293) + 36)**(2/3) - 3**(1/3))/(3*(sqrt(1293) + 36)**(1/3)), oo)\n"
     ]
    },
    {
     "data": {
      "text/latex": [
       "$\\displaystyle \\left[\\frac{\\sqrt[3]{3} \\left(- \\left(\\sqrt{1293} + 36\\right)^{\\frac{2}{3}} - \\sqrt[3]{3}\\right)}{3 \\sqrt[3]{\\sqrt{1293} + 36}}, \\infty\\right)$"
      ],
      "text/plain": [
       "Interval(3**(1/3)*(-(sqrt(1293) + 36)**(2/3) - 3**(1/3))/(3*(sqrt(1293) + 36)**(1/3)), oo)"
      ]
     },
     "execution_count": 85,
     "metadata": {},
     "output_type": "execute_result"
    }
   ],
   "source": [
    "# Если мы хотим найти решение для M_0 > 0, то проверим знаки на интервалах, образованных корнями\n",
    "epsilon = 1e-6  # допустимая погрешность\n",
    "domain = sp.S.EmptySet  # начальное пустое множество\n",
    "\n",
    "# Перебираем корни, чтобы найти интервал, где M_0 > 0\n",
    "last = -sp.S.Infinity  # Начальная точка (минус бесконечность)\n",
    "for real in reals:\n",
    "    # Проверяем интервал между корнями\n",
    "    if real - epsilon > 0:\n",
    "        # Добавляем интервал, где M_0 > 0\n",
    "        domain = domain.union(sp.Interval(last, real))\n",
    "    last = real\n",
    "\n",
    "# Если после последнего корня M_0 > 0, то добавляем интервал от последнего корня до +∞\n",
    "domain = domain.union(sp.Interval(last, sp.S.Infinity))\n",
    "\n",
    "print(\"Решения неравенства M_0 > 0:\", domain)\n",
    "domain"
   ]
  },
  {
   "cell_type": "code",
   "execution_count": 86,
   "metadata": {},
   "outputs": [
    {
     "name": "stdout",
     "output_type": "stream",
     "text": [
      "-2.16631274739779\n"
     ]
    }
   ],
   "source": [
    "print(domain.start.evalf())"
   ]
  },
  {
   "cell_type": "code",
   "execution_count": null,
   "metadata": {},
   "outputs": [],
   "source": []
  },
  {
   "cell_type": "code",
   "execution_count": null,
   "metadata": {},
   "outputs": [],
   "source": []
  }
 ],
 "metadata": {
  "kernelspec": {
   "display_name": "symmath",
   "language": "python",
   "name": "python3"
  },
  "language_info": {
   "codemirror_mode": {
    "name": "ipython",
    "version": 3
   },
   "file_extension": ".py",
   "mimetype": "text/x-python",
   "name": "python",
   "nbconvert_exporter": "python",
   "pygments_lexer": "ipython3",
   "version": "3.12.7"
  }
 },
 "nbformat": 4,
 "nbformat_minor": 2
}
