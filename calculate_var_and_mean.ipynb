{
 "cells": [
  {
   "cell_type": "markdown",
   "metadata": {},
   "source": [
    "## Матожидание"
   ]
  },
  {
   "cell_type": "code",
   "execution_count": 1,
   "metadata": {},
   "outputs": [
    {
     "data": {
      "text/latex": [
       "$\\displaystyle \\frac{\\phi^{3}}{3 k} - \\frac{\\phi^{2} \\left(\\phi + c k\\right)}{2 k} + \\frac{\\left(\\phi + c k\\right)^{3}}{6 k}$"
      ],
      "text/plain": [
       "\\phi**3/(3*k) - \\phi**2*(\\phi + c*k)/(2*k) + (\\phi + c*k)**3/(6*k)"
      ]
     },
     "execution_count": 1,
     "metadata": {},
     "output_type": "execute_result"
    }
   ],
   "source": [
    "import sympy as sp\n",
    "\n",
    "x, c, k, f = sp.symbols(r\"x c k \\phi\")\n",
    "\n",
    "# c_val = sp.sqrt(-k**2 + (k**4 + 8*k))/(2*k)\n",
    "c_val = sp.sqrt(2/(k*(1+k**2)))\n",
    "\n",
    "sub_integral_function_1 = x*(c - 1/k * (x-f))\n",
    "#sub_integral_function_1 = sub_integral_function_1.subs(c, c_val)\n",
    "i_1 = sp.integrate(sub_integral_function_1, (x, f, k*c+f))\n",
    "i_1"
   ]
  },
  {
   "cell_type": "code",
   "execution_count": 2,
   "metadata": {},
   "outputs": [
    {
     "data": {
      "text/latex": [
       "$\\displaystyle \\frac{\\phi^{3}}{3 k} - \\frac{\\phi^{2} \\left(\\phi + c k\\right)}{2 k} + \\frac{\\left(\\phi + c k\\right) \\left(\\phi + c k \\left(k + 1\\right)\\right)^{2}}{2 k} - \\frac{\\left(\\phi + c k \\left(k + 1\\right)\\right)^{3}}{3 k}$"
      ],
      "text/plain": [
       "\\phi**3/(3*k) - \\phi**2*(\\phi + c*k)/(2*k) + (\\phi + c*k)*(\\phi + c*k*(k + 1))**2/(2*k) - (\\phi + c*k*(k + 1))**3/(3*k)"
      ]
     },
     "execution_count": 2,
     "metadata": {},
     "output_type": "execute_result"
    }
   ],
   "source": [
    "sub_integral_function_2 = x*(-c+1/k*(x-f))\n",
    "#sub_integral_function_1 = sub_integral_function_1.subs(c, c_val)\n",
    "i_2 = sp.integrate(sub_integral_function_1, (x, k*c+f, f + k*c*(1+k))) + i_1\n",
    "i_2"
   ]
  },
  {
   "cell_type": "code",
   "execution_count": 3,
   "metadata": {},
   "outputs": [
    {
     "data": {
      "text/latex": [
       "$\\displaystyle \\frac{\\phi^{3}}{3 k} - \\frac{\\phi^{2} \\left(\\phi + \\sqrt{2} k \\sqrt{\\frac{1}{k \\left(k^{2} + 1\\right)}}\\right)}{2 k} + \\frac{\\left(\\phi + \\sqrt{2} k \\sqrt{\\frac{1}{k \\left(k^{2} + 1\\right)}}\\right)^{3}}{6 k}$"
      ],
      "text/plain": [
       "\\phi**3/(3*k) - \\phi**2*(\\phi + sqrt(2)*k*sqrt(1/(k*(k**2 + 1))))/(2*k) + (\\phi + sqrt(2)*k*sqrt(1/(k*(k**2 + 1))))**3/(6*k)"
      ]
     },
     "execution_count": 3,
     "metadata": {},
     "output_type": "execute_result"
    }
   ],
   "source": [
    "i_1_sub = i_1.subs(c, c_val)\n",
    "i_1_sub"
   ]
  },
  {
   "cell_type": "code",
   "execution_count": 4,
   "metadata": {},
   "outputs": [
    {
     "data": {
      "text/latex": [
       "$\\displaystyle \\frac{\\phi^{3}}{3 k} - \\frac{\\phi^{2} \\left(\\phi + \\sqrt{2} k \\sqrt{\\frac{1}{k \\left(k^{2} + 1\\right)}}\\right)}{2 k} + \\frac{\\left(\\phi + \\sqrt{2} k \\sqrt{\\frac{1}{k \\left(k^{2} + 1\\right)}}\\right) \\left(\\phi + \\sqrt{2} k \\sqrt{\\frac{1}{k \\left(k^{2} + 1\\right)}} \\left(k + 1\\right)\\right)^{2}}{2 k} - \\frac{\\left(\\phi + \\sqrt{2} k \\sqrt{\\frac{1}{k \\left(k^{2} + 1\\right)}} \\left(k + 1\\right)\\right)^{3}}{3 k}$"
      ],
      "text/plain": [
       "\\phi**3/(3*k) - \\phi**2*(\\phi + sqrt(2)*k*sqrt(1/(k*(k**2 + 1))))/(2*k) + (\\phi + sqrt(2)*k*sqrt(1/(k*(k**2 + 1))))*(\\phi + sqrt(2)*k*sqrt(1/(k*(k**2 + 1)))*(k + 1))**2/(2*k) - (\\phi + sqrt(2)*k*sqrt(1/(k*(k**2 + 1)))*(k + 1))**3/(3*k)"
      ]
     },
     "execution_count": 4,
     "metadata": {},
     "output_type": "execute_result"
    }
   ],
   "source": [
    "i_2_sub = i_2.subs(c, c_val)\n",
    "i_2_sub"
   ]
  },
  {
   "cell_type": "code",
   "execution_count": 5,
   "metadata": {},
   "outputs": [
    {
     "data": {
      "text/latex": [
       "$\\displaystyle \\frac{4 \\phi^{3} - 6 \\phi^{2} \\left(\\phi + \\sqrt{2} k \\sqrt{\\frac{1}{k \\left(k^{2} + 1\\right)}}\\right) + \\left(\\phi + \\sqrt{2} k \\sqrt{\\frac{1}{k \\left(k^{2} + 1\\right)}}\\right)^{3} + 3 \\left(\\phi + \\sqrt{2} k \\sqrt{\\frac{1}{k \\left(k^{2} + 1\\right)}}\\right) \\left(\\phi + \\sqrt{2} k \\sqrt{\\frac{1}{k \\left(k^{2} + 1\\right)}} \\left(k + 1\\right)\\right)^{2} - 2 \\left(\\phi + \\sqrt{2} k \\sqrt{\\frac{1}{k \\left(k^{2} + 1\\right)}} \\left(k + 1\\right)\\right)^{3}}{6 k}$"
      ],
      "text/plain": [
       "(4*\\phi**3 - 6*\\phi**2*(\\phi + sqrt(2)*k*sqrt(1/(k*(k**2 + 1)))) + (\\phi + sqrt(2)*k*sqrt(1/(k*(k**2 + 1))))**3 + 3*(\\phi + sqrt(2)*k*sqrt(1/(k*(k**2 + 1))))*(\\phi + sqrt(2)*k*sqrt(1/(k*(k**2 + 1)))*(k + 1))**2 - 2*(\\phi + sqrt(2)*k*sqrt(1/(k*(k**2 + 1)))*(k + 1))**3)/(6*k)"
      ]
     },
     "execution_count": 5,
     "metadata": {},
     "output_type": "execute_result"
    }
   ],
   "source": [
    "M = i_1_sub + i_2_sub\n",
    "M = M.simplify()\n",
    "M"
   ]
  },
  {
   "cell_type": "code",
   "execution_count": 6,
   "metadata": {},
   "outputs": [
    {
     "data": {
      "text/plain": [
       "[{\\phi: sqrt(2)*k*sqrt(1/(k*(k**2 + 1)))*(-2*k**3 - 3*k**2 + 2)/(3*(k**2 - 2))}]"
      ]
     },
     "execution_count": 6,
     "metadata": {},
     "output_type": "execute_result"
    }
   ],
   "source": [
    "\n",
    "sp.solve(M)"
   ]
  },
  {
   "cell_type": "markdown",
   "metadata": {},
   "source": [
    "## Дисперсия"
   ]
  },
  {
   "cell_type": "code",
   "execution_count": 7,
   "metadata": {},
   "outputs": [
    {
     "data": {
      "text/latex": [
       "$\\displaystyle \\left(c - \\frac{- \\phi + x}{k}\\right) \\left(x - \\frac{4 \\phi^{3} - 6 \\phi^{2} \\left(\\phi + \\sqrt{2} k \\sqrt{\\frac{1}{k \\left(k^{2} + 1\\right)}}\\right) + \\left(\\phi + \\sqrt{2} k \\sqrt{\\frac{1}{k \\left(k^{2} + 1\\right)}}\\right)^{3} + 3 \\left(\\phi + \\sqrt{2} k \\sqrt{\\frac{1}{k \\left(k^{2} + 1\\right)}}\\right) \\left(\\phi + \\sqrt{2} k \\sqrt{\\frac{1}{k \\left(k^{2} + 1\\right)}} \\left(k + 1\\right)\\right)^{2} - 2 \\left(\\phi + \\sqrt{2} k \\sqrt{\\frac{1}{k \\left(k^{2} + 1\\right)}} \\left(k + 1\\right)\\right)^{3}}{6 k}\\right)^{2}$"
      ],
      "text/plain": [
       "(c - (-\\phi + x)/k)*(x - (4*\\phi**3 - 6*\\phi**2*(\\phi + sqrt(2)*k*sqrt(1/(k*(k**2 + 1)))) + (\\phi + sqrt(2)*k*sqrt(1/(k*(k**2 + 1))))**3 + 3*(\\phi + sqrt(2)*k*sqrt(1/(k*(k**2 + 1))))*(\\phi + sqrt(2)*k*sqrt(1/(k*(k**2 + 1)))*(k + 1))**2 - 2*(\\phi + sqrt(2)*k*sqrt(1/(k*(k**2 + 1)))*(k + 1))**3)/(6*k))**2"
      ]
     },
     "execution_count": 7,
     "metadata": {},
     "output_type": "execute_result"
    }
   ],
   "source": [
    "var_sub_integral_function_1 = ((x - M)**2)*(c - 1/k * (x-f))\n",
    "var_sub_integral_function_1"
   ]
  },
  {
   "cell_type": "code",
   "execution_count": 8,
   "metadata": {},
   "outputs": [
    {
     "data": {
      "text/latex": [
       "$\\displaystyle \\left(- c + \\frac{- \\phi + x}{k}\\right) \\left(x - \\frac{4 \\phi^{3} - 6 \\phi^{2} \\left(\\phi + \\sqrt{2} k \\sqrt{\\frac{1}{k \\left(k^{2} + 1\\right)}}\\right) + \\left(\\phi + \\sqrt{2} k \\sqrt{\\frac{1}{k \\left(k^{2} + 1\\right)}}\\right)^{3} + 3 \\left(\\phi + \\sqrt{2} k \\sqrt{\\frac{1}{k \\left(k^{2} + 1\\right)}}\\right) \\left(\\phi + \\sqrt{2} k \\sqrt{\\frac{1}{k \\left(k^{2} + 1\\right)}} \\left(k + 1\\right)\\right)^{2} - 2 \\left(\\phi + \\sqrt{2} k \\sqrt{\\frac{1}{k \\left(k^{2} + 1\\right)}} \\left(k + 1\\right)\\right)^{3}}{6 k}\\right)^{2}$"
      ],
      "text/plain": [
       "(-c + (-\\phi + x)/k)*(x - (4*\\phi**3 - 6*\\phi**2*(\\phi + sqrt(2)*k*sqrt(1/(k*(k**2 + 1)))) + (\\phi + sqrt(2)*k*sqrt(1/(k*(k**2 + 1))))**3 + 3*(\\phi + sqrt(2)*k*sqrt(1/(k*(k**2 + 1))))*(\\phi + sqrt(2)*k*sqrt(1/(k*(k**2 + 1)))*(k + 1))**2 - 2*(\\phi + sqrt(2)*k*sqrt(1/(k*(k**2 + 1)))*(k + 1))**3)/(6*k))**2"
      ]
     },
     "execution_count": 8,
     "metadata": {},
     "output_type": "execute_result"
    }
   ],
   "source": [
    "var_sub_integral_function_2 = ((x-M)**2)*(-c+1/k*(x-f))\n",
    "var_sub_integral_function_2"
   ]
  },
  {
   "cell_type": "code",
   "execution_count": 9,
   "metadata": {},
   "outputs": [
    {
     "data": {
      "text/latex": [
       "$\\displaystyle \\frac{36 \\phi^{2} k^{8} - 27 \\phi^{2} k^{4} + 9 \\phi^{2} k^{2} + 48 \\sqrt{2} \\phi k^{13} \\left(\\frac{1}{k^{3} + k}\\right)^{\\frac{3}{2}} + 192 \\sqrt{2} \\phi k^{12} \\left(\\frac{1}{k^{3} + k}\\right)^{\\frac{3}{2}} + 384 \\sqrt{2} \\phi k^{11} \\left(\\frac{1}{k^{3} + k}\\right)^{\\frac{3}{2}} + 516 \\sqrt{2} \\phi k^{10} \\left(\\frac{1}{k^{3} + k}\\right)^{\\frac{3}{2}} + 564 \\sqrt{2} \\phi k^{9} \\left(\\frac{1}{k^{3} + k}\\right)^{\\frac{3}{2}} - 120 \\sqrt{2} \\phi k^{9} \\sqrt{\\frac{1}{k^{3} + k}} + 342 \\sqrt{2} \\phi k^{8} \\left(\\frac{1}{k^{3} + k}\\right)^{\\frac{3}{2}} - 288 \\sqrt{2} \\phi k^{8} \\sqrt{\\frac{1}{k^{3} + k}} + 120 \\sqrt{2} \\phi k^{7} \\left(\\frac{1}{k^{3} + k}\\right)^{\\frac{3}{2}} - 276 \\sqrt{2} \\phi k^{7} \\sqrt{\\frac{1}{k^{3} + k}} - 96 \\sqrt{2} \\phi k^{6} \\left(\\frac{1}{k^{3} + k}\\right)^{\\frac{3}{2}} - 240 \\sqrt{2} \\phi k^{6} \\sqrt{\\frac{1}{k^{3} + k}} - 156 \\sqrt{2} \\phi k^{5} \\left(\\frac{1}{k^{3} + k}\\right)^{\\frac{3}{2}} - 48 \\sqrt{2} \\phi k^{5} \\sqrt{\\frac{1}{k^{3} + k}} - 114 \\sqrt{2} \\phi k^{4} \\left(\\frac{1}{k^{3} + k}\\right)^{\\frac{3}{2}} + 96 \\sqrt{2} \\phi k^{4} \\sqrt{\\frac{1}{k^{3} + k}} - 48 \\sqrt{2} \\phi k^{3} \\left(\\frac{1}{k^{3} + k}\\right)^{\\frac{3}{2}} + 108 \\sqrt{2} \\phi k^{3} \\sqrt{\\frac{1}{k^{3} + k}} + 48 \\sqrt{2} \\phi k^{2} \\sqrt{\\frac{1}{k^{3} + k}} + 33 k^{9} + 96 k^{8} + 106 k^{7} + 64 k^{6} + 33 k^{5} + 8 k^{4} + 2 k^{3}}{9 k^{8} + 36 k^{6} + 54 k^{4} + 36 k^{2} + 9}$"
      ],
      "text/plain": [
       "(36*\\phi**2*k**8 - 27*\\phi**2*k**4 + 9*\\phi**2*k**2 + 48*sqrt(2)*\\phi*k**13*(1/(k**3 + k))**(3/2) + 192*sqrt(2)*\\phi*k**12*(1/(k**3 + k))**(3/2) + 384*sqrt(2)*\\phi*k**11*(1/(k**3 + k))**(3/2) + 516*sqrt(2)*\\phi*k**10*(1/(k**3 + k))**(3/2) + 564*sqrt(2)*\\phi*k**9*(1/(k**3 + k))**(3/2) - 120*sqrt(2)*\\phi*k**9*sqrt(1/(k**3 + k)) + 342*sqrt(2)*\\phi*k**8*(1/(k**3 + k))**(3/2) - 288*sqrt(2)*\\phi*k**8*sqrt(1/(k**3 + k)) + 120*sqrt(2)*\\phi*k**7*(1/(k**3 + k))**(3/2) - 276*sqrt(2)*\\phi*k**7*sqrt(1/(k**3 + k)) - 96*sqrt(2)*\\phi*k**6*(1/(k**3 + k))**(3/2) - 240*sqrt(2)*\\phi*k**6*sqrt(1/(k**3 + k)) - 156*sqrt(2)*\\phi*k**5*(1/(k**3 + k))**(3/2) - 48*sqrt(2)*\\phi*k**5*sqrt(1/(k**3 + k)) - 114*sqrt(2)*\\phi*k**4*(1/(k**3 + k))**(3/2) + 96*sqrt(2)*\\phi*k**4*sqrt(1/(k**3 + k)) - 48*sqrt(2)*\\phi*k**3*(1/(k**3 + k))**(3/2) + 108*sqrt(2)*\\phi*k**3*sqrt(1/(k**3 + k)) + 48*sqrt(2)*\\phi*k**2*sqrt(1/(k**3 + k)) + 33*k**9 + 96*k**8 + 106*k**7 + 64*k**6 + 33*k**5 + 8*k**4 + 2*k**3)/(9*k**8 + 36*k**6 + 54*k**4 + 36*k**2 + 9)"
      ]
     },
     "execution_count": 9,
     "metadata": {},
     "output_type": "execute_result"
    }
   ],
   "source": [
    "var_i_2 = sp.integrate(var_sub_integral_function_2, (x, k*c+f, f + k*c*(1+k)))\n",
    "var_i_2 = var_i_2.subs(c, c_val)\n",
    "var_i_2 = var_i_2.simplify()\n",
    "var_i_2"
   ]
  },
  {
   "cell_type": "code",
   "execution_count": 10,
   "metadata": {},
   "outputs": [
    {
     "data": {
      "text/latex": [
       "$\\displaystyle \\frac{36 \\phi^{2} k^{6} - 27 \\phi^{2} k^{2} + 9 \\phi^{2} - 24 \\sqrt{2} \\phi k^{11} \\left(\\frac{1}{k^{3} + k}\\right)^{\\frac{3}{2}} - 96 \\sqrt{2} \\phi k^{10} \\left(\\frac{1}{k^{3} + k}\\right)^{\\frac{3}{2}} - 108 \\sqrt{2} \\phi k^{9} \\left(\\frac{1}{k^{3} + k}\\right)^{\\frac{3}{2}} - 180 \\sqrt{2} \\phi k^{8} \\left(\\frac{1}{k^{3} + k}\\right)^{\\frac{3}{2}} + 48 \\sqrt{2} \\phi k^{8} \\sqrt{\\frac{1}{k^{3} + k}} - 108 \\sqrt{2} \\phi k^{7} \\left(\\frac{1}{k^{3} + k}\\right)^{\\frac{3}{2}} + 144 \\sqrt{2} \\phi k^{7} \\sqrt{\\frac{1}{k^{3} + k}} - 54 \\sqrt{2} \\phi k^{6} \\left(\\frac{1}{k^{3} + k}\\right)^{\\frac{3}{2}} + 96 \\sqrt{2} \\phi k^{6} \\sqrt{\\frac{1}{k^{3} + k}} + 12 \\sqrt{2} \\phi k^{5} \\left(\\frac{1}{k^{3} + k}\\right)^{\\frac{3}{2}} + 96 \\sqrt{2} \\phi k^{5} \\sqrt{\\frac{1}{k^{3} + k}} + 48 \\sqrt{2} \\phi k^{4} \\left(\\frac{1}{k^{3} + k}\\right)^{\\frac{3}{2}} + 12 \\sqrt{2} \\phi k^{4} \\sqrt{\\frac{1}{k^{3} + k}} + 36 \\sqrt{2} \\phi k^{3} \\left(\\frac{1}{k^{3} + k}\\right)^{\\frac{3}{2}} - 60 \\sqrt{2} \\phi k^{3} \\sqrt{\\frac{1}{k^{3} + k}} + 18 \\sqrt{2} \\phi k^{2} \\left(\\frac{1}{k^{3} + k}\\right)^{\\frac{3}{2}} - 36 \\sqrt{2} \\phi k^{2} \\sqrt{\\frac{1}{k^{3} + k}} - 12 \\sqrt{2} \\phi k \\sqrt{\\frac{1}{k^{3} + k}} + 8 k^{7} + 32 k^{6} + 33 k^{5} - 8 k^{4} - 14 k^{3} + 3 k}{9 k^{8} + 36 k^{6} + 54 k^{4} + 36 k^{2} + 9}$"
      ],
      "text/plain": [
       "(36*\\phi**2*k**6 - 27*\\phi**2*k**2 + 9*\\phi**2 - 24*sqrt(2)*\\phi*k**11*(1/(k**3 + k))**(3/2) - 96*sqrt(2)*\\phi*k**10*(1/(k**3 + k))**(3/2) - 108*sqrt(2)*\\phi*k**9*(1/(k**3 + k))**(3/2) - 180*sqrt(2)*\\phi*k**8*(1/(k**3 + k))**(3/2) + 48*sqrt(2)*\\phi*k**8*sqrt(1/(k**3 + k)) - 108*sqrt(2)*\\phi*k**7*(1/(k**3 + k))**(3/2) + 144*sqrt(2)*\\phi*k**7*sqrt(1/(k**3 + k)) - 54*sqrt(2)*\\phi*k**6*(1/(k**3 + k))**(3/2) + 96*sqrt(2)*\\phi*k**6*sqrt(1/(k**3 + k)) + 12*sqrt(2)*\\phi*k**5*(1/(k**3 + k))**(3/2) + 96*sqrt(2)*\\phi*k**5*sqrt(1/(k**3 + k)) + 48*sqrt(2)*\\phi*k**4*(1/(k**3 + k))**(3/2) + 12*sqrt(2)*\\phi*k**4*sqrt(1/(k**3 + k)) + 36*sqrt(2)*\\phi*k**3*(1/(k**3 + k))**(3/2) - 60*sqrt(2)*\\phi*k**3*sqrt(1/(k**3 + k)) + 18*sqrt(2)*\\phi*k**2*(1/(k**3 + k))**(3/2) - 36*sqrt(2)*\\phi*k**2*sqrt(1/(k**3 + k)) - 12*sqrt(2)*\\phi*k*sqrt(1/(k**3 + k)) + 8*k**7 + 32*k**6 + 33*k**5 - 8*k**4 - 14*k**3 + 3*k)/(9*k**8 + 36*k**6 + 54*k**4 + 36*k**2 + 9)"
      ]
     },
     "execution_count": 10,
     "metadata": {},
     "output_type": "execute_result"
    }
   ],
   "source": [
    "var_i_1 = sp.integrate(var_sub_integral_function_1, (x, f, k*c+f))\n",
    "var_i_1 = var_i_1.subs(c, c_val)\n",
    "var_i_1 = var_i_1.simplify()\n",
    "var_i_1"
   ]
  },
  {
   "cell_type": "code",
   "execution_count": 11,
   "metadata": {},
   "outputs": [
    {
     "data": {
      "text/latex": [
       "$\\displaystyle \\frac{12 \\phi^{2} k^{6} - 9 \\phi^{2} k^{2} + 3 \\phi^{2} + 16 \\sqrt{2} \\phi k^{11} \\left(\\frac{1}{k^{3} + k}\\right)^{\\frac{3}{2}} + 64 \\sqrt{2} \\phi k^{10} \\left(\\frac{1}{k^{3} + k}\\right)^{\\frac{3}{2}} + 104 \\sqrt{2} \\phi k^{9} \\left(\\frac{1}{k^{3} + k}\\right)^{\\frac{3}{2}} + 76 \\sqrt{2} \\phi k^{8} \\left(\\frac{1}{k^{3} + k}\\right)^{\\frac{3}{2}} + 48 \\sqrt{2} \\phi k^{7} \\left(\\frac{1}{k^{3} + k}\\right)^{\\frac{3}{2}} - 40 \\sqrt{2} \\phi k^{7} \\sqrt{\\frac{1}{k^{3} + k}} - 22 \\sqrt{2} \\phi k^{6} \\left(\\frac{1}{k^{3} + k}\\right)^{\\frac{3}{2}} - 80 \\sqrt{2} \\phi k^{6} \\sqrt{\\frac{1}{k^{3} + k}} - 44 \\sqrt{2} \\phi k^{5} \\left(\\frac{1}{k^{3} + k}\\right)^{\\frac{3}{2}} - 4 \\sqrt{2} \\phi k^{5} \\sqrt{\\frac{1}{k^{3} + k}} - 28 \\sqrt{2} \\phi k^{4} \\left(\\frac{1}{k^{3} + k}\\right)^{\\frac{3}{2}} + 32 \\sqrt{2} \\phi k^{4} \\sqrt{\\frac{1}{k^{3} + k}} - 4 \\sqrt{2} \\phi k^{3} \\left(\\frac{1}{k^{3} + k}\\right)^{\\frac{3}{2}} + 20 \\sqrt{2} \\phi k^{3} \\sqrt{\\frac{1}{k^{3} + k}} + 6 \\sqrt{2} \\phi k^{2} \\left(\\frac{1}{k^{3} + k}\\right)^{\\frac{3}{2}} + 4 \\sqrt{2} \\phi k^{2} \\sqrt{\\frac{1}{k^{3} + k}} - 4 \\sqrt{2} \\phi k \\sqrt{\\frac{1}{k^{3} + k}} + 11 k^{7} + 32 k^{6} + 27 k^{5} - 5 k^{3} + k}{3 k^{6} + 9 k^{4} + 9 k^{2} + 3}$"
      ],
      "text/plain": [
       "(12*\\phi**2*k**6 - 9*\\phi**2*k**2 + 3*\\phi**2 + 16*sqrt(2)*\\phi*k**11*(1/(k**3 + k))**(3/2) + 64*sqrt(2)*\\phi*k**10*(1/(k**3 + k))**(3/2) + 104*sqrt(2)*\\phi*k**9*(1/(k**3 + k))**(3/2) + 76*sqrt(2)*\\phi*k**8*(1/(k**3 + k))**(3/2) + 48*sqrt(2)*\\phi*k**7*(1/(k**3 + k))**(3/2) - 40*sqrt(2)*\\phi*k**7*sqrt(1/(k**3 + k)) - 22*sqrt(2)*\\phi*k**6*(1/(k**3 + k))**(3/2) - 80*sqrt(2)*\\phi*k**6*sqrt(1/(k**3 + k)) - 44*sqrt(2)*\\phi*k**5*(1/(k**3 + k))**(3/2) - 4*sqrt(2)*\\phi*k**5*sqrt(1/(k**3 + k)) - 28*sqrt(2)*\\phi*k**4*(1/(k**3 + k))**(3/2) + 32*sqrt(2)*\\phi*k**4*sqrt(1/(k**3 + k)) - 4*sqrt(2)*\\phi*k**3*(1/(k**3 + k))**(3/2) + 20*sqrt(2)*\\phi*k**3*sqrt(1/(k**3 + k)) + 6*sqrt(2)*\\phi*k**2*(1/(k**3 + k))**(3/2) + 4*sqrt(2)*\\phi*k**2*sqrt(1/(k**3 + k)) - 4*sqrt(2)*\\phi*k*sqrt(1/(k**3 + k)) + 11*k**7 + 32*k**6 + 27*k**5 - 5*k**3 + k)/(3*k**6 + 9*k**4 + 9*k**2 + 3)"
      ]
     },
     "execution_count": 11,
     "metadata": {},
     "output_type": "execute_result"
    }
   ],
   "source": [
    "var = var_i_2 + var_i_1\n",
    "var = var.simplify()\n",
    "var"
   ]
  },
  {
   "cell_type": "code",
   "execution_count": null,
   "metadata": {},
   "outputs": [],
   "source": []
  },
  {
   "cell_type": "markdown",
   "metadata": {},
   "source": [
    "## Не запускать"
   ]
  },
  {
   "cell_type": "code",
   "execution_count": 12,
   "metadata": {},
   "outputs": [
    {
     "ename": "KeyboardInterrupt",
     "evalue": "",
     "output_type": "error",
     "traceback": [
      "\u001b[1;31m---------------------------------------------------------------------------\u001b[0m",
      "\u001b[1;31mKeyError\u001b[0m                                  Traceback (most recent call last)",
      "File \u001b[1;32mc:\\Users\\Ruslan\\.conda\\envs\\learning_env\\Lib\\site-packages\\sympy\\core\\evalf.py:1482\u001b[0m, in \u001b[0;36mevalf\u001b[1;34m(x, prec, options)\u001b[0m\n\u001b[0;32m   1481\u001b[0m \u001b[38;5;28;01mtry\u001b[39;00m:\n\u001b[1;32m-> 1482\u001b[0m     rf \u001b[38;5;241m=\u001b[39m evalf_table[\u001b[38;5;28mtype\u001b[39m(x)]\n\u001b[0;32m   1483\u001b[0m     r \u001b[38;5;241m=\u001b[39m rf(x, prec, options)\n",
      "\u001b[1;31mKeyError\u001b[0m: <class 'sympy.polys.rootoftools.ComplexRootOf'>",
      "\nDuring handling of the above exception, another exception occurred:\n",
      "\u001b[1;31mKeyboardInterrupt\u001b[0m                         Traceback (most recent call last)",
      "Cell \u001b[1;32mIn[12], line 1\u001b[0m\n\u001b[1;32m----> 1\u001b[0m solve \u001b[38;5;241m=\u001b[39m sp\u001b[38;5;241m.\u001b[39msolve([M, var], (k, f), domain\u001b[38;5;241m=\u001b[39msp\u001b[38;5;241m.\u001b[39mS\u001b[38;5;241m.\u001b[39mReals)\n\u001b[0;32m      2\u001b[0m solve\n",
      "File \u001b[1;32mc:\\Users\\Ruslan\\.conda\\envs\\learning_env\\Lib\\site-packages\\sympy\\solvers\\solvers.py:1172\u001b[0m, in \u001b[0;36msolve\u001b[1;34m(f, *symbols, **flags)\u001b[0m\n\u001b[0;32m   1170\u001b[0m         solution \u001b[38;5;241m=\u001b[39m _solve(f[\u001b[38;5;241m0\u001b[39m], \u001b[38;5;241m*\u001b[39msymbols, \u001b[38;5;241m*\u001b[39m\u001b[38;5;241m*\u001b[39mflags)\n\u001b[0;32m   1171\u001b[0m \u001b[38;5;28;01melse\u001b[39;00m:\n\u001b[1;32m-> 1172\u001b[0m     linear, solution \u001b[38;5;241m=\u001b[39m _solve_system(f, symbols, \u001b[38;5;241m*\u001b[39m\u001b[38;5;241m*\u001b[39mflags)\n\u001b[0;32m   1173\u001b[0m \u001b[38;5;28;01massert\u001b[39;00m \u001b[38;5;28mtype\u001b[39m(solution) \u001b[38;5;129;01mis\u001b[39;00m \u001b[38;5;28mlist\u001b[39m\n\u001b[0;32m   1174\u001b[0m \u001b[38;5;28;01massert\u001b[39;00m \u001b[38;5;129;01mnot\u001b[39;00m solution \u001b[38;5;129;01mor\u001b[39;00m \u001b[38;5;28mtype\u001b[39m(solution[\u001b[38;5;241m0\u001b[39m]) \u001b[38;5;129;01mis\u001b[39;00m \u001b[38;5;28mdict\u001b[39m, solution\n",
      "File \u001b[1;32mc:\\Users\\Ruslan\\.conda\\envs\\learning_env\\Lib\\site-packages\\sympy\\solvers\\solvers.py:1970\u001b[0m, in \u001b[0;36m_solve_system\u001b[1;34m(exprs, symbols, **flags)\u001b[0m\n\u001b[0;32m   1968\u001b[0m \u001b[38;5;28;01mfor\u001b[39;00m s \u001b[38;5;129;01min\u001b[39;00m ok_syms:\n\u001b[0;32m   1969\u001b[0m     \u001b[38;5;28;01mtry\u001b[39;00m:\n\u001b[1;32m-> 1970\u001b[0m         soln \u001b[38;5;241m=\u001b[39m _vsolve(eq2, s, \u001b[38;5;241m*\u001b[39m\u001b[38;5;241m*\u001b[39mflags)\n\u001b[0;32m   1971\u001b[0m     \u001b[38;5;28;01mexcept\u001b[39;00m \u001b[38;5;167;01mNotImplementedError\u001b[39;00m:\n\u001b[0;32m   1972\u001b[0m         \u001b[38;5;28;01mcontinue\u001b[39;00m\n",
      "File \u001b[1;32mc:\\Users\\Ruslan\\.conda\\envs\\learning_env\\Lib\\site-packages\\sympy\\solvers\\solvers.py:2642\u001b[0m, in \u001b[0;36m_vsolve\u001b[1;34m(e, s, **flags)\u001b[0m\n\u001b[0;32m   2640\u001b[0m \u001b[38;5;28;01mdef\u001b[39;00m \u001b[38;5;21m_vsolve\u001b[39m(e, s, \u001b[38;5;241m*\u001b[39m\u001b[38;5;241m*\u001b[39mflags):\n\u001b[0;32m   2641\u001b[0m \u001b[38;5;250m    \u001b[39m\u001b[38;5;124;03m\"\"\"return list of scalar values for the solution of e for symbol s\"\"\"\u001b[39;00m\n\u001b[1;32m-> 2642\u001b[0m     \u001b[38;5;28;01mreturn\u001b[39;00m [i[s] \u001b[38;5;28;01mfor\u001b[39;00m i \u001b[38;5;129;01min\u001b[39;00m _solve(e, s, \u001b[38;5;241m*\u001b[39m\u001b[38;5;241m*\u001b[39mflags)]\n",
      "File \u001b[1;32mc:\\Users\\Ruslan\\.conda\\envs\\learning_env\\Lib\\site-packages\\sympy\\solvers\\solvers.py:1721\u001b[0m, in \u001b[0;36m_solve\u001b[1;34m(f, *symbols, **flags)\u001b[0m\n\u001b[0;32m   1719\u001b[0m flags\u001b[38;5;241m.\u001b[39mpop(\u001b[38;5;124m'\u001b[39m\u001b[38;5;124mtsolve\u001b[39m\u001b[38;5;124m'\u001b[39m, \u001b[38;5;28;01mNone\u001b[39;00m)  \u001b[38;5;66;03m# allow tsolve to be used on next pass\u001b[39;00m\n\u001b[0;32m   1720\u001b[0m \u001b[38;5;28;01mtry\u001b[39;00m:\n\u001b[1;32m-> 1721\u001b[0m     soln \u001b[38;5;241m=\u001b[39m _tsolve(f_num, symbol, \u001b[38;5;241m*\u001b[39m\u001b[38;5;241m*\u001b[39mflags)\n\u001b[0;32m   1722\u001b[0m     \u001b[38;5;28;01mif\u001b[39;00m soln \u001b[38;5;129;01mis\u001b[39;00m \u001b[38;5;129;01mnot\u001b[39;00m \u001b[38;5;28;01mNone\u001b[39;00m:\n\u001b[0;32m   1723\u001b[0m         result \u001b[38;5;241m=\u001b[39m [{symbol: v} \u001b[38;5;28;01mfor\u001b[39;00m v \u001b[38;5;129;01min\u001b[39;00m soln]\n",
      "File \u001b[1;32mc:\\Users\\Ruslan\\.conda\\envs\\learning_env\\Lib\\site-packages\\sympy\\solvers\\solvers.py:2690\u001b[0m, in \u001b[0;36m_tsolve\u001b[1;34m(eq, sym, **flags)\u001b[0m\n\u001b[0;32m   2688\u001b[0m f \u001b[38;5;241m=\u001b[39m factor(powdenest(lhs \u001b[38;5;241m-\u001b[39m rhs))\n\u001b[0;32m   2689\u001b[0m \u001b[38;5;28;01mif\u001b[39;00m f\u001b[38;5;241m.\u001b[39mis_Mul:\n\u001b[1;32m-> 2690\u001b[0m     \u001b[38;5;28;01mreturn\u001b[39;00m _vsolve(f, sym, \u001b[38;5;241m*\u001b[39m\u001b[38;5;241m*\u001b[39mflags)\n\u001b[0;32m   2691\u001b[0m \u001b[38;5;28;01mif\u001b[39;00m rhs:\n\u001b[0;32m   2692\u001b[0m     f \u001b[38;5;241m=\u001b[39m logcombine(lhs, force\u001b[38;5;241m=\u001b[39mflags\u001b[38;5;241m.\u001b[39mget(\u001b[38;5;124m'\u001b[39m\u001b[38;5;124mforce\u001b[39m\u001b[38;5;124m'\u001b[39m, \u001b[38;5;28;01mTrue\u001b[39;00m))\n",
      "File \u001b[1;32mc:\\Users\\Ruslan\\.conda\\envs\\learning_env\\Lib\\site-packages\\sympy\\solvers\\solvers.py:2642\u001b[0m, in \u001b[0;36m_vsolve\u001b[1;34m(e, s, **flags)\u001b[0m\n\u001b[0;32m   2640\u001b[0m \u001b[38;5;28;01mdef\u001b[39;00m \u001b[38;5;21m_vsolve\u001b[39m(e, s, \u001b[38;5;241m*\u001b[39m\u001b[38;5;241m*\u001b[39mflags):\n\u001b[0;32m   2641\u001b[0m \u001b[38;5;250m    \u001b[39m\u001b[38;5;124;03m\"\"\"return list of scalar values for the solution of e for symbol s\"\"\"\u001b[39;00m\n\u001b[1;32m-> 2642\u001b[0m     \u001b[38;5;28;01mreturn\u001b[39;00m [i[s] \u001b[38;5;28;01mfor\u001b[39;00m i \u001b[38;5;129;01min\u001b[39;00m _solve(e, s, \u001b[38;5;241m*\u001b[39m\u001b[38;5;241m*\u001b[39mflags)]\n",
      "File \u001b[1;32mc:\\Users\\Ruslan\\.conda\\envs\\learning_env\\Lib\\site-packages\\sympy\\solvers\\solvers.py:1407\u001b[0m, in \u001b[0;36m_solve\u001b[1;34m(f, *symbols, **flags)\u001b[0m\n\u001b[0;32m   1402\u001b[0m \u001b[38;5;28;01mif\u001b[39;00m check:\n\u001b[0;32m   1403\u001b[0m     \u001b[38;5;66;03m# all solutions have been checked but now we must\u001b[39;00m\n\u001b[0;32m   1404\u001b[0m     \u001b[38;5;66;03m# check that the solutions do not set denominators\u001b[39;00m\n\u001b[0;32m   1405\u001b[0m     \u001b[38;5;66;03m# in any factor to zero\u001b[39;00m\n\u001b[0;32m   1406\u001b[0m     dens \u001b[38;5;241m=\u001b[39m flags\u001b[38;5;241m.\u001b[39mget(\u001b[38;5;124m'\u001b[39m\u001b[38;5;124m_denominators\u001b[39m\u001b[38;5;124m'\u001b[39m, _simple_dens(f, symbols))\n\u001b[1;32m-> 1407\u001b[0m     result \u001b[38;5;241m=\u001b[39m [s \u001b[38;5;28;01mfor\u001b[39;00m s \u001b[38;5;129;01min\u001b[39;00m result \u001b[38;5;28;01mif\u001b[39;00m\n\u001b[0;32m   1408\u001b[0m         \u001b[38;5;129;01mnot\u001b[39;00m \u001b[38;5;28many\u001b[39m(checksol(den, s, \u001b[38;5;241m*\u001b[39m\u001b[38;5;241m*\u001b[39mflags) \u001b[38;5;28;01mfor\u001b[39;00m den \u001b[38;5;129;01min\u001b[39;00m\n\u001b[0;32m   1409\u001b[0m                 dens)]\n\u001b[0;32m   1410\u001b[0m \u001b[38;5;66;03m# set flags for quick exit at end; solutions for each\u001b[39;00m\n\u001b[0;32m   1411\u001b[0m \u001b[38;5;66;03m# factor were already checked and simplified\u001b[39;00m\n\u001b[0;32m   1412\u001b[0m check \u001b[38;5;241m=\u001b[39m \u001b[38;5;28;01mFalse\u001b[39;00m\n",
      "File \u001b[1;32mc:\\Users\\Ruslan\\.conda\\envs\\learning_env\\Lib\\site-packages\\sympy\\solvers\\solvers.py:1408\u001b[0m, in \u001b[0;36m<listcomp>\u001b[1;34m(.0)\u001b[0m\n\u001b[0;32m   1402\u001b[0m \u001b[38;5;28;01mif\u001b[39;00m check:\n\u001b[0;32m   1403\u001b[0m     \u001b[38;5;66;03m# all solutions have been checked but now we must\u001b[39;00m\n\u001b[0;32m   1404\u001b[0m     \u001b[38;5;66;03m# check that the solutions do not set denominators\u001b[39;00m\n\u001b[0;32m   1405\u001b[0m     \u001b[38;5;66;03m# in any factor to zero\u001b[39;00m\n\u001b[0;32m   1406\u001b[0m     dens \u001b[38;5;241m=\u001b[39m flags\u001b[38;5;241m.\u001b[39mget(\u001b[38;5;124m'\u001b[39m\u001b[38;5;124m_denominators\u001b[39m\u001b[38;5;124m'\u001b[39m, _simple_dens(f, symbols))\n\u001b[0;32m   1407\u001b[0m     result \u001b[38;5;241m=\u001b[39m [s \u001b[38;5;28;01mfor\u001b[39;00m s \u001b[38;5;129;01min\u001b[39;00m result \u001b[38;5;28;01mif\u001b[39;00m\n\u001b[1;32m-> 1408\u001b[0m         \u001b[38;5;129;01mnot\u001b[39;00m \u001b[38;5;28many\u001b[39m(checksol(den, s, \u001b[38;5;241m*\u001b[39m\u001b[38;5;241m*\u001b[39mflags) \u001b[38;5;28;01mfor\u001b[39;00m den \u001b[38;5;129;01min\u001b[39;00m\n\u001b[0;32m   1409\u001b[0m                 dens)]\n\u001b[0;32m   1410\u001b[0m \u001b[38;5;66;03m# set flags for quick exit at end; solutions for each\u001b[39;00m\n\u001b[0;32m   1411\u001b[0m \u001b[38;5;66;03m# factor were already checked and simplified\u001b[39;00m\n\u001b[0;32m   1412\u001b[0m check \u001b[38;5;241m=\u001b[39m \u001b[38;5;28;01mFalse\u001b[39;00m\n",
      "File \u001b[1;32mc:\\Users\\Ruslan\\.conda\\envs\\learning_env\\Lib\\site-packages\\sympy\\solvers\\solvers.py:1408\u001b[0m, in \u001b[0;36m<genexpr>\u001b[1;34m(.0)\u001b[0m\n\u001b[0;32m   1402\u001b[0m \u001b[38;5;28;01mif\u001b[39;00m check:\n\u001b[0;32m   1403\u001b[0m     \u001b[38;5;66;03m# all solutions have been checked but now we must\u001b[39;00m\n\u001b[0;32m   1404\u001b[0m     \u001b[38;5;66;03m# check that the solutions do not set denominators\u001b[39;00m\n\u001b[0;32m   1405\u001b[0m     \u001b[38;5;66;03m# in any factor to zero\u001b[39;00m\n\u001b[0;32m   1406\u001b[0m     dens \u001b[38;5;241m=\u001b[39m flags\u001b[38;5;241m.\u001b[39mget(\u001b[38;5;124m'\u001b[39m\u001b[38;5;124m_denominators\u001b[39m\u001b[38;5;124m'\u001b[39m, _simple_dens(f, symbols))\n\u001b[0;32m   1407\u001b[0m     result \u001b[38;5;241m=\u001b[39m [s \u001b[38;5;28;01mfor\u001b[39;00m s \u001b[38;5;129;01min\u001b[39;00m result \u001b[38;5;28;01mif\u001b[39;00m\n\u001b[1;32m-> 1408\u001b[0m         \u001b[38;5;129;01mnot\u001b[39;00m \u001b[38;5;28many\u001b[39m(checksol(den, s, \u001b[38;5;241m*\u001b[39m\u001b[38;5;241m*\u001b[39mflags) \u001b[38;5;28;01mfor\u001b[39;00m den \u001b[38;5;129;01min\u001b[39;00m\n\u001b[0;32m   1409\u001b[0m                 dens)]\n\u001b[0;32m   1410\u001b[0m \u001b[38;5;66;03m# set flags for quick exit at end; solutions for each\u001b[39;00m\n\u001b[0;32m   1411\u001b[0m \u001b[38;5;66;03m# factor were already checked and simplified\u001b[39;00m\n\u001b[0;32m   1412\u001b[0m check \u001b[38;5;241m=\u001b[39m \u001b[38;5;28;01mFalse\u001b[39;00m\n",
      "File \u001b[1;32mc:\\Users\\Ruslan\\.conda\\envs\\learning_env\\Lib\\site-packages\\sympy\\solvers\\solvers.py:362\u001b[0m, in \u001b[0;36mchecksol\u001b[1;34m(f, symbol, sol, **flags)\u001b[0m\n\u001b[0;32m    360\u001b[0m         \u001b[38;5;28;01mreturn\u001b[39;00m val \u001b[38;5;241m==\u001b[39m \u001b[38;5;241m0\u001b[39m\n\u001b[0;32m    361\u001b[0m     \u001b[38;5;28;01mif\u001b[39;00m numerical \u001b[38;5;129;01mand\u001b[39;00m val\u001b[38;5;241m.\u001b[39mis_number:\n\u001b[1;32m--> 362\u001b[0m         \u001b[38;5;28;01mreturn\u001b[39;00m (\u001b[38;5;28mabs\u001b[39m(val\u001b[38;5;241m.\u001b[39mn(\u001b[38;5;241m18\u001b[39m)\u001b[38;5;241m.\u001b[39mn(\u001b[38;5;241m12\u001b[39m, chop\u001b[38;5;241m=\u001b[39m\u001b[38;5;28;01mTrue\u001b[39;00m)) \u001b[38;5;241m<\u001b[39m \u001b[38;5;241m1e-9\u001b[39m) \u001b[38;5;129;01mis\u001b[39;00m S\u001b[38;5;241m.\u001b[39mtrue\n\u001b[0;32m    364\u001b[0m \u001b[38;5;28;01mif\u001b[39;00m flags\u001b[38;5;241m.\u001b[39mget(\u001b[38;5;124m'\u001b[39m\u001b[38;5;124mwarn\u001b[39m\u001b[38;5;124m'\u001b[39m, \u001b[38;5;28;01mFalse\u001b[39;00m):\n\u001b[0;32m    365\u001b[0m     warnings\u001b[38;5;241m.\u001b[39mwarn(\u001b[38;5;124m\"\u001b[39m\u001b[38;5;130;01m\\n\u001b[39;00m\u001b[38;5;130;01m\\t\u001b[39;00m\u001b[38;5;124mWarning: could not verify solution \u001b[39m\u001b[38;5;132;01m%s\u001b[39;00m\u001b[38;5;124m.\u001b[39m\u001b[38;5;124m\"\u001b[39m \u001b[38;5;241m%\u001b[39m sol)\n",
      "File \u001b[1;32mc:\\Users\\Ruslan\\.conda\\envs\\learning_env\\Lib\\site-packages\\sympy\\core\\evalf.py:1648\u001b[0m, in \u001b[0;36mEvalfMixin.evalf\u001b[1;34m(self, n, subs, maxn, chop, strict, quad, verbose)\u001b[0m\n\u001b[0;32m   1646\u001b[0m     options[\u001b[38;5;124m'\u001b[39m\u001b[38;5;124mquad\u001b[39m\u001b[38;5;124m'\u001b[39m] \u001b[38;5;241m=\u001b[39m quad\n\u001b[0;32m   1647\u001b[0m \u001b[38;5;28;01mtry\u001b[39;00m:\n\u001b[1;32m-> 1648\u001b[0m     result \u001b[38;5;241m=\u001b[39m evalf(\u001b[38;5;28mself\u001b[39m, prec \u001b[38;5;241m+\u001b[39m \u001b[38;5;241m4\u001b[39m, options)\n\u001b[0;32m   1649\u001b[0m \u001b[38;5;28;01mexcept\u001b[39;00m \u001b[38;5;167;01mNotImplementedError\u001b[39;00m:\n\u001b[0;32m   1650\u001b[0m     \u001b[38;5;66;03m# Fall back to the ordinary evalf\u001b[39;00m\n\u001b[0;32m   1651\u001b[0m     \u001b[38;5;28;01mif\u001b[39;00m \u001b[38;5;28mhasattr\u001b[39m(\u001b[38;5;28mself\u001b[39m, \u001b[38;5;124m'\u001b[39m\u001b[38;5;124msubs\u001b[39m\u001b[38;5;124m'\u001b[39m) \u001b[38;5;129;01mand\u001b[39;00m subs \u001b[38;5;129;01mis\u001b[39;00m \u001b[38;5;129;01mnot\u001b[39;00m \u001b[38;5;28;01mNone\u001b[39;00m:  \u001b[38;5;66;03m# issue 20291\u001b[39;00m\n",
      "File \u001b[1;32mc:\\Users\\Ruslan\\.conda\\envs\\learning_env\\Lib\\site-packages\\sympy\\core\\evalf.py:1483\u001b[0m, in \u001b[0;36mevalf\u001b[1;34m(x, prec, options)\u001b[0m\n\u001b[0;32m   1481\u001b[0m \u001b[38;5;28;01mtry\u001b[39;00m:\n\u001b[0;32m   1482\u001b[0m     rf \u001b[38;5;241m=\u001b[39m evalf_table[\u001b[38;5;28mtype\u001b[39m(x)]\n\u001b[1;32m-> 1483\u001b[0m     r \u001b[38;5;241m=\u001b[39m rf(x, prec, options)\n\u001b[0;32m   1484\u001b[0m \u001b[38;5;28;01mexcept\u001b[39;00m \u001b[38;5;167;01mKeyError\u001b[39;00m:\n\u001b[0;32m   1485\u001b[0m     \u001b[38;5;66;03m# Fall back to ordinary evalf if possible\u001b[39;00m\n\u001b[0;32m   1486\u001b[0m     \u001b[38;5;28;01mif\u001b[39;00m \u001b[38;5;124m'\u001b[39m\u001b[38;5;124msubs\u001b[39m\u001b[38;5;124m'\u001b[39m \u001b[38;5;129;01min\u001b[39;00m options:\n",
      "File \u001b[1;32mc:\\Users\\Ruslan\\.conda\\envs\\learning_env\\Lib\\site-packages\\sympy\\core\\evalf.py:601\u001b[0m, in \u001b[0;36mevalf_add\u001b[1;34m(v, prec, options)\u001b[0m\n\u001b[0;32m    598\u001b[0m \u001b[38;5;28;01mwhile\u001b[39;00m \u001b[38;5;241m1\u001b[39m:\n\u001b[0;32m    599\u001b[0m     options[\u001b[38;5;124m'\u001b[39m\u001b[38;5;124mmaxprec\u001b[39m\u001b[38;5;124m'\u001b[39m] \u001b[38;5;241m=\u001b[39m \u001b[38;5;28mmin\u001b[39m(oldmaxprec, \u001b[38;5;241m2\u001b[39m\u001b[38;5;241m*\u001b[39mprec)\n\u001b[1;32m--> 601\u001b[0m     terms \u001b[38;5;241m=\u001b[39m [evalf(arg, prec \u001b[38;5;241m+\u001b[39m \u001b[38;5;241m10\u001b[39m, options) \u001b[38;5;28;01mfor\u001b[39;00m arg \u001b[38;5;129;01min\u001b[39;00m v\u001b[38;5;241m.\u001b[39margs]\n\u001b[0;32m    602\u001b[0m     n \u001b[38;5;241m=\u001b[39m terms\u001b[38;5;241m.\u001b[39mcount(S\u001b[38;5;241m.\u001b[39mComplexInfinity)\n\u001b[0;32m    603\u001b[0m     \u001b[38;5;28;01mif\u001b[39;00m n \u001b[38;5;241m>\u001b[39m\u001b[38;5;241m=\u001b[39m \u001b[38;5;241m2\u001b[39m:\n",
      "File \u001b[1;32mc:\\Users\\Ruslan\\.conda\\envs\\learning_env\\Lib\\site-packages\\sympy\\core\\evalf.py:601\u001b[0m, in \u001b[0;36m<listcomp>\u001b[1;34m(.0)\u001b[0m\n\u001b[0;32m    598\u001b[0m \u001b[38;5;28;01mwhile\u001b[39;00m \u001b[38;5;241m1\u001b[39m:\n\u001b[0;32m    599\u001b[0m     options[\u001b[38;5;124m'\u001b[39m\u001b[38;5;124mmaxprec\u001b[39m\u001b[38;5;124m'\u001b[39m] \u001b[38;5;241m=\u001b[39m \u001b[38;5;28mmin\u001b[39m(oldmaxprec, \u001b[38;5;241m2\u001b[39m\u001b[38;5;241m*\u001b[39mprec)\n\u001b[1;32m--> 601\u001b[0m     terms \u001b[38;5;241m=\u001b[39m [evalf(arg, prec \u001b[38;5;241m+\u001b[39m \u001b[38;5;241m10\u001b[39m, options) \u001b[38;5;28;01mfor\u001b[39;00m arg \u001b[38;5;129;01min\u001b[39;00m v\u001b[38;5;241m.\u001b[39margs]\n\u001b[0;32m    602\u001b[0m     n \u001b[38;5;241m=\u001b[39m terms\u001b[38;5;241m.\u001b[39mcount(S\u001b[38;5;241m.\u001b[39mComplexInfinity)\n\u001b[0;32m    603\u001b[0m     \u001b[38;5;28;01mif\u001b[39;00m n \u001b[38;5;241m>\u001b[39m\u001b[38;5;241m=\u001b[39m \u001b[38;5;241m2\u001b[39m:\n",
      "File \u001b[1;32mc:\\Users\\Ruslan\\.conda\\envs\\learning_env\\Lib\\site-packages\\sympy\\core\\evalf.py:1483\u001b[0m, in \u001b[0;36mevalf\u001b[1;34m(x, prec, options)\u001b[0m\n\u001b[0;32m   1481\u001b[0m \u001b[38;5;28;01mtry\u001b[39;00m:\n\u001b[0;32m   1482\u001b[0m     rf \u001b[38;5;241m=\u001b[39m evalf_table[\u001b[38;5;28mtype\u001b[39m(x)]\n\u001b[1;32m-> 1483\u001b[0m     r \u001b[38;5;241m=\u001b[39m rf(x, prec, options)\n\u001b[0;32m   1484\u001b[0m \u001b[38;5;28;01mexcept\u001b[39;00m \u001b[38;5;167;01mKeyError\u001b[39;00m:\n\u001b[0;32m   1485\u001b[0m     \u001b[38;5;66;03m# Fall back to ordinary evalf if possible\u001b[39;00m\n\u001b[0;32m   1486\u001b[0m     \u001b[38;5;28;01mif\u001b[39;00m \u001b[38;5;124m'\u001b[39m\u001b[38;5;124msubs\u001b[39m\u001b[38;5;124m'\u001b[39m \u001b[38;5;129;01min\u001b[39;00m options:\n",
      "File \u001b[1;32mc:\\Users\\Ruslan\\.conda\\envs\\learning_env\\Lib\\site-packages\\sympy\\core\\evalf.py:777\u001b[0m, in \u001b[0;36mevalf_pow\u001b[1;34m(v, prec, options)\u001b[0m\n\u001b[0;32m    774\u001b[0m \u001b[38;5;66;03m# Exponentiation by p magnifies relative error by |p|, so the\u001b[39;00m\n\u001b[0;32m    775\u001b[0m \u001b[38;5;66;03m# base must be evaluated with increased precision if p is large\u001b[39;00m\n\u001b[0;32m    776\u001b[0m prec \u001b[38;5;241m+\u001b[39m\u001b[38;5;241m=\u001b[39m \u001b[38;5;28mint\u001b[39m(math\u001b[38;5;241m.\u001b[39mlog2(\u001b[38;5;28mabs\u001b[39m(p)))\n\u001b[1;32m--> 777\u001b[0m result \u001b[38;5;241m=\u001b[39m evalf(base, prec \u001b[38;5;241m+\u001b[39m \u001b[38;5;241m5\u001b[39m, options)\n\u001b[0;32m    778\u001b[0m \u001b[38;5;28;01mif\u001b[39;00m result \u001b[38;5;129;01mis\u001b[39;00m S\u001b[38;5;241m.\u001b[39mComplexInfinity:\n\u001b[0;32m    779\u001b[0m     \u001b[38;5;28;01mif\u001b[39;00m p \u001b[38;5;241m<\u001b[39m \u001b[38;5;241m0\u001b[39m:\n",
      "File \u001b[1;32mc:\\Users\\Ruslan\\.conda\\envs\\learning_env\\Lib\\site-packages\\sympy\\core\\evalf.py:1488\u001b[0m, in \u001b[0;36mevalf\u001b[1;34m(x, prec, options)\u001b[0m\n\u001b[0;32m   1486\u001b[0m \u001b[38;5;28;01mif\u001b[39;00m \u001b[38;5;124m'\u001b[39m\u001b[38;5;124msubs\u001b[39m\u001b[38;5;124m'\u001b[39m \u001b[38;5;129;01min\u001b[39;00m options:\n\u001b[0;32m   1487\u001b[0m     x \u001b[38;5;241m=\u001b[39m x\u001b[38;5;241m.\u001b[39msubs(evalf_subs(prec, options[\u001b[38;5;124m'\u001b[39m\u001b[38;5;124msubs\u001b[39m\u001b[38;5;124m'\u001b[39m]))\n\u001b[1;32m-> 1488\u001b[0m xe \u001b[38;5;241m=\u001b[39m x\u001b[38;5;241m.\u001b[39m_eval_evalf(prec)\n\u001b[0;32m   1489\u001b[0m \u001b[38;5;28;01mif\u001b[39;00m xe \u001b[38;5;129;01mis\u001b[39;00m \u001b[38;5;28;01mNone\u001b[39;00m:\n\u001b[0;32m   1490\u001b[0m     \u001b[38;5;28;01mraise\u001b[39;00m \u001b[38;5;167;01mNotImplementedError\u001b[39;00m\n",
      "File \u001b[1;32mc:\\Users\\Ruslan\\.conda\\envs\\learning_env\\Lib\\site-packages\\sympy\\polys\\rootoftools.py:922\u001b[0m, in \u001b[0;36mComplexRootOf._eval_evalf\u001b[1;34m(self, prec, **kwargs)\u001b[0m\n\u001b[0;32m    920\u001b[0m \u001b[38;5;250m\u001b[39m\u001b[38;5;124;03m\"\"\"Evaluate this complex root to the given precision.\"\"\"\u001b[39;00m\n\u001b[0;32m    921\u001b[0m \u001b[38;5;66;03m# all kwargs are ignored\u001b[39;00m\n\u001b[1;32m--> 922\u001b[0m \u001b[38;5;28;01mreturn\u001b[39;00m \u001b[38;5;28mself\u001b[39m\u001b[38;5;241m.\u001b[39meval_rational(n\u001b[38;5;241m=\u001b[39mprec_to_dps(prec))\u001b[38;5;241m.\u001b[39m_evalf(prec)\n",
      "File \u001b[1;32mc:\\Users\\Ruslan\\.conda\\envs\\learning_env\\Lib\\site-packages\\sympy\\polys\\rootoftools.py:993\u001b[0m, in \u001b[0;36mComplexRootOf.eval_rational\u001b[1;34m(self, dx, dy, n)\u001b[0m\n\u001b[0;32m    991\u001b[0m     dx \u001b[38;5;241m=\u001b[39m \u001b[38;5;28mabs\u001b[39m(interval\u001b[38;5;241m.\u001b[39mcenter[\u001b[38;5;241m0\u001b[39m]\u001b[38;5;241m*\u001b[39mrtol)\n\u001b[0;32m    992\u001b[0m     dy \u001b[38;5;241m=\u001b[39m \u001b[38;5;28mabs\u001b[39m(interval\u001b[38;5;241m.\u001b[39mcenter[\u001b[38;5;241m1\u001b[39m]\u001b[38;5;241m*\u001b[39mrtol)\n\u001b[1;32m--> 993\u001b[0m interval \u001b[38;5;241m=\u001b[39m interval\u001b[38;5;241m.\u001b[39mrefine_size(dx, dy)\n\u001b[0;32m    994\u001b[0m c \u001b[38;5;241m=\u001b[39m interval\u001b[38;5;241m.\u001b[39mcenter\n\u001b[0;32m    995\u001b[0m real, imag \u001b[38;5;241m=\u001b[39m \u001b[38;5;28mmap\u001b[39m(Rational, c)\n",
      "File \u001b[1;32mc:\\Users\\Ruslan\\.conda\\envs\\learning_env\\Lib\\site-packages\\sympy\\polys\\rootisolation.py:2182\u001b[0m, in \u001b[0;36mComplexInterval.refine_size\u001b[1;34m(self, dx, dy)\u001b[0m\n\u001b[0;32m   2180\u001b[0m expr \u001b[38;5;241m=\u001b[39m \u001b[38;5;28mself\u001b[39m\n\u001b[0;32m   2181\u001b[0m \u001b[38;5;28;01mwhile\u001b[39;00m \u001b[38;5;129;01mnot\u001b[39;00m (expr\u001b[38;5;241m.\u001b[39mdx \u001b[38;5;241m<\u001b[39m dx \u001b[38;5;129;01mand\u001b[39;00m expr\u001b[38;5;241m.\u001b[39mdy \u001b[38;5;241m<\u001b[39m dy):\n\u001b[1;32m-> 2182\u001b[0m     expr \u001b[38;5;241m=\u001b[39m expr\u001b[38;5;241m.\u001b[39m_inner_refine()\n\u001b[0;32m   2184\u001b[0m \u001b[38;5;28;01mreturn\u001b[39;00m expr\n",
      "File \u001b[1;32mc:\\Users\\Ruslan\\.conda\\envs\\learning_env\\Lib\\site-packages\\sympy\\polys\\rootisolation.py:2159\u001b[0m, in \u001b[0;36mComplexInterval._inner_refine\u001b[1;34m(self)\u001b[0m\n\u001b[0;32m   2157\u001b[0m         _, a, b, I, Q, F1, F2 \u001b[38;5;241m=\u001b[39m D_R\n\u001b[0;32m   2158\u001b[0m \u001b[38;5;28;01melse\u001b[39;00m:\n\u001b[1;32m-> 2159\u001b[0m     D_B, D_U \u001b[38;5;241m=\u001b[39m _horizontal_bisection(\u001b[38;5;241m1\u001b[39m, (u, v), (s, t), I, Q, F1, F2, f1, f2, dom)\n\u001b[0;32m   2161\u001b[0m     \u001b[38;5;28;01mif\u001b[39;00m D_B[\u001b[38;5;241m0\u001b[39m] \u001b[38;5;241m==\u001b[39m \u001b[38;5;241m1\u001b[39m:\n\u001b[0;32m   2162\u001b[0m         _, a, b, I, Q, F1, F2 \u001b[38;5;241m=\u001b[39m D_B\n",
      "File \u001b[1;32mc:\\Users\\Ruslan\\.conda\\envs\\learning_env\\Lib\\site-packages\\sympy\\polys\\rootisolation.py:1471\u001b[0m, in \u001b[0;36m_horizontal_bisection\u001b[1;34m(N, a, b, I, Q, F1, F2, f1, f2, F)\u001b[0m\n\u001b[0;32m   1468\u001b[0m f1H \u001b[38;5;241m=\u001b[39m dmp_eval_in(f1, y, \u001b[38;5;241m1\u001b[39m, \u001b[38;5;241m1\u001b[39m, F)\n\u001b[0;32m   1469\u001b[0m f2H \u001b[38;5;241m=\u001b[39m dmp_eval_in(f2, y, \u001b[38;5;241m1\u001b[39m, \u001b[38;5;241m1\u001b[39m, F)\n\u001b[1;32m-> 1471\u001b[0m I_H \u001b[38;5;241m=\u001b[39m dup_isolate_real_roots_list([f1H, f2H], F, inf\u001b[38;5;241m=\u001b[39mu, sup\u001b[38;5;241m=\u001b[39ms, fast\u001b[38;5;241m=\u001b[39m\u001b[38;5;28;01mTrue\u001b[39;00m, strict\u001b[38;5;241m=\u001b[39m\u001b[38;5;28;01mTrue\u001b[39;00m, basis\u001b[38;5;241m=\u001b[39m\u001b[38;5;28;01mTrue\u001b[39;00m)\n\u001b[0;32m   1473\u001b[0m I_L1_B, I_L1_U \u001b[38;5;241m=\u001b[39m I_L1, I_H\n\u001b[0;32m   1474\u001b[0m I_L2_B, I_L2_U \u001b[38;5;241m=\u001b[39m [], []\n",
      "File \u001b[1;32mc:\\Users\\Ruslan\\.conda\\envs\\learning_env\\Lib\\site-packages\\sympy\\polys\\rootisolation.py:667\u001b[0m, in \u001b[0;36mdup_isolate_real_roots_list\u001b[1;34m(polys, K, eps, inf, sup, strict, basis, fast)\u001b[0m\n\u001b[0;32m    664\u001b[0m \u001b[38;5;28;01mif\u001b[39;00m zeros \u001b[38;5;129;01mand\u001b[39;00m j \u001b[38;5;241m>\u001b[39m \u001b[38;5;241m0\u001b[39m:\n\u001b[0;32m    665\u001b[0m     zero_indices[i] \u001b[38;5;241m=\u001b[39m j\n\u001b[1;32m--> 667\u001b[0m \u001b[38;5;28;01mfor\u001b[39;00m f, k \u001b[38;5;129;01min\u001b[39;00m dup_factor_list(p, K)[\u001b[38;5;241m1\u001b[39m]:\n\u001b[0;32m    668\u001b[0m     f \u001b[38;5;241m=\u001b[39m \u001b[38;5;28mtuple\u001b[39m(f)\n\u001b[0;32m    670\u001b[0m     \u001b[38;5;28;01mif\u001b[39;00m f \u001b[38;5;129;01mnot\u001b[39;00m \u001b[38;5;129;01min\u001b[39;00m factors_dict:\n",
      "File \u001b[1;32mc:\\Users\\Ruslan\\.conda\\envs\\learning_env\\Lib\\site-packages\\sympy\\polys\\factortools.py:1488\u001b[0m, in \u001b[0;36mdup_factor_list\u001b[1;34m(f, K0)\u001b[0m\n\u001b[0;32m   1485\u001b[0m     K \u001b[38;5;241m=\u001b[39m K0\n\u001b[0;32m   1487\u001b[0m \u001b[38;5;28;01mif\u001b[39;00m K\u001b[38;5;241m.\u001b[39mis_ZZ:\n\u001b[1;32m-> 1488\u001b[0m     coeff, factors \u001b[38;5;241m=\u001b[39m dup_zz_factor(f, K)\n\u001b[0;32m   1489\u001b[0m \u001b[38;5;28;01melif\u001b[39;00m K\u001b[38;5;241m.\u001b[39mis_Poly:\n\u001b[0;32m   1490\u001b[0m     f, u \u001b[38;5;241m=\u001b[39m dmp_inject(f, \u001b[38;5;241m0\u001b[39m, K)\n",
      "File \u001b[1;32mc:\\Users\\Ruslan\\.conda\\envs\\learning_env\\Lib\\site-packages\\sympy\\polys\\factortools.py:714\u001b[0m, in \u001b[0;36mdup_zz_factor\u001b[1;34m(f, K)\u001b[0m\n\u001b[0;32m    711\u001b[0m     H \u001b[38;5;241m=\u001b[39m dup_zz_cyclotomic_factor(g, K)\n\u001b[0;32m    713\u001b[0m \u001b[38;5;28;01mif\u001b[39;00m H \u001b[38;5;129;01mis\u001b[39;00m \u001b[38;5;28;01mNone\u001b[39;00m:\n\u001b[1;32m--> 714\u001b[0m     H \u001b[38;5;241m=\u001b[39m dup_zz_zassenhaus(g, K)\n\u001b[0;32m    716\u001b[0m factors \u001b[38;5;241m=\u001b[39m dup_trial_division(f, H, K)\n\u001b[0;32m    718\u001b[0m _dup_check_degrees(f, factors)\n",
      "File \u001b[1;32mc:\\Users\\Ruslan\\.conda\\envs\\learning_env\\Lib\\site-packages\\sympy\\polys\\factortools.py:374\u001b[0m, in \u001b[0;36mdup_zz_zassenhaus\u001b[1;34m(f, K)\u001b[0m\n\u001b[0;32m    370\u001b[0m l \u001b[38;5;241m=\u001b[39m \u001b[38;5;28mint\u001b[39m(_ceil(_log(\u001b[38;5;241m2\u001b[39m\u001b[38;5;241m*\u001b[39mB \u001b[38;5;241m+\u001b[39m \u001b[38;5;241m1\u001b[39m, p)))\n\u001b[0;32m    372\u001b[0m modular \u001b[38;5;241m=\u001b[39m [gf_to_int_poly(ff, p) \u001b[38;5;28;01mfor\u001b[39;00m ff \u001b[38;5;129;01min\u001b[39;00m fsqf]\n\u001b[1;32m--> 374\u001b[0m g \u001b[38;5;241m=\u001b[39m dup_zz_hensel_lift(p, f, modular, l, K)\n\u001b[0;32m    376\u001b[0m sorted_T \u001b[38;5;241m=\u001b[39m \u001b[38;5;28mrange\u001b[39m(\u001b[38;5;28mlen\u001b[39m(g))\n\u001b[0;32m    377\u001b[0m T \u001b[38;5;241m=\u001b[39m \u001b[38;5;28mset\u001b[39m(sorted_T)\n",
      "File \u001b[1;32mc:\\Users\\Ruslan\\.conda\\envs\\learning_env\\Lib\\site-packages\\sympy\\polys\\factortools.py:322\u001b[0m, in \u001b[0;36mdup_zz_hensel_lift\u001b[1;34m(p, f, f_list, l, K)\u001b[0m\n\u001b[0;32m    319\u001b[0m t \u001b[38;5;241m=\u001b[39m gf_to_int_poly(t, p)\n\u001b[0;32m    321\u001b[0m \u001b[38;5;28;01mfor\u001b[39;00m _ \u001b[38;5;129;01min\u001b[39;00m \u001b[38;5;28mrange\u001b[39m(\u001b[38;5;241m1\u001b[39m, d \u001b[38;5;241m+\u001b[39m \u001b[38;5;241m1\u001b[39m):\n\u001b[1;32m--> 322\u001b[0m     (g, h, s, t), m \u001b[38;5;241m=\u001b[39m dup_zz_hensel_step(m, f, g, h, s, t, K), m\u001b[38;5;241m*\u001b[39m\u001b[38;5;241m*\u001b[39m\u001b[38;5;241m2\u001b[39m\n\u001b[0;32m    324\u001b[0m \u001b[38;5;28;01mreturn\u001b[39;00m dup_zz_hensel_lift(p, g, f_list[:k], l, K) \\\n\u001b[0;32m    325\u001b[0m     \u001b[38;5;241m+\u001b[39m dup_zz_hensel_lift(p, h, f_list[k:], l, K)\n",
      "File \u001b[1;32mc:\\Users\\Ruslan\\.conda\\envs\\learning_env\\Lib\\site-packages\\sympy\\polys\\factortools.py:251\u001b[0m, in \u001b[0;36mdup_zz_hensel_step\u001b[1;34m(m, f, g, h, s, t, K)\u001b[0m\n\u001b[0;32m    248\u001b[0m q \u001b[38;5;241m=\u001b[39m dup_trunc(q, M, K)\n\u001b[0;32m    249\u001b[0m r \u001b[38;5;241m=\u001b[39m dup_trunc(r, M, K)\n\u001b[1;32m--> 251\u001b[0m u \u001b[38;5;241m=\u001b[39m dup_add(dup_mul(t, e, K), dup_mul(q, g, K), K)\n\u001b[0;32m    252\u001b[0m G \u001b[38;5;241m=\u001b[39m dup_trunc(dup_add(g, u, K), M, K)\n\u001b[0;32m    253\u001b[0m H \u001b[38;5;241m=\u001b[39m dup_trunc(dup_add(h, r, K), M, K)\n",
      "File \u001b[1;32mc:\\Users\\Ruslan\\.conda\\envs\\learning_env\\Lib\\site-packages\\sympy\\polys\\densearith.py:767\u001b[0m, in \u001b[0;36mdup_mul\u001b[1;34m(f, g, K)\u001b[0m\n\u001b[0;32m    764\u001b[0m     coeff \u001b[38;5;241m=\u001b[39m K\u001b[38;5;241m.\u001b[39mzero\n\u001b[0;32m    766\u001b[0m     \u001b[38;5;28;01mfor\u001b[39;00m j \u001b[38;5;129;01min\u001b[39;00m \u001b[38;5;28mrange\u001b[39m(\u001b[38;5;28mmax\u001b[39m(\u001b[38;5;241m0\u001b[39m, i \u001b[38;5;241m-\u001b[39m dg), \u001b[38;5;28mmin\u001b[39m(df, i) \u001b[38;5;241m+\u001b[39m \u001b[38;5;241m1\u001b[39m):\n\u001b[1;32m--> 767\u001b[0m         coeff \u001b[38;5;241m+\u001b[39m\u001b[38;5;241m=\u001b[39m f[j]\u001b[38;5;241m*\u001b[39mg[i \u001b[38;5;241m-\u001b[39m j]\n\u001b[0;32m    769\u001b[0m     h\u001b[38;5;241m.\u001b[39mappend(coeff)\n\u001b[0;32m    771\u001b[0m \u001b[38;5;28;01mreturn\u001b[39;00m dup_strip(h)\n",
      "\u001b[1;31mKeyboardInterrupt\u001b[0m: "
     ]
    }
   ],
   "source": [
    "solve = sp.solve([M, var], (k, f), domain=sp.S.Reals)\n",
    "solve"
   ]
  },
  {
   "cell_type": "markdown",
   "metadata": {},
   "source": [
    "## Пусть $\\phi = 0$"
   ]
  },
  {
   "cell_type": "code",
   "execution_count": 13,
   "metadata": {},
   "outputs": [
    {
     "data": {
      "text/latex": [
       "$\\displaystyle \\frac{- 4 \\sqrt{2} k^{3} \\left(\\frac{1}{k \\left(k^{2} + 1\\right)}\\right)^{\\frac{3}{2}} \\left(k + 1\\right)^{3} + 2 \\sqrt{2} k^{3} \\left(\\frac{1}{k \\left(k^{2} + 1\\right)}\\right)^{\\frac{3}{2}} + \\frac{6 \\sqrt{2} k^{2} \\sqrt{\\frac{1}{k \\left(k^{2} + 1\\right)}} \\left(k + 1\\right)^{2}}{k^{2} + 1}}{6 k}$"
      ],
      "text/plain": [
       "(-4*sqrt(2)*k**3*(1/(k*(k**2 + 1)))**(3/2)*(k + 1)**3 + 2*sqrt(2)*k**3*(1/(k*(k**2 + 1)))**(3/2) + 6*sqrt(2)*k**2*sqrt(1/(k*(k**2 + 1)))*(k + 1)**2/(k**2 + 1))/(6*k)"
      ]
     },
     "execution_count": 13,
     "metadata": {},
     "output_type": "execute_result"
    }
   ],
   "source": [
    "M_0 = M.subs(f, 0)\n",
    "M_0"
   ]
  },
  {
   "cell_type": "code",
   "execution_count": 14,
   "metadata": {},
   "outputs": [
    {
     "ename": "KeyboardInterrupt",
     "evalue": "",
     "output_type": "error",
     "traceback": [
      "\u001b[1;31m---------------------------------------------------------------------------\u001b[0m",
      "\u001b[1;31mKeyError\u001b[0m                                  Traceback (most recent call last)",
      "File \u001b[1;32mc:\\Users\\Ruslan\\.conda\\envs\\learning_env\\Lib\\site-packages\\sympy\\core\\evalf.py:1482\u001b[0m, in \u001b[0;36mevalf\u001b[1;34m(x, prec, options)\u001b[0m\n\u001b[0;32m   1481\u001b[0m \u001b[38;5;28;01mtry\u001b[39;00m:\n\u001b[1;32m-> 1482\u001b[0m     rf \u001b[38;5;241m=\u001b[39m evalf_table[\u001b[38;5;28mtype\u001b[39m(x)]\n\u001b[0;32m   1483\u001b[0m     r \u001b[38;5;241m=\u001b[39m rf(x, prec, options)\n",
      "\u001b[1;31mKeyError\u001b[0m: <class 'sympy.polys.rootoftools.ComplexRootOf'>",
      "\nDuring handling of the above exception, another exception occurred:\n",
      "\u001b[1;31mKeyboardInterrupt\u001b[0m                         Traceback (most recent call last)",
      "Cell \u001b[1;32mIn[14], line 1\u001b[0m\n\u001b[1;32m----> 1\u001b[0m sp\u001b[38;5;241m.\u001b[39msolve(M_0 \u001b[38;5;241m-\u001b[39m sp\u001b[38;5;241m.\u001b[39msqrt(\u001b[38;5;241m1\u001b[39m), k)\n",
      "File \u001b[1;32mc:\\Users\\Ruslan\\.conda\\envs\\learning_env\\Lib\\site-packages\\sympy\\solvers\\solvers.py:1170\u001b[0m, in \u001b[0;36msolve\u001b[1;34m(f, *symbols, **flags)\u001b[0m\n\u001b[0;32m   1168\u001b[0m         solution \u001b[38;5;241m=\u001b[39m _solve_undetermined(f[\u001b[38;5;241m0\u001b[39m], symbols, flags)\n\u001b[0;32m   1169\u001b[0m     \u001b[38;5;28;01mif\u001b[39;00m \u001b[38;5;129;01mnot\u001b[39;00m solution:\n\u001b[1;32m-> 1170\u001b[0m         solution \u001b[38;5;241m=\u001b[39m _solve(f[\u001b[38;5;241m0\u001b[39m], \u001b[38;5;241m*\u001b[39msymbols, \u001b[38;5;241m*\u001b[39m\u001b[38;5;241m*\u001b[39mflags)\n\u001b[0;32m   1171\u001b[0m \u001b[38;5;28;01melse\u001b[39;00m:\n\u001b[0;32m   1172\u001b[0m     linear, solution \u001b[38;5;241m=\u001b[39m _solve_system(f, symbols, \u001b[38;5;241m*\u001b[39m\u001b[38;5;241m*\u001b[39mflags)\n",
      "File \u001b[1;32mc:\\Users\\Ruslan\\.conda\\envs\\learning_env\\Lib\\site-packages\\sympy\\solvers\\solvers.py:1750\u001b[0m, in \u001b[0;36m_solve\u001b[1;34m(f, *symbols, **flags)\u001b[0m\n\u001b[0;32m   1745\u001b[0m     result \u001b[38;5;241m=\u001b[39m [r \u001b[38;5;28;01mfor\u001b[39;00m r \u001b[38;5;129;01min\u001b[39;00m result \u001b[38;5;28;01mif\u001b[39;00m\n\u001b[0;32m   1746\u001b[0m               \u001b[38;5;129;01mnot\u001b[39;00m \u001b[38;5;28many\u001b[39m(checksol(d, r, \u001b[38;5;241m*\u001b[39m\u001b[38;5;241m*\u001b[39mflags)\n\u001b[0;32m   1747\u001b[0m                       \u001b[38;5;28;01mfor\u001b[39;00m d \u001b[38;5;129;01min\u001b[39;00m dens)]\n\u001b[0;32m   1748\u001b[0m \u001b[38;5;28;01mif\u001b[39;00m check:\n\u001b[0;32m   1749\u001b[0m     \u001b[38;5;66;03m# keep only results if the check is not False\u001b[39;00m\n\u001b[1;32m-> 1750\u001b[0m     result \u001b[38;5;241m=\u001b[39m [r \u001b[38;5;28;01mfor\u001b[39;00m r \u001b[38;5;129;01min\u001b[39;00m result \u001b[38;5;28;01mif\u001b[39;00m\n\u001b[0;32m   1751\u001b[0m               checksol(f_num, r, \u001b[38;5;241m*\u001b[39m\u001b[38;5;241m*\u001b[39mflags) \u001b[38;5;129;01mis\u001b[39;00m \u001b[38;5;129;01mnot\u001b[39;00m \u001b[38;5;28;01mFalse\u001b[39;00m]\n\u001b[0;32m   1752\u001b[0m \u001b[38;5;28;01mreturn\u001b[39;00m result\n",
      "File \u001b[1;32mc:\\Users\\Ruslan\\.conda\\envs\\learning_env\\Lib\\site-packages\\sympy\\solvers\\solvers.py:1751\u001b[0m, in \u001b[0;36m<listcomp>\u001b[1;34m(.0)\u001b[0m\n\u001b[0;32m   1745\u001b[0m     result \u001b[38;5;241m=\u001b[39m [r \u001b[38;5;28;01mfor\u001b[39;00m r \u001b[38;5;129;01min\u001b[39;00m result \u001b[38;5;28;01mif\u001b[39;00m\n\u001b[0;32m   1746\u001b[0m               \u001b[38;5;129;01mnot\u001b[39;00m \u001b[38;5;28many\u001b[39m(checksol(d, r, \u001b[38;5;241m*\u001b[39m\u001b[38;5;241m*\u001b[39mflags)\n\u001b[0;32m   1747\u001b[0m                       \u001b[38;5;28;01mfor\u001b[39;00m d \u001b[38;5;129;01min\u001b[39;00m dens)]\n\u001b[0;32m   1748\u001b[0m \u001b[38;5;28;01mif\u001b[39;00m check:\n\u001b[0;32m   1749\u001b[0m     \u001b[38;5;66;03m# keep only results if the check is not False\u001b[39;00m\n\u001b[0;32m   1750\u001b[0m     result \u001b[38;5;241m=\u001b[39m [r \u001b[38;5;28;01mfor\u001b[39;00m r \u001b[38;5;129;01min\u001b[39;00m result \u001b[38;5;28;01mif\u001b[39;00m\n\u001b[1;32m-> 1751\u001b[0m               checksol(f_num, r, \u001b[38;5;241m*\u001b[39m\u001b[38;5;241m*\u001b[39mflags) \u001b[38;5;129;01mis\u001b[39;00m \u001b[38;5;129;01mnot\u001b[39;00m \u001b[38;5;28;01mFalse\u001b[39;00m]\n\u001b[0;32m   1752\u001b[0m \u001b[38;5;28;01mreturn\u001b[39;00m result\n",
      "File \u001b[1;32mc:\\Users\\Ruslan\\.conda\\envs\\learning_env\\Lib\\site-packages\\sympy\\solvers\\solvers.py:362\u001b[0m, in \u001b[0;36mchecksol\u001b[1;34m(f, symbol, sol, **flags)\u001b[0m\n\u001b[0;32m    360\u001b[0m         \u001b[38;5;28;01mreturn\u001b[39;00m val \u001b[38;5;241m==\u001b[39m \u001b[38;5;241m0\u001b[39m\n\u001b[0;32m    361\u001b[0m     \u001b[38;5;28;01mif\u001b[39;00m numerical \u001b[38;5;129;01mand\u001b[39;00m val\u001b[38;5;241m.\u001b[39mis_number:\n\u001b[1;32m--> 362\u001b[0m         \u001b[38;5;28;01mreturn\u001b[39;00m (\u001b[38;5;28mabs\u001b[39m(val\u001b[38;5;241m.\u001b[39mn(\u001b[38;5;241m18\u001b[39m)\u001b[38;5;241m.\u001b[39mn(\u001b[38;5;241m12\u001b[39m, chop\u001b[38;5;241m=\u001b[39m\u001b[38;5;28;01mTrue\u001b[39;00m)) \u001b[38;5;241m<\u001b[39m \u001b[38;5;241m1e-9\u001b[39m) \u001b[38;5;129;01mis\u001b[39;00m S\u001b[38;5;241m.\u001b[39mtrue\n\u001b[0;32m    364\u001b[0m \u001b[38;5;28;01mif\u001b[39;00m flags\u001b[38;5;241m.\u001b[39mget(\u001b[38;5;124m'\u001b[39m\u001b[38;5;124mwarn\u001b[39m\u001b[38;5;124m'\u001b[39m, \u001b[38;5;28;01mFalse\u001b[39;00m):\n\u001b[0;32m    365\u001b[0m     warnings\u001b[38;5;241m.\u001b[39mwarn(\u001b[38;5;124m\"\u001b[39m\u001b[38;5;130;01m\\n\u001b[39;00m\u001b[38;5;130;01m\\t\u001b[39;00m\u001b[38;5;124mWarning: could not verify solution \u001b[39m\u001b[38;5;132;01m%s\u001b[39;00m\u001b[38;5;124m.\u001b[39m\u001b[38;5;124m\"\u001b[39m \u001b[38;5;241m%\u001b[39m sol)\n",
      "File \u001b[1;32mc:\\Users\\Ruslan\\.conda\\envs\\learning_env\\Lib\\site-packages\\sympy\\core\\evalf.py:1648\u001b[0m, in \u001b[0;36mEvalfMixin.evalf\u001b[1;34m(self, n, subs, maxn, chop, strict, quad, verbose)\u001b[0m\n\u001b[0;32m   1646\u001b[0m     options[\u001b[38;5;124m'\u001b[39m\u001b[38;5;124mquad\u001b[39m\u001b[38;5;124m'\u001b[39m] \u001b[38;5;241m=\u001b[39m quad\n\u001b[0;32m   1647\u001b[0m \u001b[38;5;28;01mtry\u001b[39;00m:\n\u001b[1;32m-> 1648\u001b[0m     result \u001b[38;5;241m=\u001b[39m evalf(\u001b[38;5;28mself\u001b[39m, prec \u001b[38;5;241m+\u001b[39m \u001b[38;5;241m4\u001b[39m, options)\n\u001b[0;32m   1649\u001b[0m \u001b[38;5;28;01mexcept\u001b[39;00m \u001b[38;5;167;01mNotImplementedError\u001b[39;00m:\n\u001b[0;32m   1650\u001b[0m     \u001b[38;5;66;03m# Fall back to the ordinary evalf\u001b[39;00m\n\u001b[0;32m   1651\u001b[0m     \u001b[38;5;28;01mif\u001b[39;00m \u001b[38;5;28mhasattr\u001b[39m(\u001b[38;5;28mself\u001b[39m, \u001b[38;5;124m'\u001b[39m\u001b[38;5;124msubs\u001b[39m\u001b[38;5;124m'\u001b[39m) \u001b[38;5;129;01mand\u001b[39;00m subs \u001b[38;5;129;01mis\u001b[39;00m \u001b[38;5;129;01mnot\u001b[39;00m \u001b[38;5;28;01mNone\u001b[39;00m:  \u001b[38;5;66;03m# issue 20291\u001b[39;00m\n",
      "File \u001b[1;32mc:\\Users\\Ruslan\\.conda\\envs\\learning_env\\Lib\\site-packages\\sympy\\core\\evalf.py:1483\u001b[0m, in \u001b[0;36mevalf\u001b[1;34m(x, prec, options)\u001b[0m\n\u001b[0;32m   1481\u001b[0m \u001b[38;5;28;01mtry\u001b[39;00m:\n\u001b[0;32m   1482\u001b[0m     rf \u001b[38;5;241m=\u001b[39m evalf_table[\u001b[38;5;28mtype\u001b[39m(x)]\n\u001b[1;32m-> 1483\u001b[0m     r \u001b[38;5;241m=\u001b[39m rf(x, prec, options)\n\u001b[0;32m   1484\u001b[0m \u001b[38;5;28;01mexcept\u001b[39;00m \u001b[38;5;167;01mKeyError\u001b[39;00m:\n\u001b[0;32m   1485\u001b[0m     \u001b[38;5;66;03m# Fall back to ordinary evalf if possible\u001b[39;00m\n\u001b[0;32m   1486\u001b[0m     \u001b[38;5;28;01mif\u001b[39;00m \u001b[38;5;124m'\u001b[39m\u001b[38;5;124msubs\u001b[39m\u001b[38;5;124m'\u001b[39m \u001b[38;5;129;01min\u001b[39;00m options:\n",
      "File \u001b[1;32mc:\\Users\\Ruslan\\.conda\\envs\\learning_env\\Lib\\site-packages\\sympy\\core\\evalf.py:601\u001b[0m, in \u001b[0;36mevalf_add\u001b[1;34m(v, prec, options)\u001b[0m\n\u001b[0;32m    598\u001b[0m \u001b[38;5;28;01mwhile\u001b[39;00m \u001b[38;5;241m1\u001b[39m:\n\u001b[0;32m    599\u001b[0m     options[\u001b[38;5;124m'\u001b[39m\u001b[38;5;124mmaxprec\u001b[39m\u001b[38;5;124m'\u001b[39m] \u001b[38;5;241m=\u001b[39m \u001b[38;5;28mmin\u001b[39m(oldmaxprec, \u001b[38;5;241m2\u001b[39m\u001b[38;5;241m*\u001b[39mprec)\n\u001b[1;32m--> 601\u001b[0m     terms \u001b[38;5;241m=\u001b[39m [evalf(arg, prec \u001b[38;5;241m+\u001b[39m \u001b[38;5;241m10\u001b[39m, options) \u001b[38;5;28;01mfor\u001b[39;00m arg \u001b[38;5;129;01min\u001b[39;00m v\u001b[38;5;241m.\u001b[39margs]\n\u001b[0;32m    602\u001b[0m     n \u001b[38;5;241m=\u001b[39m terms\u001b[38;5;241m.\u001b[39mcount(S\u001b[38;5;241m.\u001b[39mComplexInfinity)\n\u001b[0;32m    603\u001b[0m     \u001b[38;5;28;01mif\u001b[39;00m n \u001b[38;5;241m>\u001b[39m\u001b[38;5;241m=\u001b[39m \u001b[38;5;241m2\u001b[39m:\n",
      "File \u001b[1;32mc:\\Users\\Ruslan\\.conda\\envs\\learning_env\\Lib\\site-packages\\sympy\\core\\evalf.py:601\u001b[0m, in \u001b[0;36m<listcomp>\u001b[1;34m(.0)\u001b[0m\n\u001b[0;32m    598\u001b[0m \u001b[38;5;28;01mwhile\u001b[39;00m \u001b[38;5;241m1\u001b[39m:\n\u001b[0;32m    599\u001b[0m     options[\u001b[38;5;124m'\u001b[39m\u001b[38;5;124mmaxprec\u001b[39m\u001b[38;5;124m'\u001b[39m] \u001b[38;5;241m=\u001b[39m \u001b[38;5;28mmin\u001b[39m(oldmaxprec, \u001b[38;5;241m2\u001b[39m\u001b[38;5;241m*\u001b[39mprec)\n\u001b[1;32m--> 601\u001b[0m     terms \u001b[38;5;241m=\u001b[39m [evalf(arg, prec \u001b[38;5;241m+\u001b[39m \u001b[38;5;241m10\u001b[39m, options) \u001b[38;5;28;01mfor\u001b[39;00m arg \u001b[38;5;129;01min\u001b[39;00m v\u001b[38;5;241m.\u001b[39margs]\n\u001b[0;32m    602\u001b[0m     n \u001b[38;5;241m=\u001b[39m terms\u001b[38;5;241m.\u001b[39mcount(S\u001b[38;5;241m.\u001b[39mComplexInfinity)\n\u001b[0;32m    603\u001b[0m     \u001b[38;5;28;01mif\u001b[39;00m n \u001b[38;5;241m>\u001b[39m\u001b[38;5;241m=\u001b[39m \u001b[38;5;241m2\u001b[39m:\n",
      "File \u001b[1;32mc:\\Users\\Ruslan\\.conda\\envs\\learning_env\\Lib\\site-packages\\sympy\\core\\evalf.py:1483\u001b[0m, in \u001b[0;36mevalf\u001b[1;34m(x, prec, options)\u001b[0m\n\u001b[0;32m   1481\u001b[0m \u001b[38;5;28;01mtry\u001b[39;00m:\n\u001b[0;32m   1482\u001b[0m     rf \u001b[38;5;241m=\u001b[39m evalf_table[\u001b[38;5;28mtype\u001b[39m(x)]\n\u001b[1;32m-> 1483\u001b[0m     r \u001b[38;5;241m=\u001b[39m rf(x, prec, options)\n\u001b[0;32m   1484\u001b[0m \u001b[38;5;28;01mexcept\u001b[39;00m \u001b[38;5;167;01mKeyError\u001b[39;00m:\n\u001b[0;32m   1485\u001b[0m     \u001b[38;5;66;03m# Fall back to ordinary evalf if possible\u001b[39;00m\n\u001b[0;32m   1486\u001b[0m     \u001b[38;5;28;01mif\u001b[39;00m \u001b[38;5;124m'\u001b[39m\u001b[38;5;124msubs\u001b[39m\u001b[38;5;124m'\u001b[39m \u001b[38;5;129;01min\u001b[39;00m options:\n",
      "File \u001b[1;32mc:\\Users\\Ruslan\\.conda\\envs\\learning_env\\Lib\\site-packages\\sympy\\core\\evalf.py:649\u001b[0m, in \u001b[0;36mevalf_mul\u001b[1;34m(v, prec, options)\u001b[0m\n\u001b[0;32m    647\u001b[0m \u001b[38;5;28;01mfrom\u001b[39;00m \u001b[38;5;21;01m.\u001b[39;00m\u001b[38;5;21;01mnumbers\u001b[39;00m \u001b[38;5;28;01mimport\u001b[39;00m Float\n\u001b[0;32m    648\u001b[0m \u001b[38;5;28;01mfor\u001b[39;00m arg \u001b[38;5;129;01min\u001b[39;00m args:\n\u001b[1;32m--> 649\u001b[0m     result \u001b[38;5;241m=\u001b[39m evalf(arg, prec, options)\n\u001b[0;32m    650\u001b[0m     \u001b[38;5;28;01mif\u001b[39;00m result \u001b[38;5;129;01mis\u001b[39;00m S\u001b[38;5;241m.\u001b[39mComplexInfinity:\n\u001b[0;32m    651\u001b[0m         special\u001b[38;5;241m.\u001b[39mappend(result)\n",
      "File \u001b[1;32mc:\\Users\\Ruslan\\.conda\\envs\\learning_env\\Lib\\site-packages\\sympy\\core\\evalf.py:1483\u001b[0m, in \u001b[0;36mevalf\u001b[1;34m(x, prec, options)\u001b[0m\n\u001b[0;32m   1481\u001b[0m \u001b[38;5;28;01mtry\u001b[39;00m:\n\u001b[0;32m   1482\u001b[0m     rf \u001b[38;5;241m=\u001b[39m evalf_table[\u001b[38;5;28mtype\u001b[39m(x)]\n\u001b[1;32m-> 1483\u001b[0m     r \u001b[38;5;241m=\u001b[39m rf(x, prec, options)\n\u001b[0;32m   1484\u001b[0m \u001b[38;5;28;01mexcept\u001b[39;00m \u001b[38;5;167;01mKeyError\u001b[39;00m:\n\u001b[0;32m   1485\u001b[0m     \u001b[38;5;66;03m# Fall back to ordinary evalf if possible\u001b[39;00m\n\u001b[0;32m   1486\u001b[0m     \u001b[38;5;28;01mif\u001b[39;00m \u001b[38;5;124m'\u001b[39m\u001b[38;5;124msubs\u001b[39m\u001b[38;5;124m'\u001b[39m \u001b[38;5;129;01min\u001b[39;00m options:\n",
      "File \u001b[1;32mc:\\Users\\Ruslan\\.conda\\envs\\learning_env\\Lib\\site-packages\\sympy\\core\\evalf.py:601\u001b[0m, in \u001b[0;36mevalf_add\u001b[1;34m(v, prec, options)\u001b[0m\n\u001b[0;32m    598\u001b[0m \u001b[38;5;28;01mwhile\u001b[39;00m \u001b[38;5;241m1\u001b[39m:\n\u001b[0;32m    599\u001b[0m     options[\u001b[38;5;124m'\u001b[39m\u001b[38;5;124mmaxprec\u001b[39m\u001b[38;5;124m'\u001b[39m] \u001b[38;5;241m=\u001b[39m \u001b[38;5;28mmin\u001b[39m(oldmaxprec, \u001b[38;5;241m2\u001b[39m\u001b[38;5;241m*\u001b[39mprec)\n\u001b[1;32m--> 601\u001b[0m     terms \u001b[38;5;241m=\u001b[39m [evalf(arg, prec \u001b[38;5;241m+\u001b[39m \u001b[38;5;241m10\u001b[39m, options) \u001b[38;5;28;01mfor\u001b[39;00m arg \u001b[38;5;129;01min\u001b[39;00m v\u001b[38;5;241m.\u001b[39margs]\n\u001b[0;32m    602\u001b[0m     n \u001b[38;5;241m=\u001b[39m terms\u001b[38;5;241m.\u001b[39mcount(S\u001b[38;5;241m.\u001b[39mComplexInfinity)\n\u001b[0;32m    603\u001b[0m     \u001b[38;5;28;01mif\u001b[39;00m n \u001b[38;5;241m>\u001b[39m\u001b[38;5;241m=\u001b[39m \u001b[38;5;241m2\u001b[39m:\n",
      "File \u001b[1;32mc:\\Users\\Ruslan\\.conda\\envs\\learning_env\\Lib\\site-packages\\sympy\\core\\evalf.py:601\u001b[0m, in \u001b[0;36m<listcomp>\u001b[1;34m(.0)\u001b[0m\n\u001b[0;32m    598\u001b[0m \u001b[38;5;28;01mwhile\u001b[39;00m \u001b[38;5;241m1\u001b[39m:\n\u001b[0;32m    599\u001b[0m     options[\u001b[38;5;124m'\u001b[39m\u001b[38;5;124mmaxprec\u001b[39m\u001b[38;5;124m'\u001b[39m] \u001b[38;5;241m=\u001b[39m \u001b[38;5;28mmin\u001b[39m(oldmaxprec, \u001b[38;5;241m2\u001b[39m\u001b[38;5;241m*\u001b[39mprec)\n\u001b[1;32m--> 601\u001b[0m     terms \u001b[38;5;241m=\u001b[39m [evalf(arg, prec \u001b[38;5;241m+\u001b[39m \u001b[38;5;241m10\u001b[39m, options) \u001b[38;5;28;01mfor\u001b[39;00m arg \u001b[38;5;129;01min\u001b[39;00m v\u001b[38;5;241m.\u001b[39margs]\n\u001b[0;32m    602\u001b[0m     n \u001b[38;5;241m=\u001b[39m terms\u001b[38;5;241m.\u001b[39mcount(S\u001b[38;5;241m.\u001b[39mComplexInfinity)\n\u001b[0;32m    603\u001b[0m     \u001b[38;5;28;01mif\u001b[39;00m n \u001b[38;5;241m>\u001b[39m\u001b[38;5;241m=\u001b[39m \u001b[38;5;241m2\u001b[39m:\n",
      "File \u001b[1;32mc:\\Users\\Ruslan\\.conda\\envs\\learning_env\\Lib\\site-packages\\sympy\\core\\evalf.py:1483\u001b[0m, in \u001b[0;36mevalf\u001b[1;34m(x, prec, options)\u001b[0m\n\u001b[0;32m   1481\u001b[0m \u001b[38;5;28;01mtry\u001b[39;00m:\n\u001b[0;32m   1482\u001b[0m     rf \u001b[38;5;241m=\u001b[39m evalf_table[\u001b[38;5;28mtype\u001b[39m(x)]\n\u001b[1;32m-> 1483\u001b[0m     r \u001b[38;5;241m=\u001b[39m rf(x, prec, options)\n\u001b[0;32m   1484\u001b[0m \u001b[38;5;28;01mexcept\u001b[39;00m \u001b[38;5;167;01mKeyError\u001b[39;00m:\n\u001b[0;32m   1485\u001b[0m     \u001b[38;5;66;03m# Fall back to ordinary evalf if possible\u001b[39;00m\n\u001b[0;32m   1486\u001b[0m     \u001b[38;5;28;01mif\u001b[39;00m \u001b[38;5;124m'\u001b[39m\u001b[38;5;124msubs\u001b[39m\u001b[38;5;124m'\u001b[39m \u001b[38;5;129;01min\u001b[39;00m options:\n",
      "File \u001b[1;32mc:\\Users\\Ruslan\\.conda\\envs\\learning_env\\Lib\\site-packages\\sympy\\core\\evalf.py:649\u001b[0m, in \u001b[0;36mevalf_mul\u001b[1;34m(v, prec, options)\u001b[0m\n\u001b[0;32m    647\u001b[0m \u001b[38;5;28;01mfrom\u001b[39;00m \u001b[38;5;21;01m.\u001b[39;00m\u001b[38;5;21;01mnumbers\u001b[39;00m \u001b[38;5;28;01mimport\u001b[39;00m Float\n\u001b[0;32m    648\u001b[0m \u001b[38;5;28;01mfor\u001b[39;00m arg \u001b[38;5;129;01min\u001b[39;00m args:\n\u001b[1;32m--> 649\u001b[0m     result \u001b[38;5;241m=\u001b[39m evalf(arg, prec, options)\n\u001b[0;32m    650\u001b[0m     \u001b[38;5;28;01mif\u001b[39;00m result \u001b[38;5;129;01mis\u001b[39;00m S\u001b[38;5;241m.\u001b[39mComplexInfinity:\n\u001b[0;32m    651\u001b[0m         special\u001b[38;5;241m.\u001b[39mappend(result)\n",
      "File \u001b[1;32mc:\\Users\\Ruslan\\.conda\\envs\\learning_env\\Lib\\site-packages\\sympy\\core\\evalf.py:1483\u001b[0m, in \u001b[0;36mevalf\u001b[1;34m(x, prec, options)\u001b[0m\n\u001b[0;32m   1481\u001b[0m \u001b[38;5;28;01mtry\u001b[39;00m:\n\u001b[0;32m   1482\u001b[0m     rf \u001b[38;5;241m=\u001b[39m evalf_table[\u001b[38;5;28mtype\u001b[39m(x)]\n\u001b[1;32m-> 1483\u001b[0m     r \u001b[38;5;241m=\u001b[39m rf(x, prec, options)\n\u001b[0;32m   1484\u001b[0m \u001b[38;5;28;01mexcept\u001b[39;00m \u001b[38;5;167;01mKeyError\u001b[39;00m:\n\u001b[0;32m   1485\u001b[0m     \u001b[38;5;66;03m# Fall back to ordinary evalf if possible\u001b[39;00m\n\u001b[0;32m   1486\u001b[0m     \u001b[38;5;28;01mif\u001b[39;00m \u001b[38;5;124m'\u001b[39m\u001b[38;5;124msubs\u001b[39m\u001b[38;5;124m'\u001b[39m \u001b[38;5;129;01min\u001b[39;00m options:\n",
      "File \u001b[1;32mc:\\Users\\Ruslan\\.conda\\envs\\learning_env\\Lib\\site-packages\\sympy\\core\\evalf.py:808\u001b[0m, in \u001b[0;36mevalf_pow\u001b[1;34m(v, prec, options)\u001b[0m\n\u001b[0;32m    805\u001b[0m     \u001b[38;5;66;03m# Assumes full accuracy in input\u001b[39;00m\n\u001b[0;32m    806\u001b[0m     \u001b[38;5;28;01mreturn\u001b[39;00m finalize_complex(re, im, target_prec)\n\u001b[1;32m--> 808\u001b[0m result \u001b[38;5;241m=\u001b[39m evalf(base, prec \u001b[38;5;241m+\u001b[39m \u001b[38;5;241m5\u001b[39m, options)\n\u001b[0;32m    809\u001b[0m \u001b[38;5;28;01mif\u001b[39;00m result \u001b[38;5;129;01mis\u001b[39;00m S\u001b[38;5;241m.\u001b[39mComplexInfinity:\n\u001b[0;32m    810\u001b[0m     \u001b[38;5;28;01mif\u001b[39;00m exp\u001b[38;5;241m.\u001b[39mis_Rational:\n",
      "File \u001b[1;32mc:\\Users\\Ruslan\\.conda\\envs\\learning_env\\Lib\\site-packages\\sympy\\core\\evalf.py:1483\u001b[0m, in \u001b[0;36mevalf\u001b[1;34m(x, prec, options)\u001b[0m\n\u001b[0;32m   1481\u001b[0m \u001b[38;5;28;01mtry\u001b[39;00m:\n\u001b[0;32m   1482\u001b[0m     rf \u001b[38;5;241m=\u001b[39m evalf_table[\u001b[38;5;28mtype\u001b[39m(x)]\n\u001b[1;32m-> 1483\u001b[0m     r \u001b[38;5;241m=\u001b[39m rf(x, prec, options)\n\u001b[0;32m   1484\u001b[0m \u001b[38;5;28;01mexcept\u001b[39;00m \u001b[38;5;167;01mKeyError\u001b[39;00m:\n\u001b[0;32m   1485\u001b[0m     \u001b[38;5;66;03m# Fall back to ordinary evalf if possible\u001b[39;00m\n\u001b[0;32m   1486\u001b[0m     \u001b[38;5;28;01mif\u001b[39;00m \u001b[38;5;124m'\u001b[39m\u001b[38;5;124msubs\u001b[39m\u001b[38;5;124m'\u001b[39m \u001b[38;5;129;01min\u001b[39;00m options:\n",
      "File \u001b[1;32mc:\\Users\\Ruslan\\.conda\\envs\\learning_env\\Lib\\site-packages\\sympy\\core\\evalf.py:697\u001b[0m, in \u001b[0;36mevalf_mul\u001b[1;34m(v, prec, options)\u001b[0m\n\u001b[0;32m    695\u001b[0m \u001b[38;5;28;01melif\u001b[39;00m i \u001b[38;5;241m==\u001b[39m last \u001b[38;5;129;01mand\u001b[39;00m arg \u001b[38;5;129;01mis\u001b[39;00m S\u001b[38;5;241m.\u001b[39mOne:\n\u001b[0;32m    696\u001b[0m     \u001b[38;5;28;01mcontinue\u001b[39;00m\n\u001b[1;32m--> 697\u001b[0m re, im, re_acc, im_acc \u001b[38;5;241m=\u001b[39m evalf(arg, working_prec, options)\n\u001b[0;32m    698\u001b[0m \u001b[38;5;28;01mif\u001b[39;00m re \u001b[38;5;129;01mand\u001b[39;00m im:\n\u001b[0;32m    699\u001b[0m     complex_factors\u001b[38;5;241m.\u001b[39mappend((re, im, re_acc, im_acc))\n",
      "File \u001b[1;32mc:\\Users\\Ruslan\\.conda\\envs\\learning_env\\Lib\\site-packages\\sympy\\core\\evalf.py:1483\u001b[0m, in \u001b[0;36mevalf\u001b[1;34m(x, prec, options)\u001b[0m\n\u001b[0;32m   1481\u001b[0m \u001b[38;5;28;01mtry\u001b[39;00m:\n\u001b[0;32m   1482\u001b[0m     rf \u001b[38;5;241m=\u001b[39m evalf_table[\u001b[38;5;28mtype\u001b[39m(x)]\n\u001b[1;32m-> 1483\u001b[0m     r \u001b[38;5;241m=\u001b[39m rf(x, prec, options)\n\u001b[0;32m   1484\u001b[0m \u001b[38;5;28;01mexcept\u001b[39;00m \u001b[38;5;167;01mKeyError\u001b[39;00m:\n\u001b[0;32m   1485\u001b[0m     \u001b[38;5;66;03m# Fall back to ordinary evalf if possible\u001b[39;00m\n\u001b[0;32m   1486\u001b[0m     \u001b[38;5;28;01mif\u001b[39;00m \u001b[38;5;124m'\u001b[39m\u001b[38;5;124msubs\u001b[39m\u001b[38;5;124m'\u001b[39m \u001b[38;5;129;01min\u001b[39;00m options:\n",
      "File \u001b[1;32mc:\\Users\\Ruslan\\.conda\\envs\\learning_env\\Lib\\site-packages\\sympy\\core\\evalf.py:777\u001b[0m, in \u001b[0;36mevalf_pow\u001b[1;34m(v, prec, options)\u001b[0m\n\u001b[0;32m    774\u001b[0m \u001b[38;5;66;03m# Exponentiation by p magnifies relative error by |p|, so the\u001b[39;00m\n\u001b[0;32m    775\u001b[0m \u001b[38;5;66;03m# base must be evaluated with increased precision if p is large\u001b[39;00m\n\u001b[0;32m    776\u001b[0m prec \u001b[38;5;241m+\u001b[39m\u001b[38;5;241m=\u001b[39m \u001b[38;5;28mint\u001b[39m(math\u001b[38;5;241m.\u001b[39mlog2(\u001b[38;5;28mabs\u001b[39m(p)))\n\u001b[1;32m--> 777\u001b[0m result \u001b[38;5;241m=\u001b[39m evalf(base, prec \u001b[38;5;241m+\u001b[39m \u001b[38;5;241m5\u001b[39m, options)\n\u001b[0;32m    778\u001b[0m \u001b[38;5;28;01mif\u001b[39;00m result \u001b[38;5;129;01mis\u001b[39;00m S\u001b[38;5;241m.\u001b[39mComplexInfinity:\n\u001b[0;32m    779\u001b[0m     \u001b[38;5;28;01mif\u001b[39;00m p \u001b[38;5;241m<\u001b[39m \u001b[38;5;241m0\u001b[39m:\n",
      "File \u001b[1;32mc:\\Users\\Ruslan\\.conda\\envs\\learning_env\\Lib\\site-packages\\sympy\\core\\evalf.py:1483\u001b[0m, in \u001b[0;36mevalf\u001b[1;34m(x, prec, options)\u001b[0m\n\u001b[0;32m   1481\u001b[0m \u001b[38;5;28;01mtry\u001b[39;00m:\n\u001b[0;32m   1482\u001b[0m     rf \u001b[38;5;241m=\u001b[39m evalf_table[\u001b[38;5;28mtype\u001b[39m(x)]\n\u001b[1;32m-> 1483\u001b[0m     r \u001b[38;5;241m=\u001b[39m rf(x, prec, options)\n\u001b[0;32m   1484\u001b[0m \u001b[38;5;28;01mexcept\u001b[39;00m \u001b[38;5;167;01mKeyError\u001b[39;00m:\n\u001b[0;32m   1485\u001b[0m     \u001b[38;5;66;03m# Fall back to ordinary evalf if possible\u001b[39;00m\n\u001b[0;32m   1486\u001b[0m     \u001b[38;5;28;01mif\u001b[39;00m \u001b[38;5;124m'\u001b[39m\u001b[38;5;124msubs\u001b[39m\u001b[38;5;124m'\u001b[39m \u001b[38;5;129;01min\u001b[39;00m options:\n",
      "File \u001b[1;32mc:\\Users\\Ruslan\\.conda\\envs\\learning_env\\Lib\\site-packages\\sympy\\core\\evalf.py:601\u001b[0m, in \u001b[0;36mevalf_add\u001b[1;34m(v, prec, options)\u001b[0m\n\u001b[0;32m    598\u001b[0m \u001b[38;5;28;01mwhile\u001b[39;00m \u001b[38;5;241m1\u001b[39m:\n\u001b[0;32m    599\u001b[0m     options[\u001b[38;5;124m'\u001b[39m\u001b[38;5;124mmaxprec\u001b[39m\u001b[38;5;124m'\u001b[39m] \u001b[38;5;241m=\u001b[39m \u001b[38;5;28mmin\u001b[39m(oldmaxprec, \u001b[38;5;241m2\u001b[39m\u001b[38;5;241m*\u001b[39mprec)\n\u001b[1;32m--> 601\u001b[0m     terms \u001b[38;5;241m=\u001b[39m [evalf(arg, prec \u001b[38;5;241m+\u001b[39m \u001b[38;5;241m10\u001b[39m, options) \u001b[38;5;28;01mfor\u001b[39;00m arg \u001b[38;5;129;01min\u001b[39;00m v\u001b[38;5;241m.\u001b[39margs]\n\u001b[0;32m    602\u001b[0m     n \u001b[38;5;241m=\u001b[39m terms\u001b[38;5;241m.\u001b[39mcount(S\u001b[38;5;241m.\u001b[39mComplexInfinity)\n\u001b[0;32m    603\u001b[0m     \u001b[38;5;28;01mif\u001b[39;00m n \u001b[38;5;241m>\u001b[39m\u001b[38;5;241m=\u001b[39m \u001b[38;5;241m2\u001b[39m:\n",
      "File \u001b[1;32mc:\\Users\\Ruslan\\.conda\\envs\\learning_env\\Lib\\site-packages\\sympy\\core\\evalf.py:601\u001b[0m, in \u001b[0;36m<listcomp>\u001b[1;34m(.0)\u001b[0m\n\u001b[0;32m    598\u001b[0m \u001b[38;5;28;01mwhile\u001b[39;00m \u001b[38;5;241m1\u001b[39m:\n\u001b[0;32m    599\u001b[0m     options[\u001b[38;5;124m'\u001b[39m\u001b[38;5;124mmaxprec\u001b[39m\u001b[38;5;124m'\u001b[39m] \u001b[38;5;241m=\u001b[39m \u001b[38;5;28mmin\u001b[39m(oldmaxprec, \u001b[38;5;241m2\u001b[39m\u001b[38;5;241m*\u001b[39mprec)\n\u001b[1;32m--> 601\u001b[0m     terms \u001b[38;5;241m=\u001b[39m [evalf(arg, prec \u001b[38;5;241m+\u001b[39m \u001b[38;5;241m10\u001b[39m, options) \u001b[38;5;28;01mfor\u001b[39;00m arg \u001b[38;5;129;01min\u001b[39;00m v\u001b[38;5;241m.\u001b[39margs]\n\u001b[0;32m    602\u001b[0m     n \u001b[38;5;241m=\u001b[39m terms\u001b[38;5;241m.\u001b[39mcount(S\u001b[38;5;241m.\u001b[39mComplexInfinity)\n\u001b[0;32m    603\u001b[0m     \u001b[38;5;28;01mif\u001b[39;00m n \u001b[38;5;241m>\u001b[39m\u001b[38;5;241m=\u001b[39m \u001b[38;5;241m2\u001b[39m:\n",
      "File \u001b[1;32mc:\\Users\\Ruslan\\.conda\\envs\\learning_env\\Lib\\site-packages\\sympy\\core\\evalf.py:1483\u001b[0m, in \u001b[0;36mevalf\u001b[1;34m(x, prec, options)\u001b[0m\n\u001b[0;32m   1481\u001b[0m \u001b[38;5;28;01mtry\u001b[39;00m:\n\u001b[0;32m   1482\u001b[0m     rf \u001b[38;5;241m=\u001b[39m evalf_table[\u001b[38;5;28mtype\u001b[39m(x)]\n\u001b[1;32m-> 1483\u001b[0m     r \u001b[38;5;241m=\u001b[39m rf(x, prec, options)\n\u001b[0;32m   1484\u001b[0m \u001b[38;5;28;01mexcept\u001b[39;00m \u001b[38;5;167;01mKeyError\u001b[39;00m:\n\u001b[0;32m   1485\u001b[0m     \u001b[38;5;66;03m# Fall back to ordinary evalf if possible\u001b[39;00m\n\u001b[0;32m   1486\u001b[0m     \u001b[38;5;28;01mif\u001b[39;00m \u001b[38;5;124m'\u001b[39m\u001b[38;5;124msubs\u001b[39m\u001b[38;5;124m'\u001b[39m \u001b[38;5;129;01min\u001b[39;00m options:\n",
      "File \u001b[1;32mc:\\Users\\Ruslan\\.conda\\envs\\learning_env\\Lib\\site-packages\\sympy\\core\\evalf.py:777\u001b[0m, in \u001b[0;36mevalf_pow\u001b[1;34m(v, prec, options)\u001b[0m\n\u001b[0;32m    774\u001b[0m \u001b[38;5;66;03m# Exponentiation by p magnifies relative error by |p|, so the\u001b[39;00m\n\u001b[0;32m    775\u001b[0m \u001b[38;5;66;03m# base must be evaluated with increased precision if p is large\u001b[39;00m\n\u001b[0;32m    776\u001b[0m prec \u001b[38;5;241m+\u001b[39m\u001b[38;5;241m=\u001b[39m \u001b[38;5;28mint\u001b[39m(math\u001b[38;5;241m.\u001b[39mlog2(\u001b[38;5;28mabs\u001b[39m(p)))\n\u001b[1;32m--> 777\u001b[0m result \u001b[38;5;241m=\u001b[39m evalf(base, prec \u001b[38;5;241m+\u001b[39m \u001b[38;5;241m5\u001b[39m, options)\n\u001b[0;32m    778\u001b[0m \u001b[38;5;28;01mif\u001b[39;00m result \u001b[38;5;129;01mis\u001b[39;00m S\u001b[38;5;241m.\u001b[39mComplexInfinity:\n\u001b[0;32m    779\u001b[0m     \u001b[38;5;28;01mif\u001b[39;00m p \u001b[38;5;241m<\u001b[39m \u001b[38;5;241m0\u001b[39m:\n",
      "File \u001b[1;32mc:\\Users\\Ruslan\\.conda\\envs\\learning_env\\Lib\\site-packages\\sympy\\core\\evalf.py:1488\u001b[0m, in \u001b[0;36mevalf\u001b[1;34m(x, prec, options)\u001b[0m\n\u001b[0;32m   1486\u001b[0m \u001b[38;5;28;01mif\u001b[39;00m \u001b[38;5;124m'\u001b[39m\u001b[38;5;124msubs\u001b[39m\u001b[38;5;124m'\u001b[39m \u001b[38;5;129;01min\u001b[39;00m options:\n\u001b[0;32m   1487\u001b[0m     x \u001b[38;5;241m=\u001b[39m x\u001b[38;5;241m.\u001b[39msubs(evalf_subs(prec, options[\u001b[38;5;124m'\u001b[39m\u001b[38;5;124msubs\u001b[39m\u001b[38;5;124m'\u001b[39m]))\n\u001b[1;32m-> 1488\u001b[0m xe \u001b[38;5;241m=\u001b[39m x\u001b[38;5;241m.\u001b[39m_eval_evalf(prec)\n\u001b[0;32m   1489\u001b[0m \u001b[38;5;28;01mif\u001b[39;00m xe \u001b[38;5;129;01mis\u001b[39;00m \u001b[38;5;28;01mNone\u001b[39;00m:\n\u001b[0;32m   1490\u001b[0m     \u001b[38;5;28;01mraise\u001b[39;00m \u001b[38;5;167;01mNotImplementedError\u001b[39;00m\n",
      "File \u001b[1;32mc:\\Users\\Ruslan\\.conda\\envs\\learning_env\\Lib\\site-packages\\sympy\\polys\\rootoftools.py:922\u001b[0m, in \u001b[0;36mComplexRootOf._eval_evalf\u001b[1;34m(self, prec, **kwargs)\u001b[0m\n\u001b[0;32m    920\u001b[0m \u001b[38;5;250m\u001b[39m\u001b[38;5;124;03m\"\"\"Evaluate this complex root to the given precision.\"\"\"\u001b[39;00m\n\u001b[0;32m    921\u001b[0m \u001b[38;5;66;03m# all kwargs are ignored\u001b[39;00m\n\u001b[1;32m--> 922\u001b[0m \u001b[38;5;28;01mreturn\u001b[39;00m \u001b[38;5;28mself\u001b[39m\u001b[38;5;241m.\u001b[39meval_rational(n\u001b[38;5;241m=\u001b[39mprec_to_dps(prec))\u001b[38;5;241m.\u001b[39m_evalf(prec)\n",
      "File \u001b[1;32mc:\\Users\\Ruslan\\.conda\\envs\\learning_env\\Lib\\site-packages\\sympy\\polys\\rootoftools.py:993\u001b[0m, in \u001b[0;36mComplexRootOf.eval_rational\u001b[1;34m(self, dx, dy, n)\u001b[0m\n\u001b[0;32m    991\u001b[0m     dx \u001b[38;5;241m=\u001b[39m \u001b[38;5;28mabs\u001b[39m(interval\u001b[38;5;241m.\u001b[39mcenter[\u001b[38;5;241m0\u001b[39m]\u001b[38;5;241m*\u001b[39mrtol)\n\u001b[0;32m    992\u001b[0m     dy \u001b[38;5;241m=\u001b[39m \u001b[38;5;28mabs\u001b[39m(interval\u001b[38;5;241m.\u001b[39mcenter[\u001b[38;5;241m1\u001b[39m]\u001b[38;5;241m*\u001b[39mrtol)\n\u001b[1;32m--> 993\u001b[0m interval \u001b[38;5;241m=\u001b[39m interval\u001b[38;5;241m.\u001b[39mrefine_size(dx, dy)\n\u001b[0;32m    994\u001b[0m c \u001b[38;5;241m=\u001b[39m interval\u001b[38;5;241m.\u001b[39mcenter\n\u001b[0;32m    995\u001b[0m real, imag \u001b[38;5;241m=\u001b[39m \u001b[38;5;28mmap\u001b[39m(Rational, c)\n",
      "File \u001b[1;32mc:\\Users\\Ruslan\\.conda\\envs\\learning_env\\Lib\\site-packages\\sympy\\polys\\rootisolation.py:2182\u001b[0m, in \u001b[0;36mComplexInterval.refine_size\u001b[1;34m(self, dx, dy)\u001b[0m\n\u001b[0;32m   2180\u001b[0m expr \u001b[38;5;241m=\u001b[39m \u001b[38;5;28mself\u001b[39m\n\u001b[0;32m   2181\u001b[0m \u001b[38;5;28;01mwhile\u001b[39;00m \u001b[38;5;129;01mnot\u001b[39;00m (expr\u001b[38;5;241m.\u001b[39mdx \u001b[38;5;241m<\u001b[39m dx \u001b[38;5;129;01mand\u001b[39;00m expr\u001b[38;5;241m.\u001b[39mdy \u001b[38;5;241m<\u001b[39m dy):\n\u001b[1;32m-> 2182\u001b[0m     expr \u001b[38;5;241m=\u001b[39m expr\u001b[38;5;241m.\u001b[39m_inner_refine()\n\u001b[0;32m   2184\u001b[0m \u001b[38;5;28;01mreturn\u001b[39;00m expr\n",
      "File \u001b[1;32mc:\\Users\\Ruslan\\.conda\\envs\\learning_env\\Lib\\site-packages\\sympy\\polys\\rootisolation.py:2152\u001b[0m, in \u001b[0;36mComplexInterval._inner_refine\u001b[1;34m(self)\u001b[0m\n\u001b[0;32m   2149\u001b[0m dom \u001b[38;5;241m=\u001b[39m \u001b[38;5;28mself\u001b[39m\u001b[38;5;241m.\u001b[39mdom\n\u001b[0;32m   2151\u001b[0m \u001b[38;5;28;01mif\u001b[39;00m s \u001b[38;5;241m-\u001b[39m u \u001b[38;5;241m>\u001b[39m t \u001b[38;5;241m-\u001b[39m v:\n\u001b[1;32m-> 2152\u001b[0m     D_L, D_R \u001b[38;5;241m=\u001b[39m _vertical_bisection(\u001b[38;5;241m1\u001b[39m, (u, v), (s, t), I, Q, F1, F2, f1, f2, dom)\n\u001b[0;32m   2154\u001b[0m     \u001b[38;5;28;01mif\u001b[39;00m D_L[\u001b[38;5;241m0\u001b[39m] \u001b[38;5;241m==\u001b[39m \u001b[38;5;241m1\u001b[39m:\n\u001b[0;32m   2155\u001b[0m         _, a, b, I, Q, F1, F2 \u001b[38;5;241m=\u001b[39m D_L\n",
      "File \u001b[1;32mc:\\Users\\Ruslan\\.conda\\envs\\learning_env\\Lib\\site-packages\\sympy\\polys\\rootisolation.py:1365\u001b[0m, in \u001b[0;36m_vertical_bisection\u001b[1;34m(N, a, b, I, Q, F1, F2, f1, f2, F)\u001b[0m\n\u001b[0;32m   1362\u001b[0m f1V \u001b[38;5;241m=\u001b[39m dmp_eval_in(f1, x, \u001b[38;5;241m0\u001b[39m, \u001b[38;5;241m1\u001b[39m, F)\n\u001b[0;32m   1363\u001b[0m f2V \u001b[38;5;241m=\u001b[39m dmp_eval_in(f2, x, \u001b[38;5;241m0\u001b[39m, \u001b[38;5;241m1\u001b[39m, F)\n\u001b[1;32m-> 1365\u001b[0m I_V \u001b[38;5;241m=\u001b[39m dup_isolate_real_roots_list([f1V, f2V], F, inf\u001b[38;5;241m=\u001b[39mv, sup\u001b[38;5;241m=\u001b[39mt, fast\u001b[38;5;241m=\u001b[39m\u001b[38;5;28;01mTrue\u001b[39;00m, strict\u001b[38;5;241m=\u001b[39m\u001b[38;5;28;01mTrue\u001b[39;00m, basis\u001b[38;5;241m=\u001b[39m\u001b[38;5;28;01mTrue\u001b[39;00m)\n\u001b[0;32m   1367\u001b[0m I_L1_L, I_L1_R \u001b[38;5;241m=\u001b[39m [], []\n\u001b[0;32m   1368\u001b[0m I_L2_L, I_L2_R \u001b[38;5;241m=\u001b[39m I_V, I_L2\n",
      "File \u001b[1;32mc:\\Users\\Ruslan\\.conda\\envs\\learning_env\\Lib\\site-packages\\sympy\\polys\\rootisolation.py:680\u001b[0m, in \u001b[0;36mdup_isolate_real_roots_list\u001b[1;34m(polys, K, eps, inf, sup, strict, basis, fast)\u001b[0m\n\u001b[0;32m    677\u001b[0m \u001b[38;5;28;01mfor\u001b[39;00m f, indices \u001b[38;5;129;01min\u001b[39;00m factors_dict\u001b[38;5;241m.\u001b[39mitems():\n\u001b[0;32m    678\u001b[0m     factors_list\u001b[38;5;241m.\u001b[39mappend((\u001b[38;5;28mlist\u001b[39m(f), indices))\n\u001b[1;32m--> 680\u001b[0m I_neg, I_pos \u001b[38;5;241m=\u001b[39m _real_isolate_and_disjoin(factors_list, K, eps\u001b[38;5;241m=\u001b[39meps,\n\u001b[0;32m    681\u001b[0m     inf\u001b[38;5;241m=\u001b[39minf, sup\u001b[38;5;241m=\u001b[39msup, strict\u001b[38;5;241m=\u001b[39mstrict, basis\u001b[38;5;241m=\u001b[39mbasis, fast\u001b[38;5;241m=\u001b[39mfast)\n\u001b[0;32m    683\u001b[0m F \u001b[38;5;241m=\u001b[39m K\u001b[38;5;241m.\u001b[39mget_field()\n\u001b[0;32m    685\u001b[0m \u001b[38;5;28;01mif\u001b[39;00m \u001b[38;5;129;01mnot\u001b[39;00m zeros \u001b[38;5;129;01mor\u001b[39;00m \u001b[38;5;129;01mnot\u001b[39;00m zero_indices:\n",
      "File \u001b[1;32mc:\\Users\\Ruslan\\.conda\\envs\\learning_env\\Lib\\site-packages\\sympy\\polys\\rootisolation.py:722\u001b[0m, in \u001b[0;36m_real_isolate_and_disjoin\u001b[1;34m(factors, K, eps, inf, sup, strict, basis, fast)\u001b[0m\n\u001b[0;32m    719\u001b[0m I_pos, I_neg \u001b[38;5;241m=\u001b[39m [], []\n\u001b[0;32m    721\u001b[0m \u001b[38;5;28;01mfor\u001b[39;00m i, (f, k) \u001b[38;5;129;01min\u001b[39;00m \u001b[38;5;28menumerate\u001b[39m(factors):\n\u001b[1;32m--> 722\u001b[0m     \u001b[38;5;28;01mfor\u001b[39;00m F, M \u001b[38;5;129;01min\u001b[39;00m dup_inner_isolate_positive_roots(f, K, eps\u001b[38;5;241m=\u001b[39meps, inf\u001b[38;5;241m=\u001b[39minf, sup\u001b[38;5;241m=\u001b[39msup, fast\u001b[38;5;241m=\u001b[39mfast, mobius\u001b[38;5;241m=\u001b[39m\u001b[38;5;28;01mTrue\u001b[39;00m):\n\u001b[0;32m    723\u001b[0m         I_pos\u001b[38;5;241m.\u001b[39mappend((F, M, k, f))\n\u001b[0;32m    725\u001b[0m     \u001b[38;5;28;01mfor\u001b[39;00m G, N \u001b[38;5;129;01min\u001b[39;00m dup_inner_isolate_negative_roots(f, K, eps\u001b[38;5;241m=\u001b[39meps, inf\u001b[38;5;241m=\u001b[39minf, sup\u001b[38;5;241m=\u001b[39msup, fast\u001b[38;5;241m=\u001b[39mfast, mobius\u001b[38;5;241m=\u001b[39m\u001b[38;5;28;01mTrue\u001b[39;00m):\n",
      "File \u001b[1;32mc:\\Users\\Ruslan\\.conda\\envs\\learning_env\\Lib\\site-packages\\sympy\\polys\\rootisolation.py:503\u001b[0m, in \u001b[0;36mdup_inner_isolate_positive_roots\u001b[1;34m(f, K, eps, inf, sup, fast, mobius)\u001b[0m\n\u001b[0;32m    501\u001b[0m \u001b[38;5;28;01mif\u001b[39;00m inf \u001b[38;5;129;01mis\u001b[39;00m \u001b[38;5;129;01mnot\u001b[39;00m \u001b[38;5;28;01mNone\u001b[39;00m \u001b[38;5;129;01mor\u001b[39;00m sup \u001b[38;5;129;01mis\u001b[39;00m \u001b[38;5;129;01mnot\u001b[39;00m \u001b[38;5;28;01mNone\u001b[39;00m:\n\u001b[0;32m    502\u001b[0m     \u001b[38;5;28;01mfor\u001b[39;00m f, M \u001b[38;5;129;01min\u001b[39;00m roots:\n\u001b[1;32m--> 503\u001b[0m         result \u001b[38;5;241m=\u001b[39m _discard_if_outside_interval(f, M, inf, sup, K, \u001b[38;5;28;01mFalse\u001b[39;00m, fast, mobius)\n\u001b[0;32m    505\u001b[0m         \u001b[38;5;28;01mif\u001b[39;00m result \u001b[38;5;129;01mis\u001b[39;00m \u001b[38;5;129;01mnot\u001b[39;00m \u001b[38;5;28;01mNone\u001b[39;00m:\n\u001b[0;32m    506\u001b[0m             results\u001b[38;5;241m.\u001b[39mappend(result)\n",
      "File \u001b[1;32mc:\\Users\\Ruslan\\.conda\\envs\\learning_env\\Lib\\site-packages\\sympy\\polys\\rootisolation.py:490\u001b[0m, in \u001b[0;36m_discard_if_outside_interval\u001b[1;34m(f, M, inf, sup, K, negative, fast, mobius)\u001b[0m\n\u001b[0;32m    488\u001b[0m     \u001b[38;5;28;01mreturn\u001b[39;00m \u001b[38;5;28;01mNone\u001b[39;00m\n\u001b[0;32m    489\u001b[0m \u001b[38;5;28;01melse\u001b[39;00m:\n\u001b[1;32m--> 490\u001b[0m     f, M \u001b[38;5;241m=\u001b[39m dup_step_refine_real_root(f, M, K, fast\u001b[38;5;241m=\u001b[39mfast)\n",
      "File \u001b[1;32mc:\\Users\\Ruslan\\.conda\\envs\\learning_env\\Lib\\site-packages\\sympy\\polys\\rootisolation.py:230\u001b[0m, in \u001b[0;36mdup_step_refine_real_root\u001b[1;34m(f, M, K, fast)\u001b[0m\n\u001b[0;32m    227\u001b[0m \u001b[38;5;28;01mif\u001b[39;00m a \u001b[38;5;241m==\u001b[39m b \u001b[38;5;129;01mand\u001b[39;00m c \u001b[38;5;241m==\u001b[39m d:\n\u001b[0;32m    228\u001b[0m     \u001b[38;5;28;01mreturn\u001b[39;00m f, (a, b, c, d)\n\u001b[1;32m--> 230\u001b[0m A \u001b[38;5;241m=\u001b[39m dup_root_lower_bound(f, K)\n\u001b[0;32m    232\u001b[0m \u001b[38;5;28;01mif\u001b[39;00m A \u001b[38;5;129;01mis\u001b[39;00m \u001b[38;5;129;01mnot\u001b[39;00m \u001b[38;5;28;01mNone\u001b[39;00m:\n\u001b[0;32m    233\u001b[0m     A \u001b[38;5;241m=\u001b[39m K(\u001b[38;5;28mint\u001b[39m(A))\n",
      "File \u001b[1;32mc:\\Users\\Ruslan\\.conda\\envs\\learning_env\\Lib\\site-packages\\sympy\\polys\\rootisolation.py:124\u001b[0m, in \u001b[0;36mdup_root_lower_bound\u001b[1;34m(f, K)\u001b[0m\n\u001b[0;32m    114\u001b[0m \u001b[38;5;28;01mdef\u001b[39;00m \u001b[38;5;21mdup_root_lower_bound\u001b[39m(f, K):\n\u001b[0;32m    115\u001b[0m \u001b[38;5;250m    \u001b[39m\u001b[38;5;124;03m\"\"\"Compute the LMQ lower bound for the positive roots of `f`;\u001b[39;00m\n\u001b[0;32m    116\u001b[0m \u001b[38;5;124;03m       LMQ (Local Max Quadratic) was developed by Akritas-Strzebonski-Vigklas.\u001b[39;00m\n\u001b[0;32m    117\u001b[0m \n\u001b[1;32m   (...)\u001b[0m\n\u001b[0;32m    122\u001b[0m \u001b[38;5;124;03m              Journal of Universal Computer Science, Vol. 15, No. 3, 523-537, 2009.\u001b[39;00m\n\u001b[0;32m    123\u001b[0m \u001b[38;5;124;03m    \"\"\"\u001b[39;00m\n\u001b[1;32m--> 124\u001b[0m     bound \u001b[38;5;241m=\u001b[39m dup_root_upper_bound(dup_reverse(f), K)\n\u001b[0;32m    126\u001b[0m     \u001b[38;5;28;01mif\u001b[39;00m bound \u001b[38;5;129;01mis\u001b[39;00m \u001b[38;5;129;01mnot\u001b[39;00m \u001b[38;5;28;01mNone\u001b[39;00m:\n\u001b[0;32m    127\u001b[0m         \u001b[38;5;28;01mreturn\u001b[39;00m \u001b[38;5;241m1\u001b[39m\u001b[38;5;241m/\u001b[39mbound\n",
      "File \u001b[1;32mc:\\Users\\Ruslan\\.conda\\envs\\learning_env\\Lib\\site-packages\\sympy\\polys\\rootisolation.py:112\u001b[0m, in \u001b[0;36mdup_root_upper_bound\u001b[1;34m(f, K)\u001b[0m\n\u001b[0;32m    110\u001b[0m     \u001b[38;5;28;01mreturn\u001b[39;00m \u001b[38;5;28;01mNone\u001b[39;00m\n\u001b[0;32m    111\u001b[0m \u001b[38;5;28;01melse\u001b[39;00m:\n\u001b[1;32m--> 112\u001b[0m     \u001b[38;5;28;01mreturn\u001b[39;00m K\u001b[38;5;241m.\u001b[39mget_field()(\u001b[38;5;241m2\u001b[39m)\u001b[38;5;241m*\u001b[39m\u001b[38;5;241m*\u001b[39m(\u001b[38;5;28mmax\u001b[39m(P) \u001b[38;5;241m+\u001b[39m \u001b[38;5;241m1\u001b[39m)\n",
      "File \u001b[1;32mc:\\Users\\Ruslan\\.conda\\envs\\learning_env\\Lib\\site-packages\\sympy\\polys\\domains\\domain.py:381\u001b[0m, in \u001b[0;36mDomain.__call__\u001b[1;34m(self, *args)\u001b[0m\n\u001b[0;32m    379\u001b[0m \u001b[38;5;28;01mdef\u001b[39;00m \u001b[38;5;21m__call__\u001b[39m(\u001b[38;5;28mself\u001b[39m, \u001b[38;5;241m*\u001b[39margs):\n\u001b[0;32m    380\u001b[0m \u001b[38;5;250m    \u001b[39m\u001b[38;5;124;03m\"\"\"Construct an element of ``self`` domain from ``args``. \"\"\"\u001b[39;00m\n\u001b[1;32m--> 381\u001b[0m     \u001b[38;5;28;01mreturn\u001b[39;00m \u001b[38;5;28mself\u001b[39m\u001b[38;5;241m.\u001b[39mnew(\u001b[38;5;241m*\u001b[39margs)\n",
      "\u001b[1;31mKeyboardInterrupt\u001b[0m: "
     ]
    }
   ],
   "source": [
    "sp.solve(M_0 - sp.sqrt(1), k)"
   ]
  },
  {
   "cell_type": "code",
   "execution_count": 15,
   "metadata": {},
   "outputs": [
    {
     "data": {
      "text/latex": [
       "$\\displaystyle \\frac{11 k^{7} + 32 k^{6} + 27 k^{5} - 5 k^{3} + k}{3 k^{6} + 9 k^{4} + 9 k^{2} + 3}$"
      ],
      "text/plain": [
       "(11*k**7 + 32*k**6 + 27*k**5 - 5*k**3 + k)/(3*k**6 + 9*k**4 + 9*k**2 + 3)"
      ]
     },
     "execution_count": 15,
     "metadata": {},
     "output_type": "execute_result"
    }
   ],
   "source": [
    "var_0 = var.subs(f, 0)\n",
    "var_0"
   ]
  },
  {
   "cell_type": "code",
   "execution_count": null,
   "metadata": {},
   "outputs": [
    {
     "data": {
      "text/latex": [
       "$\\displaystyle \\emptyset$"
      ],
      "text/plain": [
       "EmptySet"
      ]
     },
     "execution_count": 35,
     "metadata": {},
     "output_type": "execute_result"
    }
   ],
   "source": [
    "solve = sp.nonlinsolve([M_0, var_0 - 0.125], k)\n",
    "solve"
   ]
  },
  {
   "cell_type": "code",
   "execution_count": 16,
   "metadata": {},
   "outputs": [
    {
     "ename": "NameError",
     "evalue": "name 'solve' is not defined",
     "output_type": "error",
     "traceback": [
      "\u001b[1;31m---------------------------------------------------------------------------\u001b[0m",
      "\u001b[1;31mNameError\u001b[0m                                 Traceback (most recent call last)",
      "Cell \u001b[1;32mIn[16], line 1\u001b[0m\n\u001b[1;32m----> 1\u001b[0m solve[\u001b[38;5;241m0\u001b[39m][\u001b[38;5;241m0\u001b[39m]\n",
      "\u001b[1;31mNameError\u001b[0m: name 'solve' is not defined"
     ]
    }
   ],
   "source": [
    "solve[0][0]"
   ]
  },
  {
   "cell_type": "code",
   "execution_count": null,
   "metadata": {},
   "outputs": [
    {
     "data": {
      "text/latex": [
       "$\\displaystyle \\frac{3^{\\frac{2}{3}} \\cdot \\left(\\frac{2}{3} + \\frac{\\left(1 - \\sqrt{3} i\\right)^{2} \\left(3 \\sqrt{1293} + 108\\right)^{\\frac{2}{3}}}{18}\\right)}{\\left(1 - \\sqrt{3} i\\right) \\sqrt[3]{\\sqrt{1293} + 36}}$"
      ],
      "text/plain": [
       "3**(2/3)*(2/3 + (1 - sqrt(3)*I)**2*(3*sqrt(1293) + 108)**(2/3)/18)/((1 - sqrt(3)*I)*(sqrt(1293) + 36)**(1/3))"
      ]
     },
     "execution_count": 20,
     "metadata": {},
     "output_type": "execute_result"
    }
   ],
   "source": [
    "solve[1][0]"
   ]
  },
  {
   "cell_type": "code",
   "execution_count": null,
   "metadata": {},
   "outputs": [
    {
     "data": {
      "text/latex": [
       "$\\displaystyle \\frac{3^{\\frac{2}{3}} \\cdot \\left(\\frac{2}{3} + \\frac{\\left(1 + \\sqrt{3} i\\right)^{2} \\left(3 \\sqrt{1293} + 108\\right)^{\\frac{2}{3}}}{18}\\right)}{\\left(1 + \\sqrt{3} i\\right) \\sqrt[3]{\\sqrt{1293} + 36}}$"
      ],
      "text/plain": [
       "3**(2/3)*(2/3 + (1 + sqrt(3)*I)**2*(3*sqrt(1293) + 108)**(2/3)/18)/((1 + sqrt(3)*I)*(sqrt(1293) + 36)**(1/3))"
      ]
     },
     "execution_count": 21,
     "metadata": {},
     "output_type": "execute_result"
    }
   ],
   "source": [
    "solve[2][0]"
   ]
  },
  {
   "cell_type": "code",
   "execution_count": 17,
   "metadata": {},
   "outputs": [
    {
     "name": "stdout",
     "output_type": "stream",
     "text": [
      "Interval.open(0, oo)\n"
     ]
    },
    {
     "data": {
      "text/latex": [
       "$\\displaystyle \\left(0, \\infty\\right)$"
      ],
      "text/plain": [
       "Interval.open(0, oo)"
      ]
     },
     "execution_count": 17,
     "metadata": {},
     "output_type": "execute_result"
    }
   ],
   "source": [
    "var_0_domain = sp.solveset(var_0>0, k, domain=sp.S.Reals)\n",
    "print(var_0_domain)\n",
    "var_0_domain"
   ]
  },
  {
   "cell_type": "code",
   "execution_count": 18,
   "metadata": {},
   "outputs": [
    {
     "ename": "KeyboardInterrupt",
     "evalue": "",
     "output_type": "error",
     "traceback": [
      "\u001b[1;31m---------------------------------------------------------------------------\u001b[0m",
      "\u001b[1;31mKeyboardInterrupt\u001b[0m                         Traceback (most recent call last)",
      "Cell \u001b[1;32mIn[18], line 1\u001b[0m\n\u001b[1;32m----> 1\u001b[0m M_0_domain \u001b[38;5;241m=\u001b[39m sp\u001b[38;5;241m.\u001b[39msolve([M_0], [k], domain\u001b[38;5;241m=\u001b[39msp\u001b[38;5;241m.\u001b[39mS\u001b[38;5;241m.\u001b[39mReals)\n\u001b[0;32m      2\u001b[0m \u001b[38;5;28mprint\u001b[39m(M_0_domain)\n\u001b[0;32m      3\u001b[0m M_0_domain\n",
      "File \u001b[1;32mc:\\Users\\Ruslan\\.conda\\envs\\learning_env\\Lib\\site-packages\\sympy\\solvers\\solvers.py:1172\u001b[0m, in \u001b[0;36msolve\u001b[1;34m(f, *symbols, **flags)\u001b[0m\n\u001b[0;32m   1170\u001b[0m         solution \u001b[38;5;241m=\u001b[39m _solve(f[\u001b[38;5;241m0\u001b[39m], \u001b[38;5;241m*\u001b[39msymbols, \u001b[38;5;241m*\u001b[39m\u001b[38;5;241m*\u001b[39mflags)\n\u001b[0;32m   1171\u001b[0m \u001b[38;5;28;01melse\u001b[39;00m:\n\u001b[1;32m-> 1172\u001b[0m     linear, solution \u001b[38;5;241m=\u001b[39m _solve_system(f, symbols, \u001b[38;5;241m*\u001b[39m\u001b[38;5;241m*\u001b[39mflags)\n\u001b[0;32m   1173\u001b[0m \u001b[38;5;28;01massert\u001b[39;00m \u001b[38;5;28mtype\u001b[39m(solution) \u001b[38;5;129;01mis\u001b[39;00m \u001b[38;5;28mlist\u001b[39m\n\u001b[0;32m   1174\u001b[0m \u001b[38;5;28;01massert\u001b[39;00m \u001b[38;5;129;01mnot\u001b[39;00m solution \u001b[38;5;129;01mor\u001b[39;00m \u001b[38;5;28mtype\u001b[39m(solution[\u001b[38;5;241m0\u001b[39m]) \u001b[38;5;129;01mis\u001b[39;00m \u001b[38;5;28mdict\u001b[39m, solution\n",
      "File \u001b[1;32mc:\\Users\\Ruslan\\.conda\\envs\\learning_env\\Lib\\site-packages\\sympy\\solvers\\solvers.py:1970\u001b[0m, in \u001b[0;36m_solve_system\u001b[1;34m(exprs, symbols, **flags)\u001b[0m\n\u001b[0;32m   1968\u001b[0m \u001b[38;5;28;01mfor\u001b[39;00m s \u001b[38;5;129;01min\u001b[39;00m ok_syms:\n\u001b[0;32m   1969\u001b[0m     \u001b[38;5;28;01mtry\u001b[39;00m:\n\u001b[1;32m-> 1970\u001b[0m         soln \u001b[38;5;241m=\u001b[39m _vsolve(eq2, s, \u001b[38;5;241m*\u001b[39m\u001b[38;5;241m*\u001b[39mflags)\n\u001b[0;32m   1971\u001b[0m     \u001b[38;5;28;01mexcept\u001b[39;00m \u001b[38;5;167;01mNotImplementedError\u001b[39;00m:\n\u001b[0;32m   1972\u001b[0m         \u001b[38;5;28;01mcontinue\u001b[39;00m\n",
      "File \u001b[1;32mc:\\Users\\Ruslan\\.conda\\envs\\learning_env\\Lib\\site-packages\\sympy\\solvers\\solvers.py:2642\u001b[0m, in \u001b[0;36m_vsolve\u001b[1;34m(e, s, **flags)\u001b[0m\n\u001b[0;32m   2640\u001b[0m \u001b[38;5;28;01mdef\u001b[39;00m \u001b[38;5;21m_vsolve\u001b[39m(e, s, \u001b[38;5;241m*\u001b[39m\u001b[38;5;241m*\u001b[39mflags):\n\u001b[0;32m   2641\u001b[0m \u001b[38;5;250m    \u001b[39m\u001b[38;5;124;03m\"\"\"return list of scalar values for the solution of e for symbol s\"\"\"\u001b[39;00m\n\u001b[1;32m-> 2642\u001b[0m     \u001b[38;5;28;01mreturn\u001b[39;00m [i[s] \u001b[38;5;28;01mfor\u001b[39;00m i \u001b[38;5;129;01min\u001b[39;00m _solve(e, s, \u001b[38;5;241m*\u001b[39m\u001b[38;5;241m*\u001b[39mflags)]\n",
      "File \u001b[1;32mc:\\Users\\Ruslan\\.conda\\envs\\learning_env\\Lib\\site-packages\\sympy\\solvers\\solvers.py:1399\u001b[0m, in \u001b[0;36m_solve\u001b[1;34m(f, *symbols, **flags)\u001b[0m\n\u001b[0;32m   1397\u001b[0m         result \u001b[38;5;241m=\u001b[39m \u001b[38;5;28mset\u001b[39m()\n\u001b[0;32m   1398\u001b[0m         \u001b[38;5;28;01mbreak\u001b[39;00m\n\u001b[1;32m-> 1399\u001b[0m     soln \u001b[38;5;241m=\u001b[39m _vsolve(m, symbol, \u001b[38;5;241m*\u001b[39m\u001b[38;5;241m*\u001b[39mflags)\n\u001b[0;32m   1400\u001b[0m     result\u001b[38;5;241m.\u001b[39mupdate(\u001b[38;5;28mset\u001b[39m(soln))\n\u001b[0;32m   1401\u001b[0m result \u001b[38;5;241m=\u001b[39m [{symbol: v} \u001b[38;5;28;01mfor\u001b[39;00m v \u001b[38;5;129;01min\u001b[39;00m result]\n",
      "File \u001b[1;32mc:\\Users\\Ruslan\\.conda\\envs\\learning_env\\Lib\\site-packages\\sympy\\solvers\\solvers.py:2642\u001b[0m, in \u001b[0;36m_vsolve\u001b[1;34m(e, s, **flags)\u001b[0m\n\u001b[0;32m   2640\u001b[0m \u001b[38;5;28;01mdef\u001b[39;00m \u001b[38;5;21m_vsolve\u001b[39m(e, s, \u001b[38;5;241m*\u001b[39m\u001b[38;5;241m*\u001b[39mflags):\n\u001b[0;32m   2641\u001b[0m \u001b[38;5;250m    \u001b[39m\u001b[38;5;124;03m\"\"\"return list of scalar values for the solution of e for symbol s\"\"\"\u001b[39;00m\n\u001b[1;32m-> 2642\u001b[0m     \u001b[38;5;28;01mreturn\u001b[39;00m [i[s] \u001b[38;5;28;01mfor\u001b[39;00m i \u001b[38;5;129;01min\u001b[39;00m _solve(e, s, \u001b[38;5;241m*\u001b[39m\u001b[38;5;241m*\u001b[39mflags)]\n",
      "File \u001b[1;32mc:\\Users\\Ruslan\\.conda\\envs\\learning_env\\Lib\\site-packages\\sympy\\solvers\\solvers.py:1750\u001b[0m, in \u001b[0;36m_solve\u001b[1;34m(f, *symbols, **flags)\u001b[0m\n\u001b[0;32m   1745\u001b[0m     result \u001b[38;5;241m=\u001b[39m [r \u001b[38;5;28;01mfor\u001b[39;00m r \u001b[38;5;129;01min\u001b[39;00m result \u001b[38;5;28;01mif\u001b[39;00m\n\u001b[0;32m   1746\u001b[0m               \u001b[38;5;129;01mnot\u001b[39;00m \u001b[38;5;28many\u001b[39m(checksol(d, r, \u001b[38;5;241m*\u001b[39m\u001b[38;5;241m*\u001b[39mflags)\n\u001b[0;32m   1747\u001b[0m                       \u001b[38;5;28;01mfor\u001b[39;00m d \u001b[38;5;129;01min\u001b[39;00m dens)]\n\u001b[0;32m   1748\u001b[0m \u001b[38;5;28;01mif\u001b[39;00m check:\n\u001b[0;32m   1749\u001b[0m     \u001b[38;5;66;03m# keep only results if the check is not False\u001b[39;00m\n\u001b[1;32m-> 1750\u001b[0m     result \u001b[38;5;241m=\u001b[39m [r \u001b[38;5;28;01mfor\u001b[39;00m r \u001b[38;5;129;01min\u001b[39;00m result \u001b[38;5;28;01mif\u001b[39;00m\n\u001b[0;32m   1751\u001b[0m               checksol(f_num, r, \u001b[38;5;241m*\u001b[39m\u001b[38;5;241m*\u001b[39mflags) \u001b[38;5;129;01mis\u001b[39;00m \u001b[38;5;129;01mnot\u001b[39;00m \u001b[38;5;28;01mFalse\u001b[39;00m]\n\u001b[0;32m   1752\u001b[0m \u001b[38;5;28;01mreturn\u001b[39;00m result\n",
      "File \u001b[1;32mc:\\Users\\Ruslan\\.conda\\envs\\learning_env\\Lib\\site-packages\\sympy\\solvers\\solvers.py:1751\u001b[0m, in \u001b[0;36m<listcomp>\u001b[1;34m(.0)\u001b[0m\n\u001b[0;32m   1745\u001b[0m     result \u001b[38;5;241m=\u001b[39m [r \u001b[38;5;28;01mfor\u001b[39;00m r \u001b[38;5;129;01min\u001b[39;00m result \u001b[38;5;28;01mif\u001b[39;00m\n\u001b[0;32m   1746\u001b[0m               \u001b[38;5;129;01mnot\u001b[39;00m \u001b[38;5;28many\u001b[39m(checksol(d, r, \u001b[38;5;241m*\u001b[39m\u001b[38;5;241m*\u001b[39mflags)\n\u001b[0;32m   1747\u001b[0m                       \u001b[38;5;28;01mfor\u001b[39;00m d \u001b[38;5;129;01min\u001b[39;00m dens)]\n\u001b[0;32m   1748\u001b[0m \u001b[38;5;28;01mif\u001b[39;00m check:\n\u001b[0;32m   1749\u001b[0m     \u001b[38;5;66;03m# keep only results if the check is not False\u001b[39;00m\n\u001b[0;32m   1750\u001b[0m     result \u001b[38;5;241m=\u001b[39m [r \u001b[38;5;28;01mfor\u001b[39;00m r \u001b[38;5;129;01min\u001b[39;00m result \u001b[38;5;28;01mif\u001b[39;00m\n\u001b[1;32m-> 1751\u001b[0m               checksol(f_num, r, \u001b[38;5;241m*\u001b[39m\u001b[38;5;241m*\u001b[39mflags) \u001b[38;5;129;01mis\u001b[39;00m \u001b[38;5;129;01mnot\u001b[39;00m \u001b[38;5;28;01mFalse\u001b[39;00m]\n\u001b[0;32m   1752\u001b[0m \u001b[38;5;28;01mreturn\u001b[39;00m result\n",
      "File \u001b[1;32mc:\\Users\\Ruslan\\.conda\\envs\\learning_env\\Lib\\site-packages\\sympy\\solvers\\solvers.py:362\u001b[0m, in \u001b[0;36mchecksol\u001b[1;34m(f, symbol, sol, **flags)\u001b[0m\n\u001b[0;32m    360\u001b[0m         \u001b[38;5;28;01mreturn\u001b[39;00m val \u001b[38;5;241m==\u001b[39m \u001b[38;5;241m0\u001b[39m\n\u001b[0;32m    361\u001b[0m     \u001b[38;5;28;01mif\u001b[39;00m numerical \u001b[38;5;129;01mand\u001b[39;00m val\u001b[38;5;241m.\u001b[39mis_number:\n\u001b[1;32m--> 362\u001b[0m         \u001b[38;5;28;01mreturn\u001b[39;00m (\u001b[38;5;28mabs\u001b[39m(val\u001b[38;5;241m.\u001b[39mn(\u001b[38;5;241m18\u001b[39m)\u001b[38;5;241m.\u001b[39mn(\u001b[38;5;241m12\u001b[39m, chop\u001b[38;5;241m=\u001b[39m\u001b[38;5;28;01mTrue\u001b[39;00m)) \u001b[38;5;241m<\u001b[39m \u001b[38;5;241m1e-9\u001b[39m) \u001b[38;5;129;01mis\u001b[39;00m S\u001b[38;5;241m.\u001b[39mtrue\n\u001b[0;32m    364\u001b[0m \u001b[38;5;28;01mif\u001b[39;00m flags\u001b[38;5;241m.\u001b[39mget(\u001b[38;5;124m'\u001b[39m\u001b[38;5;124mwarn\u001b[39m\u001b[38;5;124m'\u001b[39m, \u001b[38;5;28;01mFalse\u001b[39;00m):\n\u001b[0;32m    365\u001b[0m     warnings\u001b[38;5;241m.\u001b[39mwarn(\u001b[38;5;124m\"\u001b[39m\u001b[38;5;130;01m\\n\u001b[39;00m\u001b[38;5;130;01m\\t\u001b[39;00m\u001b[38;5;124mWarning: could not verify solution \u001b[39m\u001b[38;5;132;01m%s\u001b[39;00m\u001b[38;5;124m.\u001b[39m\u001b[38;5;124m\"\u001b[39m \u001b[38;5;241m%\u001b[39m sol)\n",
      "File \u001b[1;32mc:\\Users\\Ruslan\\.conda\\envs\\learning_env\\Lib\\site-packages\\sympy\\core\\evalf.py:1648\u001b[0m, in \u001b[0;36mEvalfMixin.evalf\u001b[1;34m(self, n, subs, maxn, chop, strict, quad, verbose)\u001b[0m\n\u001b[0;32m   1646\u001b[0m     options[\u001b[38;5;124m'\u001b[39m\u001b[38;5;124mquad\u001b[39m\u001b[38;5;124m'\u001b[39m] \u001b[38;5;241m=\u001b[39m quad\n\u001b[0;32m   1647\u001b[0m \u001b[38;5;28;01mtry\u001b[39;00m:\n\u001b[1;32m-> 1648\u001b[0m     result \u001b[38;5;241m=\u001b[39m evalf(\u001b[38;5;28mself\u001b[39m, prec \u001b[38;5;241m+\u001b[39m \u001b[38;5;241m4\u001b[39m, options)\n\u001b[0;32m   1649\u001b[0m \u001b[38;5;28;01mexcept\u001b[39;00m \u001b[38;5;167;01mNotImplementedError\u001b[39;00m:\n\u001b[0;32m   1650\u001b[0m     \u001b[38;5;66;03m# Fall back to the ordinary evalf\u001b[39;00m\n\u001b[0;32m   1651\u001b[0m     \u001b[38;5;28;01mif\u001b[39;00m \u001b[38;5;28mhasattr\u001b[39m(\u001b[38;5;28mself\u001b[39m, \u001b[38;5;124m'\u001b[39m\u001b[38;5;124msubs\u001b[39m\u001b[38;5;124m'\u001b[39m) \u001b[38;5;129;01mand\u001b[39;00m subs \u001b[38;5;129;01mis\u001b[39;00m \u001b[38;5;129;01mnot\u001b[39;00m \u001b[38;5;28;01mNone\u001b[39;00m:  \u001b[38;5;66;03m# issue 20291\u001b[39;00m\n",
      "File \u001b[1;32mc:\\Users\\Ruslan\\.conda\\envs\\learning_env\\Lib\\site-packages\\sympy\\core\\evalf.py:1483\u001b[0m, in \u001b[0;36mevalf\u001b[1;34m(x, prec, options)\u001b[0m\n\u001b[0;32m   1481\u001b[0m \u001b[38;5;28;01mtry\u001b[39;00m:\n\u001b[0;32m   1482\u001b[0m     rf \u001b[38;5;241m=\u001b[39m evalf_table[\u001b[38;5;28mtype\u001b[39m(x)]\n\u001b[1;32m-> 1483\u001b[0m     r \u001b[38;5;241m=\u001b[39m rf(x, prec, options)\n\u001b[0;32m   1484\u001b[0m \u001b[38;5;28;01mexcept\u001b[39;00m \u001b[38;5;167;01mKeyError\u001b[39;00m:\n\u001b[0;32m   1485\u001b[0m     \u001b[38;5;66;03m# Fall back to ordinary evalf if possible\u001b[39;00m\n\u001b[0;32m   1486\u001b[0m     \u001b[38;5;28;01mif\u001b[39;00m \u001b[38;5;124m'\u001b[39m\u001b[38;5;124msubs\u001b[39m\u001b[38;5;124m'\u001b[39m \u001b[38;5;129;01min\u001b[39;00m options:\n",
      "File \u001b[1;32mc:\\Users\\Ruslan\\.conda\\envs\\learning_env\\Lib\\site-packages\\sympy\\core\\evalf.py:601\u001b[0m, in \u001b[0;36mevalf_add\u001b[1;34m(v, prec, options)\u001b[0m\n\u001b[0;32m    598\u001b[0m \u001b[38;5;28;01mwhile\u001b[39;00m \u001b[38;5;241m1\u001b[39m:\n\u001b[0;32m    599\u001b[0m     options[\u001b[38;5;124m'\u001b[39m\u001b[38;5;124mmaxprec\u001b[39m\u001b[38;5;124m'\u001b[39m] \u001b[38;5;241m=\u001b[39m \u001b[38;5;28mmin\u001b[39m(oldmaxprec, \u001b[38;5;241m2\u001b[39m\u001b[38;5;241m*\u001b[39mprec)\n\u001b[1;32m--> 601\u001b[0m     terms \u001b[38;5;241m=\u001b[39m [evalf(arg, prec \u001b[38;5;241m+\u001b[39m \u001b[38;5;241m10\u001b[39m, options) \u001b[38;5;28;01mfor\u001b[39;00m arg \u001b[38;5;129;01min\u001b[39;00m v\u001b[38;5;241m.\u001b[39margs]\n\u001b[0;32m    602\u001b[0m     n \u001b[38;5;241m=\u001b[39m terms\u001b[38;5;241m.\u001b[39mcount(S\u001b[38;5;241m.\u001b[39mComplexInfinity)\n\u001b[0;32m    603\u001b[0m     \u001b[38;5;28;01mif\u001b[39;00m n \u001b[38;5;241m>\u001b[39m\u001b[38;5;241m=\u001b[39m \u001b[38;5;241m2\u001b[39m:\n",
      "File \u001b[1;32mc:\\Users\\Ruslan\\.conda\\envs\\learning_env\\Lib\\site-packages\\sympy\\core\\evalf.py:601\u001b[0m, in \u001b[0;36m<listcomp>\u001b[1;34m(.0)\u001b[0m\n\u001b[0;32m    598\u001b[0m \u001b[38;5;28;01mwhile\u001b[39;00m \u001b[38;5;241m1\u001b[39m:\n\u001b[0;32m    599\u001b[0m     options[\u001b[38;5;124m'\u001b[39m\u001b[38;5;124mmaxprec\u001b[39m\u001b[38;5;124m'\u001b[39m] \u001b[38;5;241m=\u001b[39m \u001b[38;5;28mmin\u001b[39m(oldmaxprec, \u001b[38;5;241m2\u001b[39m\u001b[38;5;241m*\u001b[39mprec)\n\u001b[1;32m--> 601\u001b[0m     terms \u001b[38;5;241m=\u001b[39m [evalf(arg, prec \u001b[38;5;241m+\u001b[39m \u001b[38;5;241m10\u001b[39m, options) \u001b[38;5;28;01mfor\u001b[39;00m arg \u001b[38;5;129;01min\u001b[39;00m v\u001b[38;5;241m.\u001b[39margs]\n\u001b[0;32m    602\u001b[0m     n \u001b[38;5;241m=\u001b[39m terms\u001b[38;5;241m.\u001b[39mcount(S\u001b[38;5;241m.\u001b[39mComplexInfinity)\n\u001b[0;32m    603\u001b[0m     \u001b[38;5;28;01mif\u001b[39;00m n \u001b[38;5;241m>\u001b[39m\u001b[38;5;241m=\u001b[39m \u001b[38;5;241m2\u001b[39m:\n",
      "File \u001b[1;32mc:\\Users\\Ruslan\\.conda\\envs\\learning_env\\Lib\\site-packages\\sympy\\core\\evalf.py:1483\u001b[0m, in \u001b[0;36mevalf\u001b[1;34m(x, prec, options)\u001b[0m\n\u001b[0;32m   1481\u001b[0m \u001b[38;5;28;01mtry\u001b[39;00m:\n\u001b[0;32m   1482\u001b[0m     rf \u001b[38;5;241m=\u001b[39m evalf_table[\u001b[38;5;28mtype\u001b[39m(x)]\n\u001b[1;32m-> 1483\u001b[0m     r \u001b[38;5;241m=\u001b[39m rf(x, prec, options)\n\u001b[0;32m   1484\u001b[0m \u001b[38;5;28;01mexcept\u001b[39;00m \u001b[38;5;167;01mKeyError\u001b[39;00m:\n\u001b[0;32m   1485\u001b[0m     \u001b[38;5;66;03m# Fall back to ordinary evalf if possible\u001b[39;00m\n\u001b[0;32m   1486\u001b[0m     \u001b[38;5;28;01mif\u001b[39;00m \u001b[38;5;124m'\u001b[39m\u001b[38;5;124msubs\u001b[39m\u001b[38;5;124m'\u001b[39m \u001b[38;5;129;01min\u001b[39;00m options:\n",
      "File \u001b[1;32mc:\\Users\\Ruslan\\.conda\\envs\\learning_env\\Lib\\site-packages\\sympy\\core\\evalf.py:649\u001b[0m, in \u001b[0;36mevalf_mul\u001b[1;34m(v, prec, options)\u001b[0m\n\u001b[0;32m    647\u001b[0m \u001b[38;5;28;01mfrom\u001b[39;00m \u001b[38;5;21;01m.\u001b[39;00m\u001b[38;5;21;01mnumbers\u001b[39;00m \u001b[38;5;28;01mimport\u001b[39;00m Float\n\u001b[0;32m    648\u001b[0m \u001b[38;5;28;01mfor\u001b[39;00m arg \u001b[38;5;129;01min\u001b[39;00m args:\n\u001b[1;32m--> 649\u001b[0m     result \u001b[38;5;241m=\u001b[39m evalf(arg, prec, options)\n\u001b[0;32m    650\u001b[0m     \u001b[38;5;28;01mif\u001b[39;00m result \u001b[38;5;129;01mis\u001b[39;00m S\u001b[38;5;241m.\u001b[39mComplexInfinity:\n\u001b[0;32m    651\u001b[0m         special\u001b[38;5;241m.\u001b[39mappend(result)\n",
      "File \u001b[1;32mc:\\Users\\Ruslan\\.conda\\envs\\learning_env\\Lib\\site-packages\\sympy\\core\\evalf.py:1483\u001b[0m, in \u001b[0;36mevalf\u001b[1;34m(x, prec, options)\u001b[0m\n\u001b[0;32m   1481\u001b[0m \u001b[38;5;28;01mtry\u001b[39;00m:\n\u001b[0;32m   1482\u001b[0m     rf \u001b[38;5;241m=\u001b[39m evalf_table[\u001b[38;5;28mtype\u001b[39m(x)]\n\u001b[1;32m-> 1483\u001b[0m     r \u001b[38;5;241m=\u001b[39m rf(x, prec, options)\n\u001b[0;32m   1484\u001b[0m \u001b[38;5;28;01mexcept\u001b[39;00m \u001b[38;5;167;01mKeyError\u001b[39;00m:\n\u001b[0;32m   1485\u001b[0m     \u001b[38;5;66;03m# Fall back to ordinary evalf if possible\u001b[39;00m\n\u001b[0;32m   1486\u001b[0m     \u001b[38;5;28;01mif\u001b[39;00m \u001b[38;5;124m'\u001b[39m\u001b[38;5;124msubs\u001b[39m\u001b[38;5;124m'\u001b[39m \u001b[38;5;129;01min\u001b[39;00m options:\n",
      "File \u001b[1;32mc:\\Users\\Ruslan\\.conda\\envs\\learning_env\\Lib\\site-packages\\sympy\\core\\evalf.py:601\u001b[0m, in \u001b[0;36mevalf_add\u001b[1;34m(v, prec, options)\u001b[0m\n\u001b[0;32m    598\u001b[0m \u001b[38;5;28;01mwhile\u001b[39;00m \u001b[38;5;241m1\u001b[39m:\n\u001b[0;32m    599\u001b[0m     options[\u001b[38;5;124m'\u001b[39m\u001b[38;5;124mmaxprec\u001b[39m\u001b[38;5;124m'\u001b[39m] \u001b[38;5;241m=\u001b[39m \u001b[38;5;28mmin\u001b[39m(oldmaxprec, \u001b[38;5;241m2\u001b[39m\u001b[38;5;241m*\u001b[39mprec)\n\u001b[1;32m--> 601\u001b[0m     terms \u001b[38;5;241m=\u001b[39m [evalf(arg, prec \u001b[38;5;241m+\u001b[39m \u001b[38;5;241m10\u001b[39m, options) \u001b[38;5;28;01mfor\u001b[39;00m arg \u001b[38;5;129;01min\u001b[39;00m v\u001b[38;5;241m.\u001b[39margs]\n\u001b[0;32m    602\u001b[0m     n \u001b[38;5;241m=\u001b[39m terms\u001b[38;5;241m.\u001b[39mcount(S\u001b[38;5;241m.\u001b[39mComplexInfinity)\n\u001b[0;32m    603\u001b[0m     \u001b[38;5;28;01mif\u001b[39;00m n \u001b[38;5;241m>\u001b[39m\u001b[38;5;241m=\u001b[39m \u001b[38;5;241m2\u001b[39m:\n",
      "File \u001b[1;32mc:\\Users\\Ruslan\\.conda\\envs\\learning_env\\Lib\\site-packages\\sympy\\core\\evalf.py:601\u001b[0m, in \u001b[0;36m<listcomp>\u001b[1;34m(.0)\u001b[0m\n\u001b[0;32m    598\u001b[0m \u001b[38;5;28;01mwhile\u001b[39;00m \u001b[38;5;241m1\u001b[39m:\n\u001b[0;32m    599\u001b[0m     options[\u001b[38;5;124m'\u001b[39m\u001b[38;5;124mmaxprec\u001b[39m\u001b[38;5;124m'\u001b[39m] \u001b[38;5;241m=\u001b[39m \u001b[38;5;28mmin\u001b[39m(oldmaxprec, \u001b[38;5;241m2\u001b[39m\u001b[38;5;241m*\u001b[39mprec)\n\u001b[1;32m--> 601\u001b[0m     terms \u001b[38;5;241m=\u001b[39m [evalf(arg, prec \u001b[38;5;241m+\u001b[39m \u001b[38;5;241m10\u001b[39m, options) \u001b[38;5;28;01mfor\u001b[39;00m arg \u001b[38;5;129;01min\u001b[39;00m v\u001b[38;5;241m.\u001b[39margs]\n\u001b[0;32m    602\u001b[0m     n \u001b[38;5;241m=\u001b[39m terms\u001b[38;5;241m.\u001b[39mcount(S\u001b[38;5;241m.\u001b[39mComplexInfinity)\n\u001b[0;32m    603\u001b[0m     \u001b[38;5;28;01mif\u001b[39;00m n \u001b[38;5;241m>\u001b[39m\u001b[38;5;241m=\u001b[39m \u001b[38;5;241m2\u001b[39m:\n",
      "File \u001b[1;32mc:\\Users\\Ruslan\\.conda\\envs\\learning_env\\Lib\\site-packages\\sympy\\core\\evalf.py:1483\u001b[0m, in \u001b[0;36mevalf\u001b[1;34m(x, prec, options)\u001b[0m\n\u001b[0;32m   1481\u001b[0m \u001b[38;5;28;01mtry\u001b[39;00m:\n\u001b[0;32m   1482\u001b[0m     rf \u001b[38;5;241m=\u001b[39m evalf_table[\u001b[38;5;28mtype\u001b[39m(x)]\n\u001b[1;32m-> 1483\u001b[0m     r \u001b[38;5;241m=\u001b[39m rf(x, prec, options)\n\u001b[0;32m   1484\u001b[0m \u001b[38;5;28;01mexcept\u001b[39;00m \u001b[38;5;167;01mKeyError\u001b[39;00m:\n\u001b[0;32m   1485\u001b[0m     \u001b[38;5;66;03m# Fall back to ordinary evalf if possible\u001b[39;00m\n\u001b[0;32m   1486\u001b[0m     \u001b[38;5;28;01mif\u001b[39;00m \u001b[38;5;124m'\u001b[39m\u001b[38;5;124msubs\u001b[39m\u001b[38;5;124m'\u001b[39m \u001b[38;5;129;01min\u001b[39;00m options:\n",
      "File \u001b[1;32mc:\\Users\\Ruslan\\.conda\\envs\\learning_env\\Lib\\site-packages\\sympy\\core\\evalf.py:697\u001b[0m, in \u001b[0;36mevalf_mul\u001b[1;34m(v, prec, options)\u001b[0m\n\u001b[0;32m    695\u001b[0m \u001b[38;5;28;01melif\u001b[39;00m i \u001b[38;5;241m==\u001b[39m last \u001b[38;5;129;01mand\u001b[39;00m arg \u001b[38;5;129;01mis\u001b[39;00m S\u001b[38;5;241m.\u001b[39mOne:\n\u001b[0;32m    696\u001b[0m     \u001b[38;5;28;01mcontinue\u001b[39;00m\n\u001b[1;32m--> 697\u001b[0m re, im, re_acc, im_acc \u001b[38;5;241m=\u001b[39m evalf(arg, working_prec, options)\n\u001b[0;32m    698\u001b[0m \u001b[38;5;28;01mif\u001b[39;00m re \u001b[38;5;129;01mand\u001b[39;00m im:\n\u001b[0;32m    699\u001b[0m     complex_factors\u001b[38;5;241m.\u001b[39mappend((re, im, re_acc, im_acc))\n",
      "File \u001b[1;32mc:\\Users\\Ruslan\\.conda\\envs\\learning_env\\Lib\\site-packages\\sympy\\core\\evalf.py:1483\u001b[0m, in \u001b[0;36mevalf\u001b[1;34m(x, prec, options)\u001b[0m\n\u001b[0;32m   1481\u001b[0m \u001b[38;5;28;01mtry\u001b[39;00m:\n\u001b[0;32m   1482\u001b[0m     rf \u001b[38;5;241m=\u001b[39m evalf_table[\u001b[38;5;28mtype\u001b[39m(x)]\n\u001b[1;32m-> 1483\u001b[0m     r \u001b[38;5;241m=\u001b[39m rf(x, prec, options)\n\u001b[0;32m   1484\u001b[0m \u001b[38;5;28;01mexcept\u001b[39;00m \u001b[38;5;167;01mKeyError\u001b[39;00m:\n\u001b[0;32m   1485\u001b[0m     \u001b[38;5;66;03m# Fall back to ordinary evalf if possible\u001b[39;00m\n\u001b[0;32m   1486\u001b[0m     \u001b[38;5;28;01mif\u001b[39;00m \u001b[38;5;124m'\u001b[39m\u001b[38;5;124msubs\u001b[39m\u001b[38;5;124m'\u001b[39m \u001b[38;5;129;01min\u001b[39;00m options:\n",
      "File \u001b[1;32mc:\\Users\\Ruslan\\.conda\\envs\\learning_env\\Lib\\site-packages\\sympy\\core\\evalf.py:856\u001b[0m, in \u001b[0;36mevalf_pow\u001b[1;34m(v, prec, options)\u001b[0m\n\u001b[0;32m    853\u001b[0m         \u001b[38;5;28;01mreturn\u001b[39;00m finalize_complex(re, im, target_prec)\n\u001b[0;32m    854\u001b[0m     \u001b[38;5;28;01mreturn\u001b[39;00m mpf_exp(yre, target_prec), \u001b[38;5;28;01mNone\u001b[39;00m, target_prec, \u001b[38;5;28;01mNone\u001b[39;00m\n\u001b[1;32m--> 856\u001b[0m xre, xim, _, _ \u001b[38;5;241m=\u001b[39m evalf(base, prec \u001b[38;5;241m+\u001b[39m \u001b[38;5;241m5\u001b[39m, options)\n\u001b[0;32m    857\u001b[0m \u001b[38;5;66;03m# 0**y\u001b[39;00m\n\u001b[0;32m    858\u001b[0m \u001b[38;5;28;01mif\u001b[39;00m \u001b[38;5;129;01mnot\u001b[39;00m (xre \u001b[38;5;129;01mor\u001b[39;00m xim):\n",
      "File \u001b[1;32mc:\\Users\\Ruslan\\.conda\\envs\\learning_env\\Lib\\site-packages\\sympy\\core\\evalf.py:1483\u001b[0m, in \u001b[0;36mevalf\u001b[1;34m(x, prec, options)\u001b[0m\n\u001b[0;32m   1481\u001b[0m \u001b[38;5;28;01mtry\u001b[39;00m:\n\u001b[0;32m   1482\u001b[0m     rf \u001b[38;5;241m=\u001b[39m evalf_table[\u001b[38;5;28mtype\u001b[39m(x)]\n\u001b[1;32m-> 1483\u001b[0m     r \u001b[38;5;241m=\u001b[39m rf(x, prec, options)\n\u001b[0;32m   1484\u001b[0m \u001b[38;5;28;01mexcept\u001b[39;00m \u001b[38;5;167;01mKeyError\u001b[39;00m:\n\u001b[0;32m   1485\u001b[0m     \u001b[38;5;66;03m# Fall back to ordinary evalf if possible\u001b[39;00m\n\u001b[0;32m   1486\u001b[0m     \u001b[38;5;28;01mif\u001b[39;00m \u001b[38;5;124m'\u001b[39m\u001b[38;5;124msubs\u001b[39m\u001b[38;5;124m'\u001b[39m \u001b[38;5;129;01min\u001b[39;00m options:\n",
      "File \u001b[1;32mc:\\Users\\Ruslan\\.conda\\envs\\learning_env\\Lib\\site-packages\\sympy\\core\\evalf.py:649\u001b[0m, in \u001b[0;36mevalf_mul\u001b[1;34m(v, prec, options)\u001b[0m\n\u001b[0;32m    647\u001b[0m \u001b[38;5;28;01mfrom\u001b[39;00m \u001b[38;5;21;01m.\u001b[39;00m\u001b[38;5;21;01mnumbers\u001b[39;00m \u001b[38;5;28;01mimport\u001b[39;00m Float\n\u001b[0;32m    648\u001b[0m \u001b[38;5;28;01mfor\u001b[39;00m arg \u001b[38;5;129;01min\u001b[39;00m args:\n\u001b[1;32m--> 649\u001b[0m     result \u001b[38;5;241m=\u001b[39m evalf(arg, prec, options)\n\u001b[0;32m    650\u001b[0m     \u001b[38;5;28;01mif\u001b[39;00m result \u001b[38;5;129;01mis\u001b[39;00m S\u001b[38;5;241m.\u001b[39mComplexInfinity:\n\u001b[0;32m    651\u001b[0m         special\u001b[38;5;241m.\u001b[39mappend(result)\n",
      "File \u001b[1;32mc:\\Users\\Ruslan\\.conda\\envs\\learning_env\\Lib\\site-packages\\sympy\\core\\evalf.py:1483\u001b[0m, in \u001b[0;36mevalf\u001b[1;34m(x, prec, options)\u001b[0m\n\u001b[0;32m   1481\u001b[0m \u001b[38;5;28;01mtry\u001b[39;00m:\n\u001b[0;32m   1482\u001b[0m     rf \u001b[38;5;241m=\u001b[39m evalf_table[\u001b[38;5;28mtype\u001b[39m(x)]\n\u001b[1;32m-> 1483\u001b[0m     r \u001b[38;5;241m=\u001b[39m rf(x, prec, options)\n\u001b[0;32m   1484\u001b[0m \u001b[38;5;28;01mexcept\u001b[39;00m \u001b[38;5;167;01mKeyError\u001b[39;00m:\n\u001b[0;32m   1485\u001b[0m     \u001b[38;5;66;03m# Fall back to ordinary evalf if possible\u001b[39;00m\n\u001b[0;32m   1486\u001b[0m     \u001b[38;5;28;01mif\u001b[39;00m \u001b[38;5;124m'\u001b[39m\u001b[38;5;124msubs\u001b[39m\u001b[38;5;124m'\u001b[39m \u001b[38;5;129;01min\u001b[39;00m options:\n",
      "File \u001b[1;32mc:\\Users\\Ruslan\\.conda\\envs\\learning_env\\Lib\\site-packages\\sympy\\core\\evalf.py:777\u001b[0m, in \u001b[0;36mevalf_pow\u001b[1;34m(v, prec, options)\u001b[0m\n\u001b[0;32m    774\u001b[0m \u001b[38;5;66;03m# Exponentiation by p magnifies relative error by |p|, so the\u001b[39;00m\n\u001b[0;32m    775\u001b[0m \u001b[38;5;66;03m# base must be evaluated with increased precision if p is large\u001b[39;00m\n\u001b[0;32m    776\u001b[0m prec \u001b[38;5;241m+\u001b[39m\u001b[38;5;241m=\u001b[39m \u001b[38;5;28mint\u001b[39m(math\u001b[38;5;241m.\u001b[39mlog2(\u001b[38;5;28mabs\u001b[39m(p)))\n\u001b[1;32m--> 777\u001b[0m result \u001b[38;5;241m=\u001b[39m evalf(base, prec \u001b[38;5;241m+\u001b[39m \u001b[38;5;241m5\u001b[39m, options)\n\u001b[0;32m    778\u001b[0m \u001b[38;5;28;01mif\u001b[39;00m result \u001b[38;5;129;01mis\u001b[39;00m S\u001b[38;5;241m.\u001b[39mComplexInfinity:\n\u001b[0;32m    779\u001b[0m     \u001b[38;5;28;01mif\u001b[39;00m p \u001b[38;5;241m<\u001b[39m \u001b[38;5;241m0\u001b[39m:\n",
      "File \u001b[1;32mc:\\Users\\Ruslan\\.conda\\envs\\learning_env\\Lib\\site-packages\\sympy\\core\\evalf.py:1483\u001b[0m, in \u001b[0;36mevalf\u001b[1;34m(x, prec, options)\u001b[0m\n\u001b[0;32m   1481\u001b[0m \u001b[38;5;28;01mtry\u001b[39;00m:\n\u001b[0;32m   1482\u001b[0m     rf \u001b[38;5;241m=\u001b[39m evalf_table[\u001b[38;5;28mtype\u001b[39m(x)]\n\u001b[1;32m-> 1483\u001b[0m     r \u001b[38;5;241m=\u001b[39m rf(x, prec, options)\n\u001b[0;32m   1484\u001b[0m \u001b[38;5;28;01mexcept\u001b[39;00m \u001b[38;5;167;01mKeyError\u001b[39;00m:\n\u001b[0;32m   1485\u001b[0m     \u001b[38;5;66;03m# Fall back to ordinary evalf if possible\u001b[39;00m\n\u001b[0;32m   1486\u001b[0m     \u001b[38;5;28;01mif\u001b[39;00m \u001b[38;5;124m'\u001b[39m\u001b[38;5;124msubs\u001b[39m\u001b[38;5;124m'\u001b[39m \u001b[38;5;129;01min\u001b[39;00m options:\n",
      "File \u001b[1;32mc:\\Users\\Ruslan\\.conda\\envs\\learning_env\\Lib\\site-packages\\sympy\\core\\evalf.py:601\u001b[0m, in \u001b[0;36mevalf_add\u001b[1;34m(v, prec, options)\u001b[0m\n\u001b[0;32m    598\u001b[0m \u001b[38;5;28;01mwhile\u001b[39;00m \u001b[38;5;241m1\u001b[39m:\n\u001b[0;32m    599\u001b[0m     options[\u001b[38;5;124m'\u001b[39m\u001b[38;5;124mmaxprec\u001b[39m\u001b[38;5;124m'\u001b[39m] \u001b[38;5;241m=\u001b[39m \u001b[38;5;28mmin\u001b[39m(oldmaxprec, \u001b[38;5;241m2\u001b[39m\u001b[38;5;241m*\u001b[39mprec)\n\u001b[1;32m--> 601\u001b[0m     terms \u001b[38;5;241m=\u001b[39m [evalf(arg, prec \u001b[38;5;241m+\u001b[39m \u001b[38;5;241m10\u001b[39m, options) \u001b[38;5;28;01mfor\u001b[39;00m arg \u001b[38;5;129;01min\u001b[39;00m v\u001b[38;5;241m.\u001b[39margs]\n\u001b[0;32m    602\u001b[0m     n \u001b[38;5;241m=\u001b[39m terms\u001b[38;5;241m.\u001b[39mcount(S\u001b[38;5;241m.\u001b[39mComplexInfinity)\n\u001b[0;32m    603\u001b[0m     \u001b[38;5;28;01mif\u001b[39;00m n \u001b[38;5;241m>\u001b[39m\u001b[38;5;241m=\u001b[39m \u001b[38;5;241m2\u001b[39m:\n",
      "File \u001b[1;32mc:\\Users\\Ruslan\\.conda\\envs\\learning_env\\Lib\\site-packages\\sympy\\core\\evalf.py:601\u001b[0m, in \u001b[0;36m<listcomp>\u001b[1;34m(.0)\u001b[0m\n\u001b[0;32m    598\u001b[0m \u001b[38;5;28;01mwhile\u001b[39;00m \u001b[38;5;241m1\u001b[39m:\n\u001b[0;32m    599\u001b[0m     options[\u001b[38;5;124m'\u001b[39m\u001b[38;5;124mmaxprec\u001b[39m\u001b[38;5;124m'\u001b[39m] \u001b[38;5;241m=\u001b[39m \u001b[38;5;28mmin\u001b[39m(oldmaxprec, \u001b[38;5;241m2\u001b[39m\u001b[38;5;241m*\u001b[39mprec)\n\u001b[1;32m--> 601\u001b[0m     terms \u001b[38;5;241m=\u001b[39m [evalf(arg, prec \u001b[38;5;241m+\u001b[39m \u001b[38;5;241m10\u001b[39m, options) \u001b[38;5;28;01mfor\u001b[39;00m arg \u001b[38;5;129;01min\u001b[39;00m v\u001b[38;5;241m.\u001b[39margs]\n\u001b[0;32m    602\u001b[0m     n \u001b[38;5;241m=\u001b[39m terms\u001b[38;5;241m.\u001b[39mcount(S\u001b[38;5;241m.\u001b[39mComplexInfinity)\n\u001b[0;32m    603\u001b[0m     \u001b[38;5;28;01mif\u001b[39;00m n \u001b[38;5;241m>\u001b[39m\u001b[38;5;241m=\u001b[39m \u001b[38;5;241m2\u001b[39m:\n",
      "File \u001b[1;32mc:\\Users\\Ruslan\\.conda\\envs\\learning_env\\Lib\\site-packages\\sympy\\core\\evalf.py:1483\u001b[0m, in \u001b[0;36mevalf\u001b[1;34m(x, prec, options)\u001b[0m\n\u001b[0;32m   1481\u001b[0m \u001b[38;5;28;01mtry\u001b[39;00m:\n\u001b[0;32m   1482\u001b[0m     rf \u001b[38;5;241m=\u001b[39m evalf_table[\u001b[38;5;28mtype\u001b[39m(x)]\n\u001b[1;32m-> 1483\u001b[0m     r \u001b[38;5;241m=\u001b[39m rf(x, prec, options)\n\u001b[0;32m   1484\u001b[0m \u001b[38;5;28;01mexcept\u001b[39;00m \u001b[38;5;167;01mKeyError\u001b[39;00m:\n\u001b[0;32m   1485\u001b[0m     \u001b[38;5;66;03m# Fall back to ordinary evalf if possible\u001b[39;00m\n\u001b[0;32m   1486\u001b[0m     \u001b[38;5;28;01mif\u001b[39;00m \u001b[38;5;124m'\u001b[39m\u001b[38;5;124msubs\u001b[39m\u001b[38;5;124m'\u001b[39m \u001b[38;5;129;01min\u001b[39;00m options:\n",
      "File \u001b[1;32mc:\\Users\\Ruslan\\.conda\\envs\\learning_env\\Lib\\site-packages\\sympy\\core\\evalf.py:649\u001b[0m, in \u001b[0;36mevalf_mul\u001b[1;34m(v, prec, options)\u001b[0m\n\u001b[0;32m    647\u001b[0m \u001b[38;5;28;01mfrom\u001b[39;00m \u001b[38;5;21;01m.\u001b[39;00m\u001b[38;5;21;01mnumbers\u001b[39;00m \u001b[38;5;28;01mimport\u001b[39;00m Float\n\u001b[0;32m    648\u001b[0m \u001b[38;5;28;01mfor\u001b[39;00m arg \u001b[38;5;129;01min\u001b[39;00m args:\n\u001b[1;32m--> 649\u001b[0m     result \u001b[38;5;241m=\u001b[39m evalf(arg, prec, options)\n\u001b[0;32m    650\u001b[0m     \u001b[38;5;28;01mif\u001b[39;00m result \u001b[38;5;129;01mis\u001b[39;00m S\u001b[38;5;241m.\u001b[39mComplexInfinity:\n\u001b[0;32m    651\u001b[0m         special\u001b[38;5;241m.\u001b[39mappend(result)\n",
      "File \u001b[1;32mc:\\Users\\Ruslan\\.conda\\envs\\learning_env\\Lib\\site-packages\\sympy\\core\\evalf.py:1483\u001b[0m, in \u001b[0;36mevalf\u001b[1;34m(x, prec, options)\u001b[0m\n\u001b[0;32m   1481\u001b[0m \u001b[38;5;28;01mtry\u001b[39;00m:\n\u001b[0;32m   1482\u001b[0m     rf \u001b[38;5;241m=\u001b[39m evalf_table[\u001b[38;5;28mtype\u001b[39m(x)]\n\u001b[1;32m-> 1483\u001b[0m     r \u001b[38;5;241m=\u001b[39m rf(x, prec, options)\n\u001b[0;32m   1484\u001b[0m \u001b[38;5;28;01mexcept\u001b[39;00m \u001b[38;5;167;01mKeyError\u001b[39;00m:\n\u001b[0;32m   1485\u001b[0m     \u001b[38;5;66;03m# Fall back to ordinary evalf if possible\u001b[39;00m\n\u001b[0;32m   1486\u001b[0m     \u001b[38;5;28;01mif\u001b[39;00m \u001b[38;5;124m'\u001b[39m\u001b[38;5;124msubs\u001b[39m\u001b[38;5;124m'\u001b[39m \u001b[38;5;129;01min\u001b[39;00m options:\n",
      "File \u001b[1;32mc:\\Users\\Ruslan\\.conda\\envs\\learning_env\\Lib\\site-packages\\sympy\\core\\evalf.py:777\u001b[0m, in \u001b[0;36mevalf_pow\u001b[1;34m(v, prec, options)\u001b[0m\n\u001b[0;32m    774\u001b[0m \u001b[38;5;66;03m# Exponentiation by p magnifies relative error by |p|, so the\u001b[39;00m\n\u001b[0;32m    775\u001b[0m \u001b[38;5;66;03m# base must be evaluated with increased precision if p is large\u001b[39;00m\n\u001b[0;32m    776\u001b[0m prec \u001b[38;5;241m+\u001b[39m\u001b[38;5;241m=\u001b[39m \u001b[38;5;28mint\u001b[39m(math\u001b[38;5;241m.\u001b[39mlog2(\u001b[38;5;28mabs\u001b[39m(p)))\n\u001b[1;32m--> 777\u001b[0m result \u001b[38;5;241m=\u001b[39m evalf(base, prec \u001b[38;5;241m+\u001b[39m \u001b[38;5;241m5\u001b[39m, options)\n\u001b[0;32m    778\u001b[0m \u001b[38;5;28;01mif\u001b[39;00m result \u001b[38;5;129;01mis\u001b[39;00m S\u001b[38;5;241m.\u001b[39mComplexInfinity:\n\u001b[0;32m    779\u001b[0m     \u001b[38;5;28;01mif\u001b[39;00m p \u001b[38;5;241m<\u001b[39m \u001b[38;5;241m0\u001b[39m:\n",
      "File \u001b[1;32mc:\\Users\\Ruslan\\.conda\\envs\\learning_env\\Lib\\site-packages\\sympy\\core\\evalf.py:1483\u001b[0m, in \u001b[0;36mevalf\u001b[1;34m(x, prec, options)\u001b[0m\n\u001b[0;32m   1481\u001b[0m \u001b[38;5;28;01mtry\u001b[39;00m:\n\u001b[0;32m   1482\u001b[0m     rf \u001b[38;5;241m=\u001b[39m evalf_table[\u001b[38;5;28mtype\u001b[39m(x)]\n\u001b[1;32m-> 1483\u001b[0m     r \u001b[38;5;241m=\u001b[39m rf(x, prec, options)\n\u001b[0;32m   1484\u001b[0m \u001b[38;5;28;01mexcept\u001b[39;00m \u001b[38;5;167;01mKeyError\u001b[39;00m:\n\u001b[0;32m   1485\u001b[0m     \u001b[38;5;66;03m# Fall back to ordinary evalf if possible\u001b[39;00m\n\u001b[0;32m   1486\u001b[0m     \u001b[38;5;28;01mif\u001b[39;00m \u001b[38;5;124m'\u001b[39m\u001b[38;5;124msubs\u001b[39m\u001b[38;5;124m'\u001b[39m \u001b[38;5;129;01min\u001b[39;00m options:\n",
      "File \u001b[1;32mc:\\Users\\Ruslan\\.conda\\envs\\learning_env\\Lib\\site-packages\\sympy\\core\\evalf.py:601\u001b[0m, in \u001b[0;36mevalf_add\u001b[1;34m(v, prec, options)\u001b[0m\n\u001b[0;32m    598\u001b[0m \u001b[38;5;28;01mwhile\u001b[39;00m \u001b[38;5;241m1\u001b[39m:\n\u001b[0;32m    599\u001b[0m     options[\u001b[38;5;124m'\u001b[39m\u001b[38;5;124mmaxprec\u001b[39m\u001b[38;5;124m'\u001b[39m] \u001b[38;5;241m=\u001b[39m \u001b[38;5;28mmin\u001b[39m(oldmaxprec, \u001b[38;5;241m2\u001b[39m\u001b[38;5;241m*\u001b[39mprec)\n\u001b[1;32m--> 601\u001b[0m     terms \u001b[38;5;241m=\u001b[39m [evalf(arg, prec \u001b[38;5;241m+\u001b[39m \u001b[38;5;241m10\u001b[39m, options) \u001b[38;5;28;01mfor\u001b[39;00m arg \u001b[38;5;129;01min\u001b[39;00m v\u001b[38;5;241m.\u001b[39margs]\n\u001b[0;32m    602\u001b[0m     n \u001b[38;5;241m=\u001b[39m terms\u001b[38;5;241m.\u001b[39mcount(S\u001b[38;5;241m.\u001b[39mComplexInfinity)\n\u001b[0;32m    603\u001b[0m     \u001b[38;5;28;01mif\u001b[39;00m n \u001b[38;5;241m>\u001b[39m\u001b[38;5;241m=\u001b[39m \u001b[38;5;241m2\u001b[39m:\n",
      "File \u001b[1;32mc:\\Users\\Ruslan\\.conda\\envs\\learning_env\\Lib\\site-packages\\sympy\\core\\evalf.py:601\u001b[0m, in \u001b[0;36m<listcomp>\u001b[1;34m(.0)\u001b[0m\n\u001b[0;32m    598\u001b[0m \u001b[38;5;28;01mwhile\u001b[39;00m \u001b[38;5;241m1\u001b[39m:\n\u001b[0;32m    599\u001b[0m     options[\u001b[38;5;124m'\u001b[39m\u001b[38;5;124mmaxprec\u001b[39m\u001b[38;5;124m'\u001b[39m] \u001b[38;5;241m=\u001b[39m \u001b[38;5;28mmin\u001b[39m(oldmaxprec, \u001b[38;5;241m2\u001b[39m\u001b[38;5;241m*\u001b[39mprec)\n\u001b[1;32m--> 601\u001b[0m     terms \u001b[38;5;241m=\u001b[39m [evalf(arg, prec \u001b[38;5;241m+\u001b[39m \u001b[38;5;241m10\u001b[39m, options) \u001b[38;5;28;01mfor\u001b[39;00m arg \u001b[38;5;129;01min\u001b[39;00m v\u001b[38;5;241m.\u001b[39margs]\n\u001b[0;32m    602\u001b[0m     n \u001b[38;5;241m=\u001b[39m terms\u001b[38;5;241m.\u001b[39mcount(S\u001b[38;5;241m.\u001b[39mComplexInfinity)\n\u001b[0;32m    603\u001b[0m     \u001b[38;5;28;01mif\u001b[39;00m n \u001b[38;5;241m>\u001b[39m\u001b[38;5;241m=\u001b[39m \u001b[38;5;241m2\u001b[39m:\n",
      "File \u001b[1;32mc:\\Users\\Ruslan\\.conda\\envs\\learning_env\\Lib\\site-packages\\sympy\\core\\evalf.py:1483\u001b[0m, in \u001b[0;36mevalf\u001b[1;34m(x, prec, options)\u001b[0m\n\u001b[0;32m   1481\u001b[0m \u001b[38;5;28;01mtry\u001b[39;00m:\n\u001b[0;32m   1482\u001b[0m     rf \u001b[38;5;241m=\u001b[39m evalf_table[\u001b[38;5;28mtype\u001b[39m(x)]\n\u001b[1;32m-> 1483\u001b[0m     r \u001b[38;5;241m=\u001b[39m rf(x, prec, options)\n\u001b[0;32m   1484\u001b[0m \u001b[38;5;28;01mexcept\u001b[39;00m \u001b[38;5;167;01mKeyError\u001b[39;00m:\n\u001b[0;32m   1485\u001b[0m     \u001b[38;5;66;03m# Fall back to ordinary evalf if possible\u001b[39;00m\n\u001b[0;32m   1486\u001b[0m     \u001b[38;5;28;01mif\u001b[39;00m \u001b[38;5;124m'\u001b[39m\u001b[38;5;124msubs\u001b[39m\u001b[38;5;124m'\u001b[39m \u001b[38;5;129;01min\u001b[39;00m options:\n",
      "File \u001b[1;32mc:\\Users\\Ruslan\\.conda\\envs\\learning_env\\Lib\\site-packages\\sympy\\core\\evalf.py:697\u001b[0m, in \u001b[0;36mevalf_mul\u001b[1;34m(v, prec, options)\u001b[0m\n\u001b[0;32m    695\u001b[0m \u001b[38;5;28;01melif\u001b[39;00m i \u001b[38;5;241m==\u001b[39m last \u001b[38;5;129;01mand\u001b[39;00m arg \u001b[38;5;129;01mis\u001b[39;00m S\u001b[38;5;241m.\u001b[39mOne:\n\u001b[0;32m    696\u001b[0m     \u001b[38;5;28;01mcontinue\u001b[39;00m\n\u001b[1;32m--> 697\u001b[0m re, im, re_acc, im_acc \u001b[38;5;241m=\u001b[39m evalf(arg, working_prec, options)\n\u001b[0;32m    698\u001b[0m \u001b[38;5;28;01mif\u001b[39;00m re \u001b[38;5;129;01mand\u001b[39;00m im:\n\u001b[0;32m    699\u001b[0m     complex_factors\u001b[38;5;241m.\u001b[39mappend((re, im, re_acc, im_acc))\n",
      "    \u001b[1;31m[... skipping similar frames: evalf at line 1483 (1 times)]\u001b[0m\n",
      "File \u001b[1;32mc:\\Users\\Ruslan\\.conda\\envs\\learning_env\\Lib\\site-packages\\sympy\\core\\evalf.py:601\u001b[0m, in \u001b[0;36mevalf_add\u001b[1;34m(v, prec, options)\u001b[0m\n\u001b[0;32m    598\u001b[0m \u001b[38;5;28;01mwhile\u001b[39;00m \u001b[38;5;241m1\u001b[39m:\n\u001b[0;32m    599\u001b[0m     options[\u001b[38;5;124m'\u001b[39m\u001b[38;5;124mmaxprec\u001b[39m\u001b[38;5;124m'\u001b[39m] \u001b[38;5;241m=\u001b[39m \u001b[38;5;28mmin\u001b[39m(oldmaxprec, \u001b[38;5;241m2\u001b[39m\u001b[38;5;241m*\u001b[39mprec)\n\u001b[1;32m--> 601\u001b[0m     terms \u001b[38;5;241m=\u001b[39m [evalf(arg, prec \u001b[38;5;241m+\u001b[39m \u001b[38;5;241m10\u001b[39m, options) \u001b[38;5;28;01mfor\u001b[39;00m arg \u001b[38;5;129;01min\u001b[39;00m v\u001b[38;5;241m.\u001b[39margs]\n\u001b[0;32m    602\u001b[0m     n \u001b[38;5;241m=\u001b[39m terms\u001b[38;5;241m.\u001b[39mcount(S\u001b[38;5;241m.\u001b[39mComplexInfinity)\n\u001b[0;32m    603\u001b[0m     \u001b[38;5;28;01mif\u001b[39;00m n \u001b[38;5;241m>\u001b[39m\u001b[38;5;241m=\u001b[39m \u001b[38;5;241m2\u001b[39m:\n",
      "File \u001b[1;32mc:\\Users\\Ruslan\\.conda\\envs\\learning_env\\Lib\\site-packages\\sympy\\core\\evalf.py:601\u001b[0m, in \u001b[0;36m<listcomp>\u001b[1;34m(.0)\u001b[0m\n\u001b[0;32m    598\u001b[0m \u001b[38;5;28;01mwhile\u001b[39;00m \u001b[38;5;241m1\u001b[39m:\n\u001b[0;32m    599\u001b[0m     options[\u001b[38;5;124m'\u001b[39m\u001b[38;5;124mmaxprec\u001b[39m\u001b[38;5;124m'\u001b[39m] \u001b[38;5;241m=\u001b[39m \u001b[38;5;28mmin\u001b[39m(oldmaxprec, \u001b[38;5;241m2\u001b[39m\u001b[38;5;241m*\u001b[39mprec)\n\u001b[1;32m--> 601\u001b[0m     terms \u001b[38;5;241m=\u001b[39m [evalf(arg, prec \u001b[38;5;241m+\u001b[39m \u001b[38;5;241m10\u001b[39m, options) \u001b[38;5;28;01mfor\u001b[39;00m arg \u001b[38;5;129;01min\u001b[39;00m v\u001b[38;5;241m.\u001b[39margs]\n\u001b[0;32m    602\u001b[0m     n \u001b[38;5;241m=\u001b[39m terms\u001b[38;5;241m.\u001b[39mcount(S\u001b[38;5;241m.\u001b[39mComplexInfinity)\n\u001b[0;32m    603\u001b[0m     \u001b[38;5;28;01mif\u001b[39;00m n \u001b[38;5;241m>\u001b[39m\u001b[38;5;241m=\u001b[39m \u001b[38;5;241m2\u001b[39m:\n",
      "    \u001b[1;31m[... skipping similar frames: evalf at line 1483 (1 times)]\u001b[0m\n",
      "File \u001b[1;32mc:\\Users\\Ruslan\\.conda\\envs\\learning_env\\Lib\\site-packages\\sympy\\core\\evalf.py:697\u001b[0m, in \u001b[0;36mevalf_mul\u001b[1;34m(v, prec, options)\u001b[0m\n\u001b[0;32m    695\u001b[0m \u001b[38;5;28;01melif\u001b[39;00m i \u001b[38;5;241m==\u001b[39m last \u001b[38;5;129;01mand\u001b[39;00m arg \u001b[38;5;129;01mis\u001b[39;00m S\u001b[38;5;241m.\u001b[39mOne:\n\u001b[0;32m    696\u001b[0m     \u001b[38;5;28;01mcontinue\u001b[39;00m\n\u001b[1;32m--> 697\u001b[0m re, im, re_acc, im_acc \u001b[38;5;241m=\u001b[39m evalf(arg, working_prec, options)\n\u001b[0;32m    698\u001b[0m \u001b[38;5;28;01mif\u001b[39;00m re \u001b[38;5;129;01mand\u001b[39;00m im:\n\u001b[0;32m    699\u001b[0m     complex_factors\u001b[38;5;241m.\u001b[39mappend((re, im, re_acc, im_acc))\n",
      "File \u001b[1;32mc:\\Users\\Ruslan\\.conda\\envs\\learning_env\\Lib\\site-packages\\sympy\\core\\evalf.py:1483\u001b[0m, in \u001b[0;36mevalf\u001b[1;34m(x, prec, options)\u001b[0m\n\u001b[0;32m   1481\u001b[0m \u001b[38;5;28;01mtry\u001b[39;00m:\n\u001b[0;32m   1482\u001b[0m     rf \u001b[38;5;241m=\u001b[39m evalf_table[\u001b[38;5;28mtype\u001b[39m(x)]\n\u001b[1;32m-> 1483\u001b[0m     r \u001b[38;5;241m=\u001b[39m rf(x, prec, options)\n\u001b[0;32m   1484\u001b[0m \u001b[38;5;28;01mexcept\u001b[39;00m \u001b[38;5;167;01mKeyError\u001b[39;00m:\n\u001b[0;32m   1485\u001b[0m     \u001b[38;5;66;03m# Fall back to ordinary evalf if possible\u001b[39;00m\n\u001b[0;32m   1486\u001b[0m     \u001b[38;5;28;01mif\u001b[39;00m \u001b[38;5;124m'\u001b[39m\u001b[38;5;124msubs\u001b[39m\u001b[38;5;124m'\u001b[39m \u001b[38;5;129;01min\u001b[39;00m options:\n",
      "File \u001b[1;32mc:\\Users\\Ruslan\\.conda\\envs\\learning_env\\Lib\\site-packages\\sympy\\core\\evalf.py:856\u001b[0m, in \u001b[0;36mevalf_pow\u001b[1;34m(v, prec, options)\u001b[0m\n\u001b[0;32m    853\u001b[0m         \u001b[38;5;28;01mreturn\u001b[39;00m finalize_complex(re, im, target_prec)\n\u001b[0;32m    854\u001b[0m     \u001b[38;5;28;01mreturn\u001b[39;00m mpf_exp(yre, target_prec), \u001b[38;5;28;01mNone\u001b[39;00m, target_prec, \u001b[38;5;28;01mNone\u001b[39;00m\n\u001b[1;32m--> 856\u001b[0m xre, xim, _, _ \u001b[38;5;241m=\u001b[39m evalf(base, prec \u001b[38;5;241m+\u001b[39m \u001b[38;5;241m5\u001b[39m, options)\n\u001b[0;32m    857\u001b[0m \u001b[38;5;66;03m# 0**y\u001b[39;00m\n\u001b[0;32m    858\u001b[0m \u001b[38;5;28;01mif\u001b[39;00m \u001b[38;5;129;01mnot\u001b[39;00m (xre \u001b[38;5;129;01mor\u001b[39;00m xim):\n",
      "File \u001b[1;32mc:\\Users\\Ruslan\\.conda\\envs\\learning_env\\Lib\\site-packages\\sympy\\core\\evalf.py:1483\u001b[0m, in \u001b[0;36mevalf\u001b[1;34m(x, prec, options)\u001b[0m\n\u001b[0;32m   1481\u001b[0m \u001b[38;5;28;01mtry\u001b[39;00m:\n\u001b[0;32m   1482\u001b[0m     rf \u001b[38;5;241m=\u001b[39m evalf_table[\u001b[38;5;28mtype\u001b[39m(x)]\n\u001b[1;32m-> 1483\u001b[0m     r \u001b[38;5;241m=\u001b[39m rf(x, prec, options)\n\u001b[0;32m   1484\u001b[0m \u001b[38;5;28;01mexcept\u001b[39;00m \u001b[38;5;167;01mKeyError\u001b[39;00m:\n\u001b[0;32m   1485\u001b[0m     \u001b[38;5;66;03m# Fall back to ordinary evalf if possible\u001b[39;00m\n\u001b[0;32m   1486\u001b[0m     \u001b[38;5;28;01mif\u001b[39;00m \u001b[38;5;124m'\u001b[39m\u001b[38;5;124msubs\u001b[39m\u001b[38;5;124m'\u001b[39m \u001b[38;5;129;01min\u001b[39;00m options:\n",
      "File \u001b[1;32mc:\\Users\\Ruslan\\.conda\\envs\\learning_env\\Lib\\site-packages\\sympy\\core\\evalf.py:601\u001b[0m, in \u001b[0;36mevalf_add\u001b[1;34m(v, prec, options)\u001b[0m\n\u001b[0;32m    598\u001b[0m \u001b[38;5;28;01mwhile\u001b[39;00m \u001b[38;5;241m1\u001b[39m:\n\u001b[0;32m    599\u001b[0m     options[\u001b[38;5;124m'\u001b[39m\u001b[38;5;124mmaxprec\u001b[39m\u001b[38;5;124m'\u001b[39m] \u001b[38;5;241m=\u001b[39m \u001b[38;5;28mmin\u001b[39m(oldmaxprec, \u001b[38;5;241m2\u001b[39m\u001b[38;5;241m*\u001b[39mprec)\n\u001b[1;32m--> 601\u001b[0m     terms \u001b[38;5;241m=\u001b[39m [evalf(arg, prec \u001b[38;5;241m+\u001b[39m \u001b[38;5;241m10\u001b[39m, options) \u001b[38;5;28;01mfor\u001b[39;00m arg \u001b[38;5;129;01min\u001b[39;00m v\u001b[38;5;241m.\u001b[39margs]\n\u001b[0;32m    602\u001b[0m     n \u001b[38;5;241m=\u001b[39m terms\u001b[38;5;241m.\u001b[39mcount(S\u001b[38;5;241m.\u001b[39mComplexInfinity)\n\u001b[0;32m    603\u001b[0m     \u001b[38;5;28;01mif\u001b[39;00m n \u001b[38;5;241m>\u001b[39m\u001b[38;5;241m=\u001b[39m \u001b[38;5;241m2\u001b[39m:\n",
      "File \u001b[1;32mc:\\Users\\Ruslan\\.conda\\envs\\learning_env\\Lib\\site-packages\\sympy\\core\\evalf.py:601\u001b[0m, in \u001b[0;36m<listcomp>\u001b[1;34m(.0)\u001b[0m\n\u001b[0;32m    598\u001b[0m \u001b[38;5;28;01mwhile\u001b[39;00m \u001b[38;5;241m1\u001b[39m:\n\u001b[0;32m    599\u001b[0m     options[\u001b[38;5;124m'\u001b[39m\u001b[38;5;124mmaxprec\u001b[39m\u001b[38;5;124m'\u001b[39m] \u001b[38;5;241m=\u001b[39m \u001b[38;5;28mmin\u001b[39m(oldmaxprec, \u001b[38;5;241m2\u001b[39m\u001b[38;5;241m*\u001b[39mprec)\n\u001b[1;32m--> 601\u001b[0m     terms \u001b[38;5;241m=\u001b[39m [evalf(arg, prec \u001b[38;5;241m+\u001b[39m \u001b[38;5;241m10\u001b[39m, options) \u001b[38;5;28;01mfor\u001b[39;00m arg \u001b[38;5;129;01min\u001b[39;00m v\u001b[38;5;241m.\u001b[39margs]\n\u001b[0;32m    602\u001b[0m     n \u001b[38;5;241m=\u001b[39m terms\u001b[38;5;241m.\u001b[39mcount(S\u001b[38;5;241m.\u001b[39mComplexInfinity)\n\u001b[0;32m    603\u001b[0m     \u001b[38;5;28;01mif\u001b[39;00m n \u001b[38;5;241m>\u001b[39m\u001b[38;5;241m=\u001b[39m \u001b[38;5;241m2\u001b[39m:\n",
      "File \u001b[1;32mc:\\Users\\Ruslan\\.conda\\envs\\learning_env\\Lib\\site-packages\\sympy\\core\\evalf.py:1483\u001b[0m, in \u001b[0;36mevalf\u001b[1;34m(x, prec, options)\u001b[0m\n\u001b[0;32m   1481\u001b[0m \u001b[38;5;28;01mtry\u001b[39;00m:\n\u001b[0;32m   1482\u001b[0m     rf \u001b[38;5;241m=\u001b[39m evalf_table[\u001b[38;5;28mtype\u001b[39m(x)]\n\u001b[1;32m-> 1483\u001b[0m     r \u001b[38;5;241m=\u001b[39m rf(x, prec, options)\n\u001b[0;32m   1484\u001b[0m \u001b[38;5;28;01mexcept\u001b[39;00m \u001b[38;5;167;01mKeyError\u001b[39;00m:\n\u001b[0;32m   1485\u001b[0m     \u001b[38;5;66;03m# Fall back to ordinary evalf if possible\u001b[39;00m\n\u001b[0;32m   1486\u001b[0m     \u001b[38;5;28;01mif\u001b[39;00m \u001b[38;5;124m'\u001b[39m\u001b[38;5;124msubs\u001b[39m\u001b[38;5;124m'\u001b[39m \u001b[38;5;129;01min\u001b[39;00m options:\n",
      "File \u001b[1;32mc:\\Users\\Ruslan\\.conda\\envs\\learning_env\\Lib\\site-packages\\sympy\\core\\evalf.py:697\u001b[0m, in \u001b[0;36mevalf_mul\u001b[1;34m(v, prec, options)\u001b[0m\n\u001b[0;32m    695\u001b[0m \u001b[38;5;28;01melif\u001b[39;00m i \u001b[38;5;241m==\u001b[39m last \u001b[38;5;129;01mand\u001b[39;00m arg \u001b[38;5;129;01mis\u001b[39;00m S\u001b[38;5;241m.\u001b[39mOne:\n\u001b[0;32m    696\u001b[0m     \u001b[38;5;28;01mcontinue\u001b[39;00m\n\u001b[1;32m--> 697\u001b[0m re, im, re_acc, im_acc \u001b[38;5;241m=\u001b[39m evalf(arg, working_prec, options)\n\u001b[0;32m    698\u001b[0m \u001b[38;5;28;01mif\u001b[39;00m re \u001b[38;5;129;01mand\u001b[39;00m im:\n\u001b[0;32m    699\u001b[0m     complex_factors\u001b[38;5;241m.\u001b[39mappend((re, im, re_acc, im_acc))\n",
      "File \u001b[1;32mc:\\Users\\Ruslan\\.conda\\envs\\learning_env\\Lib\\site-packages\\sympy\\core\\evalf.py:1483\u001b[0m, in \u001b[0;36mevalf\u001b[1;34m(x, prec, options)\u001b[0m\n\u001b[0;32m   1481\u001b[0m \u001b[38;5;28;01mtry\u001b[39;00m:\n\u001b[0;32m   1482\u001b[0m     rf \u001b[38;5;241m=\u001b[39m evalf_table[\u001b[38;5;28mtype\u001b[39m(x)]\n\u001b[1;32m-> 1483\u001b[0m     r \u001b[38;5;241m=\u001b[39m rf(x, prec, options)\n\u001b[0;32m   1484\u001b[0m \u001b[38;5;28;01mexcept\u001b[39;00m \u001b[38;5;167;01mKeyError\u001b[39;00m:\n\u001b[0;32m   1485\u001b[0m     \u001b[38;5;66;03m# Fall back to ordinary evalf if possible\u001b[39;00m\n\u001b[0;32m   1486\u001b[0m     \u001b[38;5;28;01mif\u001b[39;00m \u001b[38;5;124m'\u001b[39m\u001b[38;5;124msubs\u001b[39m\u001b[38;5;124m'\u001b[39m \u001b[38;5;129;01min\u001b[39;00m options:\n",
      "File \u001b[1;32mc:\\Users\\Ruslan\\.conda\\envs\\learning_env\\Lib\\site-packages\\sympy\\core\\evalf.py:491\u001b[0m, in \u001b[0;36mevalf_integer\u001b[1;34m(expr, prec, options)\u001b[0m\n\u001b[0;32m    490\u001b[0m \u001b[38;5;28;01mdef\u001b[39;00m \u001b[38;5;21mevalf_integer\u001b[39m(expr: \u001b[38;5;124m'\u001b[39m\u001b[38;5;124mInteger\u001b[39m\u001b[38;5;124m'\u001b[39m, prec: \u001b[38;5;28mint\u001b[39m, options: OPT_DICT) \u001b[38;5;241m-\u001b[39m\u001b[38;5;241m>\u001b[39m TMP_RES:\n\u001b[1;32m--> 491\u001b[0m     \u001b[38;5;28;01mreturn\u001b[39;00m from_int(expr\u001b[38;5;241m.\u001b[39mp, prec), \u001b[38;5;28;01mNone\u001b[39;00m, prec, \u001b[38;5;28;01mNone\u001b[39;00m\n",
      "File \u001b[1;32mc:\\Users\\Ruslan\\.conda\\envs\\learning_env\\Lib\\site-packages\\mpmath\\libmp\\libmpf.py:330\u001b[0m, in \u001b[0;36mfrom_int\u001b[1;34m(n, prec, rnd)\u001b[0m\n\u001b[0;32m    327\u001b[0m \u001b[38;5;28;01mif\u001b[39;00m BACKEND \u001b[38;5;241m==\u001b[39m \u001b[38;5;124m'\u001b[39m\u001b[38;5;124msage\u001b[39m\u001b[38;5;124m'\u001b[39m:\n\u001b[0;32m    328\u001b[0m     from_man_exp \u001b[38;5;241m=\u001b[39m sage_utils\u001b[38;5;241m.\u001b[39mfrom_man_exp\n\u001b[1;32m--> 330\u001b[0m \u001b[38;5;28;01mdef\u001b[39;00m \u001b[38;5;21mfrom_int\u001b[39m(n, prec\u001b[38;5;241m=\u001b[39m\u001b[38;5;241m0\u001b[39m, rnd\u001b[38;5;241m=\u001b[39mround_fast):\n\u001b[0;32m    331\u001b[0m \u001b[38;5;250m    \u001b[39m\u001b[38;5;124;03m\"\"\"Create a raw mpf from an integer. If no precision is specified,\u001b[39;00m\n\u001b[0;32m    332\u001b[0m \u001b[38;5;124;03m    the mantissa is stored exactly.\"\"\"\u001b[39;00m\n\u001b[0;32m    333\u001b[0m     \u001b[38;5;28;01mif\u001b[39;00m \u001b[38;5;129;01mnot\u001b[39;00m prec:\n",
      "\u001b[1;31mKeyboardInterrupt\u001b[0m: "
     ]
    }
   ],
   "source": [
    "M_0_domain = sp.solve([M_0], [k], domain=sp.S.Reals)\n",
    "print(M_0_domain)\n",
    "M_0_domain"
   ]
  },
  {
   "cell_type": "code",
   "execution_count": null,
   "metadata": {},
   "outputs": [
    {
     "name": "stdout",
     "output_type": "stream",
     "text": [
      "[-1, 1/2, 3**(1/3)*(-(sqrt(1293) + 36)**(2/3) - 3**(1/3))/(3*(sqrt(1293) + 36)**(1/3))]\n"
     ]
    }
   ],
   "source": [
    "reals = []\n",
    "for m_is_eq_0 in M_0_domain:\n",
    "    if (m_is_eq_0[0].is_real):\n",
    "        reals.append(m_is_eq_0[0])\n",
    "print(reals)"
   ]
  },
  {
   "cell_type": "code",
   "execution_count": null,
   "metadata": {},
   "outputs": [
    {
     "name": "stdout",
     "output_type": "stream",
     "text": [
      "Решения неравенства M_0 > 0: Interval(3**(1/3)*(-(sqrt(1293) + 36)**(2/3) - 3**(1/3))/(3*(sqrt(1293) + 36)**(1/3)), oo)\n"
     ]
    },
    {
     "data": {
      "text/latex": [
       "$\\displaystyle \\left[\\frac{\\sqrt[3]{3} \\left(- \\left(\\sqrt{1293} + 36\\right)^{\\frac{2}{3}} - \\sqrt[3]{3}\\right)}{3 \\sqrt[3]{\\sqrt{1293} + 36}}, \\infty\\right)$"
      ],
      "text/plain": [
       "Interval(3**(1/3)*(-(sqrt(1293) + 36)**(2/3) - 3**(1/3))/(3*(sqrt(1293) + 36)**(1/3)), oo)"
      ]
     },
     "execution_count": 85,
     "metadata": {},
     "output_type": "execute_result"
    }
   ],
   "source": [
    "# Если мы хотим найти решение для M_0 > 0, то проверим знаки на интервалах, образованных корнями\n",
    "epsilon = 1e-6  # допустимая погрешность\n",
    "domain = sp.S.EmptySet  # начальное пустое множество\n",
    "\n",
    "# Перебираем корни, чтобы найти интервал, где M_0 > 0\n",
    "last = -sp.S.Infinity  # Начальная точка (минус бесконечность)\n",
    "for real in reals:\n",
    "    # Проверяем интервал между корнями\n",
    "    if real - epsilon > 0:\n",
    "        # Добавляем интервал, где M_0 > 0\n",
    "        domain = domain.union(sp.Interval(last, real))\n",
    "    last = real\n",
    "\n",
    "# Если после последнего корня M_0 > 0, то добавляем интервал от последнего корня до +∞\n",
    "domain = domain.union(sp.Interval(last, sp.S.Infinity))\n",
    "\n",
    "print(\"Решения неравенства M_0 > 0:\", domain)\n",
    "domain"
   ]
  },
  {
   "cell_type": "code",
   "execution_count": null,
   "metadata": {},
   "outputs": [
    {
     "name": "stdout",
     "output_type": "stream",
     "text": [
      "-2.16631274739779\n"
     ]
    }
   ],
   "source": [
    "print(domain.start.evalf())"
   ]
  },
  {
   "cell_type": "code",
   "execution_count": null,
   "metadata": {},
   "outputs": [],
   "source": []
  },
  {
   "cell_type": "code",
   "execution_count": null,
   "metadata": {},
   "outputs": [],
   "source": []
  }
 ],
 "metadata": {
  "kernelspec": {
   "display_name": "learning_env",
   "language": "python",
   "name": "python3"
  },
  "language_info": {
   "codemirror_mode": {
    "name": "ipython",
    "version": 3
   },
   "file_extension": ".py",
   "mimetype": "text/x-python",
   "name": "python",
   "nbconvert_exporter": "python",
   "pygments_lexer": "ipython3",
   "version": "3.11.9"
  }
 },
 "nbformat": 4,
 "nbformat_minor": 2
}
